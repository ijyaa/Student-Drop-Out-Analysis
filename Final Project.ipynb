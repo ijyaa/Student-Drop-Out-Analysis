{
 "cells": [
  {
   "cell_type": "code",
   "execution_count": 1,
   "metadata": {},
   "outputs": [],
   "source": [
    "import pandas as pd\n",
    "import numpy as np\n",
    "import scipy\n",
    "import matplotlib.pyplot as plt\n",
    "from sklearn import tree\n",
    "from IPython.display import Image\n",
    "import pydotplus\n",
    "import graphviz\n",
    "import random\n",
    "import re\n",
    "from sklearn.model_selection import train_test_split\n",
    "from sklearn.ensemble import RandomForestClassifier\n",
    "from sklearn.neighbors import KNeighborsClassifier\n",
    "from sklearn.metrics import accuracy_score\n",
    "import matplotlib.pyplot as plt\n",
    "import seaborn as sns\n",
    "%matplotlib inline\n",
    "from sklearn import linear_model,svm\n",
    "from sklearn.metrics import average_precision_score\n",
    "from sklearn.metrics import precision_recall_curve\n",
    "import warnings\n",
    "warnings.filterwarnings('ignore')\n",
    "%matplotlib inline"
   ]
  },
  {
   "cell_type": "code",
   "execution_count": 2,
   "metadata": {},
   "outputs": [
    {
     "name": "stdout",
     "output_type": "stream",
     "text": [
      "/Users/ijyapaudel\n"
     ]
    }
   ],
   "source": [
    "cd"
   ]
  },
  {
   "cell_type": "code",
   "execution_count": 3,
   "metadata": {},
   "outputs": [
    {
     "data": {
      "text/plain": [
       "'/Users/ijyapaudel'"
      ]
     },
     "execution_count": 3,
     "metadata": {},
     "output_type": "execute_result"
    }
   ],
   "source": [
    "import os \n",
    "os.getcwd()"
   ]
  },
  {
   "cell_type": "code",
   "execution_count": 4,
   "metadata": {},
   "outputs": [
    {
     "name": "stdout",
     "output_type": "stream",
     "text": [
      "/Users/ijyapaudel/Desktop\n"
     ]
    }
   ],
   "source": [
    "cd Desktop"
   ]
  },
  {
   "cell_type": "code",
   "execution_count": 5,
   "metadata": {},
   "outputs": [
    {
     "name": "stdout",
     "output_type": "stream",
     "text": [
      "/Users/ijyapaudel/Desktop/Thinkful\n"
     ]
    }
   ],
   "source": [
    "cd Thinkful"
   ]
  },
  {
   "cell_type": "code",
   "execution_count": 6,
   "metadata": {},
   "outputs": [
    {
     "name": "stdout",
     "output_type": "stream",
     "text": [
      "\u001b[34mBayes\u001b[m\u001b[m/               \u001b[34mPCA\u001b[m\u001b[m/                 \u001b[34mStat\u001b[m\u001b[m/\r\n",
      "\u001b[34mCapstone\u001b[m\u001b[m/            \u001b[34mPlotting \u001b[m\u001b[m/           \u001b[34mT-Testing\u001b[m\u001b[m/\r\n",
      "\u001b[34mCapstone Project\u001b[m\u001b[m/    \u001b[34mPython Fundamentals\u001b[m\u001b[m/ Untitled.pages\r\n",
      "\u001b[34mCleaning Data\u001b[m\u001b[m/       \u001b[34mSQL\u001b[m\u001b[m/\r\n"
     ]
    }
   ],
   "source": [
    "ls"
   ]
  },
  {
   "cell_type": "code",
   "execution_count": 7,
   "metadata": {},
   "outputs": [
    {
     "name": "stdout",
     "output_type": "stream",
     "text": [
      "/Users/ijyapaudel/Desktop/Thinkful/Capstone\n"
     ]
    }
   ],
   "source": [
    "cd Capstone"
   ]
  },
  {
   "cell_type": "markdown",
   "metadata": {},
   "source": [
    "# Using machine learning to predict student drop out rates:\n",
    "\n",
    "This project aims to predict student drop out rates based on data provided by College Scoreboard (https://collegescorecard.ed.gov). The aim is to predict student drop outs rates that can be used by both students and colleges. The project aims to address issues faced by two different stakeholders: colleges vs. students. \n",
    "\n",
    "### Stakeholder # 1: Colleges\n",
    "\n",
    "Our main stakeholders are colleges / universities. Student drop-out rate is a concern for colleges as it results in decreased revenue as well as causes reputational problems. It may also showcase opportunities of improvement in parts of colleges such as provided better resources and guidances for students that may benefit from it. \n",
    "\n",
    "### Stakeholer # 2: Students\n",
    "\n",
    "Our second stakeholders are students who can use this data to see what schools / colleges have the lowest predicted drop-out rates in the future. They can use this to make decisions regarding their decision to attend a particular college vs. other. It might also be a tool for students to hedge their risks. \n",
    "\n",
    "### Data:\n",
    "\n",
    "The data will look at various datasets from College Scoreboard. Each dataset is divided by years from 2007 - 2017. The dataset is quite extensive and when combined from 2010 - 2017, there are over 1,977 features and over 50,000 rows. To reduce complexity of the project and ensure we're addressing each stakeholder differently, I have decided to do analysis in two parts. \n",
    "\n",
    "### First Approach in Analysis for Colleges as Stakeholders:\n",
    "\n",
    "As my initial stakeholders are colleges - I have decided to look at various factors that impact student dropout here acknowledging that colleges would be more interested in predicting what causes drop outs versus the actual rates of drop outs. Here, what is important is the features causing high drop out rates.\n",
    "\n",
    "To do this, I have chosen to look at two different datasets. The target (drop out rate) will come from dataset 2016's Year 2 Drop-Out Columns (WDRAW_ORIG_YR2_RT) and the features will come from the year 2014-2015 dataset. This division is done as the Year 2 Drop Out Column in 2016 is referring to drop out rates from the cohort of 2014 - 2015. \n",
    "\n",
    "I will set the Drop-Out Rate as a target and use features from year 2014 - 2015 to see what is influencing drop out rates through evaluating Feature Importance. I will also run this model through supervised / unsupervised learning models to predict drop out rates. "
   ]
  },
  {
   "cell_type": "markdown",
   "metadata": {},
   "source": [
    "# Import all datasets: \n",
    "\n",
    "- Imported data from 2006 - 2017. \n",
    "- Confirmed all datasets had same column names"
   ]
  },
  {
   "cell_type": "code",
   "execution_count": 8,
   "metadata": {},
   "outputs": [],
   "source": [
    "df_2006 = pd.read_csv('2005-2006.csv')"
   ]
  },
  {
   "cell_type": "code",
   "execution_count": 9,
   "metadata": {},
   "outputs": [],
   "source": [
    "df_2007 = pd.read_csv('2006-2007.csv')\n",
    "df_2008 = pd.read_csv('2007-2008.csv')\n",
    "df_2009 = pd.read_csv('2008-2009.csv')\n",
    "df_2010 = pd.read_csv('2009-2010.csv') #Academic year 9 - 10\n",
    "df_2011 = pd.read_csv('2010-2011.csv') #Academic year 10 - 11\n",
    "df_2012 = pd.read_csv('2012-2013.csv') #Academic year 12 - 13\n",
    "df_2013 = pd.read_csv('2013-2014.csv') #Academic year 13 - 14\n",
    "df_2014 = pd.read_csv('2014-2015.csv') #Academic year 14 - 15\n",
    "df_2015 = pd.read_csv('2015-2016.csv') #Academic year 15 - 16 \n",
    "df_2016 = pd.read_csv('2016-2017.csv') #Academic year 16 - 17\n",
    "df_2017 = pd.read_csv('2017-2018.csv') #Academic year 17 - 18"
   ]
  },
  {
   "cell_type": "markdown",
   "metadata": {},
   "source": [
    "# College Stakeholder Analysis:\n",
    "\n",
    "For this, I picked the dataset 2014's Year 2 withdraw rate as target data and used features from 2012 dataset. The reasoning is the Year 2 data on 2014 dataset refers to cohort of 2012 - 2013. Therefore, to understand the drop out rates reported in 2014, we have to evaluate features from the 2012 - 2013 dataset. \n",
    "\n",
    "To do this, I extracted the target variable from the 2014 dataset and added it to the 2012 dataset with the exisiting features. I then removed unnecessary features and created a new dataset title \"df_college\" in which I will run my analysis."
   ]
  },
  {
   "cell_type": "code",
   "execution_count": 10,
   "metadata": {},
   "outputs": [
    {
     "data": {
      "text/html": [
       "<div>\n",
       "<style scoped>\n",
       "    .dataframe tbody tr th:only-of-type {\n",
       "        vertical-align: middle;\n",
       "    }\n",
       "\n",
       "    .dataframe tbody tr th {\n",
       "        vertical-align: top;\n",
       "    }\n",
       "\n",
       "    .dataframe thead th {\n",
       "        text-align: right;\n",
       "    }\n",
       "</style>\n",
       "<table border=\"1\" class=\"dataframe\">\n",
       "  <thead>\n",
       "    <tr style=\"text-align: right;\">\n",
       "      <th></th>\n",
       "      <th>UNITID</th>\n",
       "      <th>OPEID</th>\n",
       "      <th>OPEID6</th>\n",
       "      <th>INSTNM</th>\n",
       "      <th>CITY</th>\n",
       "      <th>STABBR</th>\n",
       "      <th>ZIP</th>\n",
       "      <th>ACCREDAGENCY</th>\n",
       "      <th>INSTURL</th>\n",
       "      <th>NPCURL</th>\n",
       "      <th>...</th>\n",
       "      <th>OMAWDP8_NOTFIRSTTIME_POOLED_SUPP</th>\n",
       "      <th>OMENRUP_NOTFIRSTTIME_POOLED_SUPP</th>\n",
       "      <th>OMENRYP_FULLTIME_POOLED_SUPP</th>\n",
       "      <th>OMENRAP_FULLTIME_POOLED_SUPP</th>\n",
       "      <th>OMAWDP8_FULLTIME_POOLED_SUPP</th>\n",
       "      <th>OMENRUP_FULLTIME_POOLED_SUPP</th>\n",
       "      <th>OMENRYP_PARTTIME_POOLED_SUPP</th>\n",
       "      <th>OMENRAP_PARTTIME_POOLED_SUPP</th>\n",
       "      <th>OMAWDP8_PARTTIME_POOLED_SUPP</th>\n",
       "      <th>OMENRUP_PARTTIME_POOLED_SUPP</th>\n",
       "    </tr>\n",
       "  </thead>\n",
       "  <tbody>\n",
       "    <tr>\n",
       "      <th>0</th>\n",
       "      <td>100654</td>\n",
       "      <td>100200</td>\n",
       "      <td>1002</td>\n",
       "      <td>Alabama A &amp; M University</td>\n",
       "      <td>Normal</td>\n",
       "      <td>AL</td>\n",
       "      <td>35762</td>\n",
       "      <td>NaN</td>\n",
       "      <td>NaN</td>\n",
       "      <td>NaN</td>\n",
       "      <td>...</td>\n",
       "      <td>NaN</td>\n",
       "      <td>NaN</td>\n",
       "      <td>NaN</td>\n",
       "      <td>NaN</td>\n",
       "      <td>NaN</td>\n",
       "      <td>NaN</td>\n",
       "      <td>NaN</td>\n",
       "      <td>NaN</td>\n",
       "      <td>NaN</td>\n",
       "      <td>NaN</td>\n",
       "    </tr>\n",
       "    <tr>\n",
       "      <th>1</th>\n",
       "      <td>100663</td>\n",
       "      <td>105200</td>\n",
       "      <td>1052</td>\n",
       "      <td>University of Alabama at Birmingham</td>\n",
       "      <td>Birmingham</td>\n",
       "      <td>AL</td>\n",
       "      <td>35294-0110</td>\n",
       "      <td>NaN</td>\n",
       "      <td>NaN</td>\n",
       "      <td>NaN</td>\n",
       "      <td>...</td>\n",
       "      <td>NaN</td>\n",
       "      <td>NaN</td>\n",
       "      <td>NaN</td>\n",
       "      <td>NaN</td>\n",
       "      <td>NaN</td>\n",
       "      <td>NaN</td>\n",
       "      <td>NaN</td>\n",
       "      <td>NaN</td>\n",
       "      <td>NaN</td>\n",
       "      <td>NaN</td>\n",
       "    </tr>\n",
       "    <tr>\n",
       "      <th>2</th>\n",
       "      <td>100690</td>\n",
       "      <td>2503400</td>\n",
       "      <td>25034</td>\n",
       "      <td>Amridge University</td>\n",
       "      <td>Montgomery</td>\n",
       "      <td>AL</td>\n",
       "      <td>36117-3553</td>\n",
       "      <td>NaN</td>\n",
       "      <td>NaN</td>\n",
       "      <td>NaN</td>\n",
       "      <td>...</td>\n",
       "      <td>NaN</td>\n",
       "      <td>NaN</td>\n",
       "      <td>NaN</td>\n",
       "      <td>NaN</td>\n",
       "      <td>NaN</td>\n",
       "      <td>NaN</td>\n",
       "      <td>NaN</td>\n",
       "      <td>NaN</td>\n",
       "      <td>NaN</td>\n",
       "      <td>NaN</td>\n",
       "    </tr>\n",
       "    <tr>\n",
       "      <th>3</th>\n",
       "      <td>100706</td>\n",
       "      <td>105500</td>\n",
       "      <td>1055</td>\n",
       "      <td>University of Alabama in Huntsville</td>\n",
       "      <td>Huntsville</td>\n",
       "      <td>AL</td>\n",
       "      <td>35899</td>\n",
       "      <td>NaN</td>\n",
       "      <td>NaN</td>\n",
       "      <td>NaN</td>\n",
       "      <td>...</td>\n",
       "      <td>NaN</td>\n",
       "      <td>NaN</td>\n",
       "      <td>NaN</td>\n",
       "      <td>NaN</td>\n",
       "      <td>NaN</td>\n",
       "      <td>NaN</td>\n",
       "      <td>NaN</td>\n",
       "      <td>NaN</td>\n",
       "      <td>NaN</td>\n",
       "      <td>NaN</td>\n",
       "    </tr>\n",
       "    <tr>\n",
       "      <th>4</th>\n",
       "      <td>100724</td>\n",
       "      <td>100500</td>\n",
       "      <td>1005</td>\n",
       "      <td>Alabama State University</td>\n",
       "      <td>Montgomery</td>\n",
       "      <td>AL</td>\n",
       "      <td>36104-0271</td>\n",
       "      <td>NaN</td>\n",
       "      <td>NaN</td>\n",
       "      <td>NaN</td>\n",
       "      <td>...</td>\n",
       "      <td>NaN</td>\n",
       "      <td>NaN</td>\n",
       "      <td>NaN</td>\n",
       "      <td>NaN</td>\n",
       "      <td>NaN</td>\n",
       "      <td>NaN</td>\n",
       "      <td>NaN</td>\n",
       "      <td>NaN</td>\n",
       "      <td>NaN</td>\n",
       "      <td>NaN</td>\n",
       "    </tr>\n",
       "  </tbody>\n",
       "</table>\n",
       "<p>5 rows × 1977 columns</p>\n",
       "</div>"
      ],
      "text/plain": [
       "   UNITID    OPEID  OPEID6                               INSTNM        CITY  \\\n",
       "0  100654   100200    1002             Alabama A & M University      Normal   \n",
       "1  100663   105200    1052  University of Alabama at Birmingham  Birmingham   \n",
       "2  100690  2503400   25034                   Amridge University  Montgomery   \n",
       "3  100706   105500    1055  University of Alabama in Huntsville  Huntsville   \n",
       "4  100724   100500    1005             Alabama State University  Montgomery   \n",
       "\n",
       "  STABBR         ZIP  ACCREDAGENCY  INSTURL  NPCURL  \\\n",
       "0     AL       35762           NaN      NaN     NaN   \n",
       "1     AL  35294-0110           NaN      NaN     NaN   \n",
       "2     AL  36117-3553           NaN      NaN     NaN   \n",
       "3     AL       35899           NaN      NaN     NaN   \n",
       "4     AL  36104-0271           NaN      NaN     NaN   \n",
       "\n",
       "               ...               OMAWDP8_NOTFIRSTTIME_POOLED_SUPP  \\\n",
       "0              ...                                            NaN   \n",
       "1              ...                                            NaN   \n",
       "2              ...                                            NaN   \n",
       "3              ...                                            NaN   \n",
       "4              ...                                            NaN   \n",
       "\n",
       "   OMENRUP_NOTFIRSTTIME_POOLED_SUPP  OMENRYP_FULLTIME_POOLED_SUPP  \\\n",
       "0                               NaN                           NaN   \n",
       "1                               NaN                           NaN   \n",
       "2                               NaN                           NaN   \n",
       "3                               NaN                           NaN   \n",
       "4                               NaN                           NaN   \n",
       "\n",
       "   OMENRAP_FULLTIME_POOLED_SUPP  OMAWDP8_FULLTIME_POOLED_SUPP  \\\n",
       "0                           NaN                           NaN   \n",
       "1                           NaN                           NaN   \n",
       "2                           NaN                           NaN   \n",
       "3                           NaN                           NaN   \n",
       "4                           NaN                           NaN   \n",
       "\n",
       "   OMENRUP_FULLTIME_POOLED_SUPP  OMENRYP_PARTTIME_POOLED_SUPP  \\\n",
       "0                           NaN                           NaN   \n",
       "1                           NaN                           NaN   \n",
       "2                           NaN                           NaN   \n",
       "3                           NaN                           NaN   \n",
       "4                           NaN                           NaN   \n",
       "\n",
       "   OMENRAP_PARTTIME_POOLED_SUPP  OMAWDP8_PARTTIME_POOLED_SUPP  \\\n",
       "0                           NaN                           NaN   \n",
       "1                           NaN                           NaN   \n",
       "2                           NaN                           NaN   \n",
       "3                           NaN                           NaN   \n",
       "4                           NaN                           NaN   \n",
       "\n",
       "   OMENRUP_PARTTIME_POOLED_SUPP  \n",
       "0                           NaN  \n",
       "1                           NaN  \n",
       "2                           NaN  \n",
       "3                           NaN  \n",
       "4                           NaN  \n",
       "\n",
       "[5 rows x 1977 columns]"
      ]
     },
     "execution_count": 10,
     "metadata": {},
     "output_type": "execute_result"
    }
   ],
   "source": [
    "df_2012.head()"
   ]
  },
  {
   "cell_type": "code",
   "execution_count": 11,
   "metadata": {},
   "outputs": [
    {
     "data": {
      "text/html": [
       "<div>\n",
       "<style scoped>\n",
       "    .dataframe tbody tr th:only-of-type {\n",
       "        vertical-align: middle;\n",
       "    }\n",
       "\n",
       "    .dataframe tbody tr th {\n",
       "        vertical-align: top;\n",
       "    }\n",
       "\n",
       "    .dataframe thead th {\n",
       "        text-align: right;\n",
       "    }\n",
       "</style>\n",
       "<table border=\"1\" class=\"dataframe\">\n",
       "  <thead>\n",
       "    <tr style=\"text-align: right;\">\n",
       "      <th></th>\n",
       "      <th>UNITID</th>\n",
       "      <th>OPEID</th>\n",
       "      <th>OPEID6</th>\n",
       "      <th>INSTNM</th>\n",
       "      <th>CITY</th>\n",
       "      <th>STABBR</th>\n",
       "      <th>ZIP</th>\n",
       "      <th>ACCREDAGENCY</th>\n",
       "      <th>INSTURL</th>\n",
       "      <th>NPCURL</th>\n",
       "      <th>...</th>\n",
       "      <th>OMAWDP8_NOTFIRSTTIME_POOLED_SUPP</th>\n",
       "      <th>OMENRUP_NOTFIRSTTIME_POOLED_SUPP</th>\n",
       "      <th>OMENRYP_FULLTIME_POOLED_SUPP</th>\n",
       "      <th>OMENRAP_FULLTIME_POOLED_SUPP</th>\n",
       "      <th>OMAWDP8_FULLTIME_POOLED_SUPP</th>\n",
       "      <th>OMENRUP_FULLTIME_POOLED_SUPP</th>\n",
       "      <th>OMENRYP_PARTTIME_POOLED_SUPP</th>\n",
       "      <th>OMENRAP_PARTTIME_POOLED_SUPP</th>\n",
       "      <th>OMAWDP8_PARTTIME_POOLED_SUPP</th>\n",
       "      <th>OMENRUP_PARTTIME_POOLED_SUPP</th>\n",
       "    </tr>\n",
       "  </thead>\n",
       "  <tbody>\n",
       "    <tr>\n",
       "      <th>0</th>\n",
       "      <td>100654</td>\n",
       "      <td>100200</td>\n",
       "      <td>1002</td>\n",
       "      <td>Alabama A &amp; M University</td>\n",
       "      <td>Normal</td>\n",
       "      <td>AL</td>\n",
       "      <td>35762</td>\n",
       "      <td>NaN</td>\n",
       "      <td>NaN</td>\n",
       "      <td>NaN</td>\n",
       "      <td>...</td>\n",
       "      <td>NaN</td>\n",
       "      <td>NaN</td>\n",
       "      <td>NaN</td>\n",
       "      <td>NaN</td>\n",
       "      <td>NaN</td>\n",
       "      <td>NaN</td>\n",
       "      <td>NaN</td>\n",
       "      <td>NaN</td>\n",
       "      <td>NaN</td>\n",
       "      <td>NaN</td>\n",
       "    </tr>\n",
       "    <tr>\n",
       "      <th>1</th>\n",
       "      <td>100663</td>\n",
       "      <td>105200</td>\n",
       "      <td>1052</td>\n",
       "      <td>University of Alabama at Birmingham</td>\n",
       "      <td>Birmingham</td>\n",
       "      <td>AL</td>\n",
       "      <td>35294-0110</td>\n",
       "      <td>NaN</td>\n",
       "      <td>NaN</td>\n",
       "      <td>NaN</td>\n",
       "      <td>...</td>\n",
       "      <td>NaN</td>\n",
       "      <td>NaN</td>\n",
       "      <td>NaN</td>\n",
       "      <td>NaN</td>\n",
       "      <td>NaN</td>\n",
       "      <td>NaN</td>\n",
       "      <td>NaN</td>\n",
       "      <td>NaN</td>\n",
       "      <td>NaN</td>\n",
       "      <td>NaN</td>\n",
       "    </tr>\n",
       "    <tr>\n",
       "      <th>2</th>\n",
       "      <td>100690</td>\n",
       "      <td>2503400</td>\n",
       "      <td>25034</td>\n",
       "      <td>Amridge University</td>\n",
       "      <td>Montgomery</td>\n",
       "      <td>AL</td>\n",
       "      <td>36117-3553</td>\n",
       "      <td>NaN</td>\n",
       "      <td>NaN</td>\n",
       "      <td>NaN</td>\n",
       "      <td>...</td>\n",
       "      <td>NaN</td>\n",
       "      <td>NaN</td>\n",
       "      <td>NaN</td>\n",
       "      <td>NaN</td>\n",
       "      <td>NaN</td>\n",
       "      <td>NaN</td>\n",
       "      <td>NaN</td>\n",
       "      <td>NaN</td>\n",
       "      <td>NaN</td>\n",
       "      <td>NaN</td>\n",
       "    </tr>\n",
       "    <tr>\n",
       "      <th>3</th>\n",
       "      <td>100706</td>\n",
       "      <td>105500</td>\n",
       "      <td>1055</td>\n",
       "      <td>University of Alabama in Huntsville</td>\n",
       "      <td>Huntsville</td>\n",
       "      <td>AL</td>\n",
       "      <td>35899</td>\n",
       "      <td>NaN</td>\n",
       "      <td>NaN</td>\n",
       "      <td>NaN</td>\n",
       "      <td>...</td>\n",
       "      <td>NaN</td>\n",
       "      <td>NaN</td>\n",
       "      <td>NaN</td>\n",
       "      <td>NaN</td>\n",
       "      <td>NaN</td>\n",
       "      <td>NaN</td>\n",
       "      <td>NaN</td>\n",
       "      <td>NaN</td>\n",
       "      <td>NaN</td>\n",
       "      <td>NaN</td>\n",
       "    </tr>\n",
       "    <tr>\n",
       "      <th>4</th>\n",
       "      <td>100724</td>\n",
       "      <td>100500</td>\n",
       "      <td>1005</td>\n",
       "      <td>Alabama State University</td>\n",
       "      <td>Montgomery</td>\n",
       "      <td>AL</td>\n",
       "      <td>36104-0271</td>\n",
       "      <td>NaN</td>\n",
       "      <td>NaN</td>\n",
       "      <td>NaN</td>\n",
       "      <td>...</td>\n",
       "      <td>NaN</td>\n",
       "      <td>NaN</td>\n",
       "      <td>NaN</td>\n",
       "      <td>NaN</td>\n",
       "      <td>NaN</td>\n",
       "      <td>NaN</td>\n",
       "      <td>NaN</td>\n",
       "      <td>NaN</td>\n",
       "      <td>NaN</td>\n",
       "      <td>NaN</td>\n",
       "    </tr>\n",
       "  </tbody>\n",
       "</table>\n",
       "<p>5 rows × 1977 columns</p>\n",
       "</div>"
      ],
      "text/plain": [
       "   UNITID    OPEID  OPEID6                               INSTNM        CITY  \\\n",
       "0  100654   100200    1002             Alabama A & M University      Normal   \n",
       "1  100663   105200    1052  University of Alabama at Birmingham  Birmingham   \n",
       "2  100690  2503400   25034                   Amridge University  Montgomery   \n",
       "3  100706   105500    1055  University of Alabama in Huntsville  Huntsville   \n",
       "4  100724   100500    1005             Alabama State University  Montgomery   \n",
       "\n",
       "  STABBR         ZIP  ACCREDAGENCY  INSTURL  NPCURL  \\\n",
       "0     AL       35762           NaN      NaN     NaN   \n",
       "1     AL  35294-0110           NaN      NaN     NaN   \n",
       "2     AL  36117-3553           NaN      NaN     NaN   \n",
       "3     AL       35899           NaN      NaN     NaN   \n",
       "4     AL  36104-0271           NaN      NaN     NaN   \n",
       "\n",
       "               ...               OMAWDP8_NOTFIRSTTIME_POOLED_SUPP  \\\n",
       "0              ...                                            NaN   \n",
       "1              ...                                            NaN   \n",
       "2              ...                                            NaN   \n",
       "3              ...                                            NaN   \n",
       "4              ...                                            NaN   \n",
       "\n",
       "   OMENRUP_NOTFIRSTTIME_POOLED_SUPP  OMENRYP_FULLTIME_POOLED_SUPP  \\\n",
       "0                               NaN                           NaN   \n",
       "1                               NaN                           NaN   \n",
       "2                               NaN                           NaN   \n",
       "3                               NaN                           NaN   \n",
       "4                               NaN                           NaN   \n",
       "\n",
       "   OMENRAP_FULLTIME_POOLED_SUPP  OMAWDP8_FULLTIME_POOLED_SUPP  \\\n",
       "0                           NaN                           NaN   \n",
       "1                           NaN                           NaN   \n",
       "2                           NaN                           NaN   \n",
       "3                           NaN                           NaN   \n",
       "4                           NaN                           NaN   \n",
       "\n",
       "   OMENRUP_FULLTIME_POOLED_SUPP  OMENRYP_PARTTIME_POOLED_SUPP  \\\n",
       "0                           NaN                           NaN   \n",
       "1                           NaN                           NaN   \n",
       "2                           NaN                           NaN   \n",
       "3                           NaN                           NaN   \n",
       "4                           NaN                           NaN   \n",
       "\n",
       "   OMENRAP_PARTTIME_POOLED_SUPP  OMAWDP8_PARTTIME_POOLED_SUPP  \\\n",
       "0                           NaN                           NaN   \n",
       "1                           NaN                           NaN   \n",
       "2                           NaN                           NaN   \n",
       "3                           NaN                           NaN   \n",
       "4                           NaN                           NaN   \n",
       "\n",
       "   OMENRUP_PARTTIME_POOLED_SUPP  \n",
       "0                           NaN  \n",
       "1                           NaN  \n",
       "2                           NaN  \n",
       "3                           NaN  \n",
       "4                           NaN  \n",
       "\n",
       "[5 rows x 1977 columns]"
      ]
     },
     "execution_count": 11,
     "metadata": {},
     "output_type": "execute_result"
    }
   ],
   "source": [
    "df_2014.head()"
   ]
  },
  {
   "cell_type": "markdown",
   "metadata": {},
   "source": [
    "# Data Cleaning:\n",
    "\n",
    "The initial dataset is really large. There are over 1,977 features in the dataset so, it was important to make sure that the data was properly prepared for analysis.\n",
    "\n",
    "The first step was to set index to \"UNITID\", this way - we can be sure that data matches up to correct colleges for both datasets. \n",
    "\n",
    "I also removed all missing values and replaced them with 0's. A lot of columns also had confidential information and were listed as \"PrivacySuppressed\" so,  I also replaced \"PrivacySuppressed\" with 0's. \n",
    "\n",
    "Most of the data types for the dataset were floats so, I also converted data types to floats to prepare for modelling. "
   ]
  },
  {
   "cell_type": "code",
   "execution_count": 12,
   "metadata": {},
   "outputs": [],
   "source": [
    "df_2014 = df_2014.set_index('UNITID')"
   ]
  },
  {
   "cell_type": "code",
   "execution_count": 13,
   "metadata": {},
   "outputs": [],
   "source": [
    "df_2012 = df_2012.set_index('UNITID')"
   ]
  },
  {
   "cell_type": "code",
   "execution_count": 14,
   "metadata": {},
   "outputs": [],
   "source": [
    "df_2012 = df_2012.join(df_2014['WDRAW_ORIG_YR2_RT'], rsuffix = 'New')"
   ]
  },
  {
   "cell_type": "code",
   "execution_count": 15,
   "metadata": {},
   "outputs": [],
   "source": [
    "df_2012['WDRAW_ORIG_YR2_RTNew'] = df_2012['WDRAW_ORIG_YR2_RTNew'].fillna(0)\n",
    "df_2012['WDRAW_ORIG_YR2_RTNew'] = df_2012['WDRAW_ORIG_YR2_RTNew'].replace(['PrivacySuppressed'], [0])\n",
    "df_2012['WDRAW_ORIG_YR2_RTNew'] = df_2012['WDRAW_ORIG_YR2_RTNew'].astype(float)\n",
    "df_2012['WDRAW_ORIG_YR2_RT'] = df_2012['WDRAW_ORIG_YR2_RT'].fillna(0)\n",
    "df_2012['WDRAW_ORIG_YR2_RT'] = df_2012['WDRAW_ORIG_YR2_RT'].replace(['PrivacySuppressed'], [0])\n",
    "df_2012['WDRAW_ORIG_YR2_RT'] = df_2012['WDRAW_ORIG_YR2_RT'].astype(float)\n",
    "df_2012['WDRAW_ORIG_YR4_RT'] = df_2012['WDRAW_ORIG_YR4_RT'].fillna(0)\n",
    "df_2012['WDRAW_ORIG_YR4_RT'] = df_2012['WDRAW_ORIG_YR4_RT'].replace(['PrivacySuppressed'], [0])\n",
    "df_2012['WDRAW_ORIG_YR4_RT'] = df_2012['WDRAW_ORIG_YR4_RT'].astype(float)\n",
    "\n",
    "target_data = df_2012['WDRAW_ORIG_YR2_RTNew']\n"
   ]
  },
  {
   "cell_type": "code",
   "execution_count": 16,
   "metadata": {},
   "outputs": [
    {
     "data": {
      "text/plain": [
       "dtype('float64')"
      ]
     },
     "execution_count": 16,
     "metadata": {},
     "output_type": "execute_result"
    }
   ],
   "source": [
    "df_2012['WDRAW_ORIG_YR2_RTNew'].dtypes"
   ]
  },
  {
   "cell_type": "code",
   "execution_count": 17,
   "metadata": {},
   "outputs": [
    {
     "data": {
      "text/plain": [
       "dtype('float64')"
      ]
     },
     "execution_count": 17,
     "metadata": {},
     "output_type": "execute_result"
    }
   ],
   "source": [
    "df_2012['WDRAW_ORIG_YR2_RT'].dtypes"
   ]
  },
  {
   "cell_type": "code",
   "execution_count": 18,
   "metadata": {},
   "outputs": [],
   "source": [
    "x = df_2012['WDRAW_ORIG_YR2_RT']\n",
    "y = df_2012['WDRAW_ORIG_YR2_RTNew']\n",
    "#x = x.fillna(0)\n",
    "#y = y.fillna(0)\n",
    "#x = x.replace(['PrivacySuppressed'], [0])\n",
    "#y = y.replace(['PrivacySuppressed'], [0])\n",
    "#x = x.astype(float)\n",
    "#y = y.astype(float)"
   ]
  },
  {
   "cell_type": "code",
   "execution_count": 19,
   "metadata": {},
   "outputs": [
    {
     "data": {
      "text/plain": [
       "<matplotlib.collections.PathCollection at 0x1acbdbd68>"
      ]
     },
     "execution_count": 19,
     "metadata": {},
     "output_type": "execute_result"
    },
    {
     "data": {
      "image/png": "[encoded data removed]",
      "text/plain": [
       "<Figure size 432x288 with 1 Axes>"
      ]
     },
     "metadata": {
      "needs_background": "light"
     },
     "output_type": "display_data"
    }
   ],
   "source": [
    "plt.scatter(x,y)"
   ]
  },
  {
   "cell_type": "code",
   "execution_count": 20,
   "metadata": {},
   "outputs": [
    {
     "data": {
      "text/plain": [
       "(7793, 1977)"
      ]
     },
     "execution_count": 20,
     "metadata": {},
     "output_type": "execute_result"
    }
   ],
   "source": [
    "df_2012.shape"
   ]
  },
  {
   "cell_type": "code",
   "execution_count": 21,
   "metadata": {},
   "outputs": [
    {
     "data": {
      "text/plain": [
       "UNITID\n",
       "100654    0.248126\n",
       "100663    0.207568\n",
       "100690    0.416185\n",
       "100706    0.190311\n",
       "100724    0.322058\n",
       "Name: WDRAW_ORIG_YR2_RT, dtype: float64"
      ]
     },
     "execution_count": 21,
     "metadata": {},
     "output_type": "execute_result"
    }
   ],
   "source": [
    "df_2012['WDRAW_ORIG_YR2_RT'].head()"
   ]
  },
  {
   "cell_type": "code",
   "execution_count": 22,
   "metadata": {},
   "outputs": [
    {
     "data": {
      "text/plain": [
       "UNITID\n",
       "100654    0.318109\n",
       "100663    0.259811\n",
       "100690    0.633188\n",
       "100706    0.215600\n",
       "100724    0.305031\n",
       "Name: WDRAW_ORIG_YR2_RTNew, dtype: float64"
      ]
     },
     "execution_count": 22,
     "metadata": {},
     "output_type": "execute_result"
    }
   ],
   "source": [
    "target_data.head()"
   ]
  },
  {
   "cell_type": "markdown",
   "metadata": {},
   "source": [
    "# Feature selection:\n",
    "\n",
    "Feature selection was fairly difficult for this project due to the number of features there were in the initial dataset (1,977). The features were also very different ranging from text data, numerical data, financial data, and others. \n",
    "\n",
    "PCA Analysis did not show helpful results so, I ended up picking out features that I thought would impact the drop out rate. Most of them are intuitive (such as tuition of a college being possibly linked to drop out rate). But, if my models were underperforming - I edited/ changed my features accordingly to see if they would perform better. "
   ]
  },
  {
   "cell_type": "code",
   "execution_count": 23,
   "metadata": {},
   "outputs": [],
   "source": [
    "features = ['UNEMP_RATE', 'MTHCMP1', 'CUML_DEBT_N', 'LO_INC_DEBT_N', 'COSTT4_A', 'COSTT4_P', 'PCTPELL','LATITUDE', 'LONGITUDE', 'ADM_RATE', 'SAT_AVG', 'TUITIONFEE_IN', 'TUITIONFEE_OUT', 'PAR_ED_PCT_1STGEN', 'WDRAW_DEBT_MDN', 'LO_INC_DEBT_MDN', 'MD_INC_DEBT_MDN', 'HI_INC_DEBT_MDN','AGE_ENTRY','FIRST_GEN', 'FAMINC', 'PCT_WHITE', 'PCT_BLACK', 'PCT_ASIAN', 'PCT_HISPANIC', 'WDRAW_ORIG_YR2_RT', 'POVERTY_RATE', 'AGE_ENTRY_SQ', 'FEMALE', 'MARRIED', 'VETERAN', 'FIRST_GEN', 'PELL_EVER', 'LOAN_EVER', 'ADM_RATE', 'SAT_AVG', 'SAT_AVG_ALL', 'UGDS', 'UGDS_WHITE', 'UGDS_BLACK', 'UGDS_HISP', 'UGDS_ASIAN', 'AVGFACSAL', 'PFTFTUG1_EF', 'WDRAW_ORIG_YR3_RT', 'WDRAW_ORIG_YR4_RT','WDRAW_ORIG_YR2_RTNew']"
   ]
  },
  {
   "cell_type": "code",
   "execution_count": 24,
   "metadata": {},
   "outputs": [],
   "source": [
    "df_college = df_2012[features]"
   ]
  },
  {
   "cell_type": "code",
   "execution_count": 25,
   "metadata": {},
   "outputs": [
    {
     "data": {
      "text/html": [
       "<div>\n",
       "<style scoped>\n",
       "    .dataframe tbody tr th:only-of-type {\n",
       "        vertical-align: middle;\n",
       "    }\n",
       "\n",
       "    .dataframe tbody tr th {\n",
       "        vertical-align: top;\n",
       "    }\n",
       "\n",
       "    .dataframe thead th {\n",
       "        text-align: right;\n",
       "    }\n",
       "</style>\n",
       "<table border=\"1\" class=\"dataframe\">\n",
       "  <thead>\n",
       "    <tr style=\"text-align: right;\">\n",
       "      <th></th>\n",
       "      <th>UNEMP_RATE</th>\n",
       "      <th>MTHCMP1</th>\n",
       "      <th>CUML_DEBT_N</th>\n",
       "      <th>LO_INC_DEBT_N</th>\n",
       "      <th>COSTT4_A</th>\n",
       "      <th>COSTT4_P</th>\n",
       "      <th>PCTPELL</th>\n",
       "      <th>LATITUDE</th>\n",
       "      <th>LONGITUDE</th>\n",
       "      <th>ADM_RATE</th>\n",
       "      <th>...</th>\n",
       "      <th>UGDS</th>\n",
       "      <th>UGDS_WHITE</th>\n",
       "      <th>UGDS_BLACK</th>\n",
       "      <th>UGDS_HISP</th>\n",
       "      <th>UGDS_ASIAN</th>\n",
       "      <th>AVGFACSAL</th>\n",
       "      <th>PFTFTUG1_EF</th>\n",
       "      <th>WDRAW_ORIG_YR3_RT</th>\n",
       "      <th>WDRAW_ORIG_YR4_RT</th>\n",
       "      <th>WDRAW_ORIG_YR2_RTNew</th>\n",
       "    </tr>\n",
       "    <tr>\n",
       "      <th>UNITID</th>\n",
       "      <th></th>\n",
       "      <th></th>\n",
       "      <th></th>\n",
       "      <th></th>\n",
       "      <th></th>\n",
       "      <th></th>\n",
       "      <th></th>\n",
       "      <th></th>\n",
       "      <th></th>\n",
       "      <th></th>\n",
       "      <th></th>\n",
       "      <th></th>\n",
       "      <th></th>\n",
       "      <th></th>\n",
       "      <th></th>\n",
       "      <th></th>\n",
       "      <th></th>\n",
       "      <th></th>\n",
       "      <th></th>\n",
       "      <th></th>\n",
       "      <th></th>\n",
       "    </tr>\n",
       "  </thead>\n",
       "  <tbody>\n",
       "    <tr>\n",
       "      <th>100654</th>\n",
       "      <td>NaN</td>\n",
       "      <td>NaN</td>\n",
       "      <td>3005</td>\n",
       "      <td>1884</td>\n",
       "      <td>17351.0</td>\n",
       "      <td>NaN</td>\n",
       "      <td>0.7011</td>\n",
       "      <td>NaN</td>\n",
       "      <td>NaN</td>\n",
       "      <td>0.5438</td>\n",
       "      <td>...</td>\n",
       "      <td>4081.0</td>\n",
       "      <td>0.0260</td>\n",
       "      <td>0.9552</td>\n",
       "      <td>0.0037</td>\n",
       "      <td>0.0007</td>\n",
       "      <td>6678.0</td>\n",
       "      <td>0.862931</td>\n",
       "      <td>0.22513922</td>\n",
       "      <td>0.227888</td>\n",
       "      <td>0.318109</td>\n",
       "    </tr>\n",
       "    <tr>\n",
       "      <th>100663</th>\n",
       "      <td>NaN</td>\n",
       "      <td>NaN</td>\n",
       "      <td>5948</td>\n",
       "      <td>2828</td>\n",
       "      <td>20441.0</td>\n",
       "      <td>NaN</td>\n",
       "      <td>0.3680</td>\n",
       "      <td>NaN</td>\n",
       "      <td>NaN</td>\n",
       "      <td>0.7223</td>\n",
       "      <td>...</td>\n",
       "      <td>11014.0</td>\n",
       "      <td>0.5937</td>\n",
       "      <td>0.2654</td>\n",
       "      <td>0.0246</td>\n",
       "      <td>0.0474</td>\n",
       "      <td>9650.0</td>\n",
       "      <td>0.563543</td>\n",
       "      <td>0.201495638</td>\n",
       "      <td>0.185837</td>\n",
       "      <td>0.259811</td>\n",
       "    </tr>\n",
       "    <tr>\n",
       "      <th>100690</th>\n",
       "      <td>NaN</td>\n",
       "      <td>NaN</td>\n",
       "      <td>524</td>\n",
       "      <td>376</td>\n",
       "      <td>11420.0</td>\n",
       "      <td>NaN</td>\n",
       "      <td>0.8688</td>\n",
       "      <td>NaN</td>\n",
       "      <td>NaN</td>\n",
       "      <td>NaN</td>\n",
       "      <td>...</td>\n",
       "      <td>338.0</td>\n",
       "      <td>0.2633</td>\n",
       "      <td>0.3698</td>\n",
       "      <td>0.0089</td>\n",
       "      <td>0.0118</td>\n",
       "      <td>3635.0</td>\n",
       "      <td>0.692308</td>\n",
       "      <td>0.502994012</td>\n",
       "      <td>0.384106</td>\n",
       "      <td>0.633188</td>\n",
       "    </tr>\n",
       "    <tr>\n",
       "      <th>100706</th>\n",
       "      <td>NaN</td>\n",
       "      <td>NaN</td>\n",
       "      <td>2638</td>\n",
       "      <td>1227</td>\n",
       "      <td>19687.0</td>\n",
       "      <td>NaN</td>\n",
       "      <td>0.3345</td>\n",
       "      <td>NaN</td>\n",
       "      <td>NaN</td>\n",
       "      <td>0.7766</td>\n",
       "      <td>...</td>\n",
       "      <td>5703.0</td>\n",
       "      <td>0.7019</td>\n",
       "      <td>0.1408</td>\n",
       "      <td>0.0344</td>\n",
       "      <td>0.0330</td>\n",
       "      <td>8923.0</td>\n",
       "      <td>0.474537</td>\n",
       "      <td>0.189720333</td>\n",
       "      <td>0.148833</td>\n",
       "      <td>0.215600</td>\n",
       "    </tr>\n",
       "    <tr>\n",
       "      <th>100724</th>\n",
       "      <td>NaN</td>\n",
       "      <td>NaN</td>\n",
       "      <td>3771</td>\n",
       "      <td>2630</td>\n",
       "      <td>17533.0</td>\n",
       "      <td>NaN</td>\n",
       "      <td>0.7752</td>\n",
       "      <td>NaN</td>\n",
       "      <td>NaN</td>\n",
       "      <td>0.4604</td>\n",
       "      <td>...</td>\n",
       "      <td>5123.0</td>\n",
       "      <td>0.0121</td>\n",
       "      <td>0.9492</td>\n",
       "      <td>0.0102</td>\n",
       "      <td>0.0006</td>\n",
       "      <td>6408.0</td>\n",
       "      <td>0.857826</td>\n",
       "      <td>0.283642691</td>\n",
       "      <td>0.256149</td>\n",
       "      <td>0.305031</td>\n",
       "    </tr>\n",
       "  </tbody>\n",
       "</table>\n",
       "<p>5 rows × 47 columns</p>\n",
       "</div>"
      ],
      "text/plain": [
       "        UNEMP_RATE  MTHCMP1 CUML_DEBT_N LO_INC_DEBT_N  COSTT4_A  COSTT4_P  \\\n",
       "UNITID                                                                      \n",
       "100654         NaN      NaN        3005          1884   17351.0       NaN   \n",
       "100663         NaN      NaN        5948          2828   20441.0       NaN   \n",
       "100690         NaN      NaN         524           376   11420.0       NaN   \n",
       "100706         NaN      NaN        2638          1227   19687.0       NaN   \n",
       "100724         NaN      NaN        3771          2630   17533.0       NaN   \n",
       "\n",
       "        PCTPELL  LATITUDE  LONGITUDE  ADM_RATE         ...              UGDS  \\\n",
       "UNITID                                                 ...                     \n",
       "100654   0.7011       NaN        NaN    0.5438         ...            4081.0   \n",
       "100663   0.3680       NaN        NaN    0.7223         ...           11014.0   \n",
       "100690   0.8688       NaN        NaN       NaN         ...             338.0   \n",
       "100706   0.3345       NaN        NaN    0.7766         ...            5703.0   \n",
       "100724   0.7752       NaN        NaN    0.4604         ...            5123.0   \n",
       "\n",
       "        UGDS_WHITE  UGDS_BLACK UGDS_HISP UGDS_ASIAN AVGFACSAL PFTFTUG1_EF  \\\n",
       "UNITID                                                                      \n",
       "100654      0.0260      0.9552    0.0037     0.0007    6678.0    0.862931   \n",
       "100663      0.5937      0.2654    0.0246     0.0474    9650.0    0.563543   \n",
       "100690      0.2633      0.3698    0.0089     0.0118    3635.0    0.692308   \n",
       "100706      0.7019      0.1408    0.0344     0.0330    8923.0    0.474537   \n",
       "100724      0.0121      0.9492    0.0102     0.0006    6408.0    0.857826   \n",
       "\n",
       "       WDRAW_ORIG_YR3_RT WDRAW_ORIG_YR4_RT WDRAW_ORIG_YR2_RTNew  \n",
       "UNITID                                                           \n",
       "100654        0.22513922          0.227888             0.318109  \n",
       "100663       0.201495638          0.185837             0.259811  \n",
       "100690       0.502994012          0.384106             0.633188  \n",
       "100706       0.189720333          0.148833             0.215600  \n",
       "100724       0.283642691          0.256149             0.305031  \n",
       "\n",
       "[5 rows x 47 columns]"
      ]
     },
     "execution_count": 25,
     "metadata": {},
     "output_type": "execute_result"
    }
   ],
   "source": [
    "df_college.head()"
   ]
  },
  {
   "cell_type": "code",
   "execution_count": 26,
   "metadata": {},
   "outputs": [],
   "source": [
    "df_college = df_college.fillna(0)"
   ]
  },
  {
   "cell_type": "code",
   "execution_count": 27,
   "metadata": {},
   "outputs": [],
   "source": [
    "df_college = df_college.replace(['PrivacySuppressed'], [0])"
   ]
  },
  {
   "cell_type": "code",
   "execution_count": 28,
   "metadata": {},
   "outputs": [],
   "source": [
    "df_college[['PAR_ED_PCT_1STGEN', 'WDRAW_DEBT_MDN', 'LO_INC_DEBT_MDN']] = df_college[['PAR_ED_PCT_1STGEN', 'WDRAW_DEBT_MDN', 'LO_INC_DEBT_MDN']].apply(pd.to_numeric)\n",
    "df_college[['WDRAW_ORIG_YR2_RT']] = df_college[['WDRAW_ORIG_YR2_RT']].apply(pd.to_numeric)"
   ]
  },
  {
   "cell_type": "code",
   "execution_count": 29,
   "metadata": {},
   "outputs": [
    {
     "data": {
      "text/plain": [
       "UNEMP_RATE              float64\n",
       "MTHCMP1                 float64\n",
       "CUML_DEBT_N              object\n",
       "LO_INC_DEBT_N            object\n",
       "COSTT4_A                float64\n",
       "COSTT4_P                float64\n",
       "PCTPELL                 float64\n",
       "LATITUDE                float64\n",
       "LONGITUDE               float64\n",
       "ADM_RATE                float64\n",
       "SAT_AVG                 float64\n",
       "TUITIONFEE_IN           float64\n",
       "TUITIONFEE_OUT          float64\n",
       "PAR_ED_PCT_1STGEN       float64\n",
       "WDRAW_DEBT_MDN          float64\n",
       "LO_INC_DEBT_MDN         float64\n",
       "MD_INC_DEBT_MDN          object\n",
       "HI_INC_DEBT_MDN          object\n",
       "AGE_ENTRY                object\n",
       "FIRST_GEN                object\n",
       "FAMINC                   object\n",
       "PCT_WHITE               float64\n",
       "PCT_BLACK               float64\n",
       "PCT_ASIAN               float64\n",
       "PCT_HISPANIC            float64\n",
       "WDRAW_ORIG_YR2_RT       float64\n",
       "POVERTY_RATE            float64\n",
       "AGE_ENTRY_SQ            float64\n",
       "FEMALE                   object\n",
       "MARRIED                  object\n",
       "VETERAN                  object\n",
       "FIRST_GEN                object\n",
       "PELL_EVER                object\n",
       "LOAN_EVER                object\n",
       "ADM_RATE                float64\n",
       "SAT_AVG                 float64\n",
       "SAT_AVG_ALL             float64\n",
       "UGDS                    float64\n",
       "UGDS_WHITE              float64\n",
       "UGDS_BLACK              float64\n",
       "UGDS_HISP               float64\n",
       "UGDS_ASIAN              float64\n",
       "AVGFACSAL               float64\n",
       "PFTFTUG1_EF             float64\n",
       "WDRAW_ORIG_YR3_RT        object\n",
       "WDRAW_ORIG_YR4_RT       float64\n",
       "WDRAW_ORIG_YR2_RTNew    float64\n",
       "dtype: object"
      ]
     },
     "execution_count": 29,
     "metadata": {},
     "output_type": "execute_result"
    }
   ],
   "source": [
    "df_college.dtypes"
   ]
  },
  {
   "cell_type": "markdown",
   "metadata": {},
   "source": [
    "# Data Cleaning 2: \n",
    "\n",
    "I converted columns from my features to be numeric / as floats. The code could be more efficient but, I was running into errors when I grouped these so, I did it manually to avoid errors in the process. "
   ]
  },
  {
   "cell_type": "code",
   "execution_count": 30,
   "metadata": {},
   "outputs": [],
   "source": [
    "df_college['CUML_DEBT_N'] = df_college['CUML_DEBT_N'].astype(float)\n",
    "df_college['LO_INC_DEBT_N'] = df_college['LO_INC_DEBT_N'].astype(float)\n",
    "df_college['MD_INC_DEBT_MDN'] = df_college['MD_INC_DEBT_MDN'].apply(pd.to_numeric)\n",
    "df_college['HI_INC_DEBT_MDN'] = df_college['HI_INC_DEBT_MDN'].apply(pd.to_numeric)\n",
    "df_college['AGE_ENTRY'] = df_college['AGE_ENTRY'].apply(pd.to_numeric)\n",
    "df_college['FAMINC'] = df_college['FAMINC'].apply(pd.to_numeric)\n",
    "df_college['FEMALE'] = df_college['FEMALE'].apply(pd.to_numeric)\n",
    "df_college['MARRIED'] = df_college['MARRIED'].apply(pd.to_numeric)\n",
    "df_college['VETERAN'] = df_college['VETERAN'].apply(pd.to_numeric)\n",
    "df_college['PELL_EVER'] = df_college['PELL_EVER'].apply(pd.to_numeric)\n",
    "df_college['LOAN_EVER'] = df_college['LOAN_EVER'].apply(pd.to_numeric)\n",
    "df_college['CUML_DEBT_N'] = df_college['CUML_DEBT_N'].apply(pd.to_numeric)\n",
    "df_college['LO_INC_DEBT_N'] = df_college['LO_INC_DEBT_N'].apply(pd.to_numeric)\n",
    "df_college['FIRST_GEN'] = df_college['FIRST_GEN'].apply(pd.to_numeric)\n",
    "df_college['WDRAW_ORIG_YR3_RT'] = df_college['WDRAW_ORIG_YR3_RT'].apply(pd.to_numeric)\n",
    "df_college['WDRAW_ORIG_YR4_RT'] = df_college['WDRAW_ORIG_YR4_RT'].apply(pd.to_numeric)"
   ]
  },
  {
   "cell_type": "code",
   "execution_count": 31,
   "metadata": {},
   "outputs": [],
   "source": [
    "df_college['TUITION_AVG'] = (df_college['TUITIONFEE_IN'] + df_college['TUITIONFEE_OUT'])/2"
   ]
  },
  {
   "cell_type": "code",
   "execution_count": 32,
   "metadata": {},
   "outputs": [
    {
     "data": {
      "text/html": [
       "<div>\n",
       "<style scoped>\n",
       "    .dataframe tbody tr th:only-of-type {\n",
       "        vertical-align: middle;\n",
       "    }\n",
       "\n",
       "    .dataframe tbody tr th {\n",
       "        vertical-align: top;\n",
       "    }\n",
       "\n",
       "    .dataframe thead th {\n",
       "        text-align: right;\n",
       "    }\n",
       "</style>\n",
       "<table border=\"1\" class=\"dataframe\">\n",
       "  <thead>\n",
       "    <tr style=\"text-align: right;\">\n",
       "      <th></th>\n",
       "      <th>UNEMP_RATE</th>\n",
       "      <th>MTHCMP1</th>\n",
       "      <th>CUML_DEBT_N</th>\n",
       "      <th>LO_INC_DEBT_N</th>\n",
       "      <th>COSTT4_A</th>\n",
       "      <th>COSTT4_P</th>\n",
       "      <th>PCTPELL</th>\n",
       "      <th>LATITUDE</th>\n",
       "      <th>LONGITUDE</th>\n",
       "      <th>ADM_RATE</th>\n",
       "      <th>...</th>\n",
       "      <th>UGDS_WHITE</th>\n",
       "      <th>UGDS_BLACK</th>\n",
       "      <th>UGDS_HISP</th>\n",
       "      <th>UGDS_ASIAN</th>\n",
       "      <th>AVGFACSAL</th>\n",
       "      <th>PFTFTUG1_EF</th>\n",
       "      <th>WDRAW_ORIG_YR3_RT</th>\n",
       "      <th>WDRAW_ORIG_YR4_RT</th>\n",
       "      <th>WDRAW_ORIG_YR2_RTNew</th>\n",
       "      <th>TUITION_AVG</th>\n",
       "    </tr>\n",
       "    <tr>\n",
       "      <th>UNITID</th>\n",
       "      <th></th>\n",
       "      <th></th>\n",
       "      <th></th>\n",
       "      <th></th>\n",
       "      <th></th>\n",
       "      <th></th>\n",
       "      <th></th>\n",
       "      <th></th>\n",
       "      <th></th>\n",
       "      <th></th>\n",
       "      <th></th>\n",
       "      <th></th>\n",
       "      <th></th>\n",
       "      <th></th>\n",
       "      <th></th>\n",
       "      <th></th>\n",
       "      <th></th>\n",
       "      <th></th>\n",
       "      <th></th>\n",
       "      <th></th>\n",
       "      <th></th>\n",
       "    </tr>\n",
       "  </thead>\n",
       "  <tbody>\n",
       "    <tr>\n",
       "      <th>100654</th>\n",
       "      <td>0.0</td>\n",
       "      <td>0.0</td>\n",
       "      <td>3005.0</td>\n",
       "      <td>1884.0</td>\n",
       "      <td>17351.0</td>\n",
       "      <td>0.0</td>\n",
       "      <td>0.7011</td>\n",
       "      <td>0.0</td>\n",
       "      <td>0.0</td>\n",
       "      <td>0.5438</td>\n",
       "      <td>...</td>\n",
       "      <td>0.0260</td>\n",
       "      <td>0.9552</td>\n",
       "      <td>0.0037</td>\n",
       "      <td>0.0007</td>\n",
       "      <td>6678.0</td>\n",
       "      <td>0.862931</td>\n",
       "      <td>0.225139</td>\n",
       "      <td>0.227888</td>\n",
       "      <td>0.318109</td>\n",
       "      <td>9978.0</td>\n",
       "    </tr>\n",
       "    <tr>\n",
       "      <th>100663</th>\n",
       "      <td>0.0</td>\n",
       "      <td>0.0</td>\n",
       "      <td>5948.0</td>\n",
       "      <td>2828.0</td>\n",
       "      <td>20441.0</td>\n",
       "      <td>0.0</td>\n",
       "      <td>0.3680</td>\n",
       "      <td>0.0</td>\n",
       "      <td>0.0</td>\n",
       "      <td>0.7223</td>\n",
       "      <td>...</td>\n",
       "      <td>0.5937</td>\n",
       "      <td>0.2654</td>\n",
       "      <td>0.0246</td>\n",
       "      <td>0.0474</td>\n",
       "      <td>9650.0</td>\n",
       "      <td>0.563543</td>\n",
       "      <td>0.201496</td>\n",
       "      <td>0.185837</td>\n",
       "      <td>0.259811</td>\n",
       "      <td>11130.0</td>\n",
       "    </tr>\n",
       "    <tr>\n",
       "      <th>100690</th>\n",
       "      <td>0.0</td>\n",
       "      <td>0.0</td>\n",
       "      <td>524.0</td>\n",
       "      <td>376.0</td>\n",
       "      <td>11420.0</td>\n",
       "      <td>0.0</td>\n",
       "      <td>0.8688</td>\n",
       "      <td>0.0</td>\n",
       "      <td>0.0</td>\n",
       "      <td>0.0000</td>\n",
       "      <td>...</td>\n",
       "      <td>0.2633</td>\n",
       "      <td>0.3698</td>\n",
       "      <td>0.0089</td>\n",
       "      <td>0.0118</td>\n",
       "      <td>3635.0</td>\n",
       "      <td>0.692308</td>\n",
       "      <td>0.502994</td>\n",
       "      <td>0.384106</td>\n",
       "      <td>0.633188</td>\n",
       "      <td>6800.0</td>\n",
       "    </tr>\n",
       "    <tr>\n",
       "      <th>100706</th>\n",
       "      <td>0.0</td>\n",
       "      <td>0.0</td>\n",
       "      <td>2638.0</td>\n",
       "      <td>1227.0</td>\n",
       "      <td>19687.0</td>\n",
       "      <td>0.0</td>\n",
       "      <td>0.3345</td>\n",
       "      <td>0.0</td>\n",
       "      <td>0.0</td>\n",
       "      <td>0.7766</td>\n",
       "      <td>...</td>\n",
       "      <td>0.7019</td>\n",
       "      <td>0.1408</td>\n",
       "      <td>0.0344</td>\n",
       "      <td>0.0330</td>\n",
       "      <td>8923.0</td>\n",
       "      <td>0.474537</td>\n",
       "      <td>0.189720</td>\n",
       "      <td>0.148833</td>\n",
       "      <td>0.215600</td>\n",
       "      <td>14951.0</td>\n",
       "    </tr>\n",
       "    <tr>\n",
       "      <th>100724</th>\n",
       "      <td>0.0</td>\n",
       "      <td>0.0</td>\n",
       "      <td>3771.0</td>\n",
       "      <td>2630.0</td>\n",
       "      <td>17533.0</td>\n",
       "      <td>0.0</td>\n",
       "      <td>0.7752</td>\n",
       "      <td>0.0</td>\n",
       "      <td>0.0</td>\n",
       "      <td>0.4604</td>\n",
       "      <td>...</td>\n",
       "      <td>0.0121</td>\n",
       "      <td>0.9492</td>\n",
       "      <td>0.0102</td>\n",
       "      <td>0.0006</td>\n",
       "      <td>6408.0</td>\n",
       "      <td>0.857826</td>\n",
       "      <td>0.283643</td>\n",
       "      <td>0.256149</td>\n",
       "      <td>0.305031</td>\n",
       "      <td>11088.0</td>\n",
       "    </tr>\n",
       "  </tbody>\n",
       "</table>\n",
       "<p>5 rows × 48 columns</p>\n",
       "</div>"
      ],
      "text/plain": [
       "        UNEMP_RATE  MTHCMP1  CUML_DEBT_N  LO_INC_DEBT_N  COSTT4_A  COSTT4_P  \\\n",
       "UNITID                                                                        \n",
       "100654         0.0      0.0       3005.0         1884.0   17351.0       0.0   \n",
       "100663         0.0      0.0       5948.0         2828.0   20441.0       0.0   \n",
       "100690         0.0      0.0        524.0          376.0   11420.0       0.0   \n",
       "100706         0.0      0.0       2638.0         1227.0   19687.0       0.0   \n",
       "100724         0.0      0.0       3771.0         2630.0   17533.0       0.0   \n",
       "\n",
       "        PCTPELL  LATITUDE  LONGITUDE  ADM_RATE     ...       UGDS_WHITE  \\\n",
       "UNITID                                             ...                    \n",
       "100654   0.7011       0.0        0.0    0.5438     ...           0.0260   \n",
       "100663   0.3680       0.0        0.0    0.7223     ...           0.5937   \n",
       "100690   0.8688       0.0        0.0    0.0000     ...           0.2633   \n",
       "100706   0.3345       0.0        0.0    0.7766     ...           0.7019   \n",
       "100724   0.7752       0.0        0.0    0.4604     ...           0.0121   \n",
       "\n",
       "        UGDS_BLACK  UGDS_HISP  UGDS_ASIAN  AVGFACSAL  PFTFTUG1_EF  \\\n",
       "UNITID                                                              \n",
       "100654      0.9552     0.0037      0.0007     6678.0     0.862931   \n",
       "100663      0.2654     0.0246      0.0474     9650.0     0.563543   \n",
       "100690      0.3698     0.0089      0.0118     3635.0     0.692308   \n",
       "100706      0.1408     0.0344      0.0330     8923.0     0.474537   \n",
       "100724      0.9492     0.0102      0.0006     6408.0     0.857826   \n",
       "\n",
       "        WDRAW_ORIG_YR3_RT  WDRAW_ORIG_YR4_RT  WDRAW_ORIG_YR2_RTNew  \\\n",
       "UNITID                                                               \n",
       "100654           0.225139           0.227888              0.318109   \n",
       "100663           0.201496           0.185837              0.259811   \n",
       "100690           0.502994           0.384106              0.633188   \n",
       "100706           0.189720           0.148833              0.215600   \n",
       "100724           0.283643           0.256149              0.305031   \n",
       "\n",
       "        TUITION_AVG  \n",
       "UNITID               \n",
       "100654       9978.0  \n",
       "100663      11130.0  \n",
       "100690       6800.0  \n",
       "100706      14951.0  \n",
       "100724      11088.0  \n",
       "\n",
       "[5 rows x 48 columns]"
      ]
     },
     "execution_count": 32,
     "metadata": {},
     "output_type": "execute_result"
    }
   ],
   "source": [
    "df_college.head()"
   ]
  },
  {
   "cell_type": "code",
   "execution_count": 33,
   "metadata": {},
   "outputs": [],
   "source": [
    "#Running on entire sample instead of just 20% of the dataset\n",
    "\n",
    "#df_college = df_college.sample(frac = 0.20)"
   ]
  },
  {
   "cell_type": "code",
   "execution_count": 34,
   "metadata": {},
   "outputs": [
    {
     "data": {
      "text/plain": [
       "(7793, 48)"
      ]
     },
     "execution_count": 34,
     "metadata": {},
     "output_type": "execute_result"
    }
   ],
   "source": [
    "df_college.shape"
   ]
  },
  {
   "cell_type": "code",
   "execution_count": 35,
   "metadata": {},
   "outputs": [
    {
     "data": {
      "text/html": [
       "<div>\n",
       "<style scoped>\n",
       "    .dataframe tbody tr th:only-of-type {\n",
       "        vertical-align: middle;\n",
       "    }\n",
       "\n",
       "    .dataframe tbody tr th {\n",
       "        vertical-align: top;\n",
       "    }\n",
       "\n",
       "    .dataframe thead th {\n",
       "        text-align: right;\n",
       "    }\n",
       "</style>\n",
       "<table border=\"1\" class=\"dataframe\">\n",
       "  <thead>\n",
       "    <tr style=\"text-align: right;\">\n",
       "      <th></th>\n",
       "      <th>OPEID</th>\n",
       "      <th>OPEID6</th>\n",
       "      <th>INSTNM</th>\n",
       "      <th>CITY</th>\n",
       "      <th>STABBR</th>\n",
       "      <th>ZIP</th>\n",
       "      <th>ACCREDAGENCY</th>\n",
       "      <th>INSTURL</th>\n",
       "      <th>NPCURL</th>\n",
       "      <th>SCH_DEG</th>\n",
       "      <th>...</th>\n",
       "      <th>OMENRUP_NOTFIRSTTIME_POOLED_SUPP</th>\n",
       "      <th>OMENRYP_FULLTIME_POOLED_SUPP</th>\n",
       "      <th>OMENRAP_FULLTIME_POOLED_SUPP</th>\n",
       "      <th>OMAWDP8_FULLTIME_POOLED_SUPP</th>\n",
       "      <th>OMENRUP_FULLTIME_POOLED_SUPP</th>\n",
       "      <th>OMENRYP_PARTTIME_POOLED_SUPP</th>\n",
       "      <th>OMENRAP_PARTTIME_POOLED_SUPP</th>\n",
       "      <th>OMAWDP8_PARTTIME_POOLED_SUPP</th>\n",
       "      <th>OMENRUP_PARTTIME_POOLED_SUPP</th>\n",
       "      <th>WDRAW_ORIG_YR2_RTNew</th>\n",
       "    </tr>\n",
       "    <tr>\n",
       "      <th>UNITID</th>\n",
       "      <th></th>\n",
       "      <th></th>\n",
       "      <th></th>\n",
       "      <th></th>\n",
       "      <th></th>\n",
       "      <th></th>\n",
       "      <th></th>\n",
       "      <th></th>\n",
       "      <th></th>\n",
       "      <th></th>\n",
       "      <th></th>\n",
       "      <th></th>\n",
       "      <th></th>\n",
       "      <th></th>\n",
       "      <th></th>\n",
       "      <th></th>\n",
       "      <th></th>\n",
       "      <th></th>\n",
       "      <th></th>\n",
       "      <th></th>\n",
       "      <th></th>\n",
       "    </tr>\n",
       "  </thead>\n",
       "  <tbody>\n",
       "    <tr>\n",
       "      <th>100654</th>\n",
       "      <td>100200</td>\n",
       "      <td>1002</td>\n",
       "      <td>Alabama A &amp; M University</td>\n",
       "      <td>Normal</td>\n",
       "      <td>AL</td>\n",
       "      <td>35762</td>\n",
       "      <td>NaN</td>\n",
       "      <td>NaN</td>\n",
       "      <td>NaN</td>\n",
       "      <td>3.0</td>\n",
       "      <td>...</td>\n",
       "      <td>NaN</td>\n",
       "      <td>NaN</td>\n",
       "      <td>NaN</td>\n",
       "      <td>NaN</td>\n",
       "      <td>NaN</td>\n",
       "      <td>NaN</td>\n",
       "      <td>NaN</td>\n",
       "      <td>NaN</td>\n",
       "      <td>NaN</td>\n",
       "      <td>0.318109</td>\n",
       "    </tr>\n",
       "    <tr>\n",
       "      <th>100663</th>\n",
       "      <td>105200</td>\n",
       "      <td>1052</td>\n",
       "      <td>University of Alabama at Birmingham</td>\n",
       "      <td>Birmingham</td>\n",
       "      <td>AL</td>\n",
       "      <td>35294-0110</td>\n",
       "      <td>NaN</td>\n",
       "      <td>NaN</td>\n",
       "      <td>NaN</td>\n",
       "      <td>3.0</td>\n",
       "      <td>...</td>\n",
       "      <td>NaN</td>\n",
       "      <td>NaN</td>\n",
       "      <td>NaN</td>\n",
       "      <td>NaN</td>\n",
       "      <td>NaN</td>\n",
       "      <td>NaN</td>\n",
       "      <td>NaN</td>\n",
       "      <td>NaN</td>\n",
       "      <td>NaN</td>\n",
       "      <td>0.259811</td>\n",
       "    </tr>\n",
       "    <tr>\n",
       "      <th>100690</th>\n",
       "      <td>2503400</td>\n",
       "      <td>25034</td>\n",
       "      <td>Amridge University</td>\n",
       "      <td>Montgomery</td>\n",
       "      <td>AL</td>\n",
       "      <td>36117-3553</td>\n",
       "      <td>NaN</td>\n",
       "      <td>NaN</td>\n",
       "      <td>NaN</td>\n",
       "      <td>3.0</td>\n",
       "      <td>...</td>\n",
       "      <td>NaN</td>\n",
       "      <td>NaN</td>\n",
       "      <td>NaN</td>\n",
       "      <td>NaN</td>\n",
       "      <td>NaN</td>\n",
       "      <td>NaN</td>\n",
       "      <td>NaN</td>\n",
       "      <td>NaN</td>\n",
       "      <td>NaN</td>\n",
       "      <td>0.633188</td>\n",
       "    </tr>\n",
       "    <tr>\n",
       "      <th>100706</th>\n",
       "      <td>105500</td>\n",
       "      <td>1055</td>\n",
       "      <td>University of Alabama in Huntsville</td>\n",
       "      <td>Huntsville</td>\n",
       "      <td>AL</td>\n",
       "      <td>35899</td>\n",
       "      <td>NaN</td>\n",
       "      <td>NaN</td>\n",
       "      <td>NaN</td>\n",
       "      <td>3.0</td>\n",
       "      <td>...</td>\n",
       "      <td>NaN</td>\n",
       "      <td>NaN</td>\n",
       "      <td>NaN</td>\n",
       "      <td>NaN</td>\n",
       "      <td>NaN</td>\n",
       "      <td>NaN</td>\n",
       "      <td>NaN</td>\n",
       "      <td>NaN</td>\n",
       "      <td>NaN</td>\n",
       "      <td>0.215600</td>\n",
       "    </tr>\n",
       "    <tr>\n",
       "      <th>100724</th>\n",
       "      <td>100500</td>\n",
       "      <td>1005</td>\n",
       "      <td>Alabama State University</td>\n",
       "      <td>Montgomery</td>\n",
       "      <td>AL</td>\n",
       "      <td>36104-0271</td>\n",
       "      <td>NaN</td>\n",
       "      <td>NaN</td>\n",
       "      <td>NaN</td>\n",
       "      <td>3.0</td>\n",
       "      <td>...</td>\n",
       "      <td>NaN</td>\n",
       "      <td>NaN</td>\n",
       "      <td>NaN</td>\n",
       "      <td>NaN</td>\n",
       "      <td>NaN</td>\n",
       "      <td>NaN</td>\n",
       "      <td>NaN</td>\n",
       "      <td>NaN</td>\n",
       "      <td>NaN</td>\n",
       "      <td>0.305031</td>\n",
       "    </tr>\n",
       "  </tbody>\n",
       "</table>\n",
       "<p>5 rows × 1977 columns</p>\n",
       "</div>"
      ],
      "text/plain": [
       "          OPEID  OPEID6                               INSTNM        CITY  \\\n",
       "UNITID                                                                     \n",
       "100654   100200    1002             Alabama A & M University      Normal   \n",
       "100663   105200    1052  University of Alabama at Birmingham  Birmingham   \n",
       "100690  2503400   25034                   Amridge University  Montgomery   \n",
       "100706   105500    1055  University of Alabama in Huntsville  Huntsville   \n",
       "100724   100500    1005             Alabama State University  Montgomery   \n",
       "\n",
       "       STABBR         ZIP  ACCREDAGENCY  INSTURL  NPCURL  SCH_DEG  \\\n",
       "UNITID                                                              \n",
       "100654     AL       35762           NaN      NaN     NaN      3.0   \n",
       "100663     AL  35294-0110           NaN      NaN     NaN      3.0   \n",
       "100690     AL  36117-3553           NaN      NaN     NaN      3.0   \n",
       "100706     AL       35899           NaN      NaN     NaN      3.0   \n",
       "100724     AL  36104-0271           NaN      NaN     NaN      3.0   \n",
       "\n",
       "                ...           OMENRUP_NOTFIRSTTIME_POOLED_SUPP  \\\n",
       "UNITID          ...                                              \n",
       "100654          ...                                        NaN   \n",
       "100663          ...                                        NaN   \n",
       "100690          ...                                        NaN   \n",
       "100706          ...                                        NaN   \n",
       "100724          ...                                        NaN   \n",
       "\n",
       "        OMENRYP_FULLTIME_POOLED_SUPP  OMENRAP_FULLTIME_POOLED_SUPP  \\\n",
       "UNITID                                                               \n",
       "100654                           NaN                           NaN   \n",
       "100663                           NaN                           NaN   \n",
       "100690                           NaN                           NaN   \n",
       "100706                           NaN                           NaN   \n",
       "100724                           NaN                           NaN   \n",
       "\n",
       "        OMAWDP8_FULLTIME_POOLED_SUPP  OMENRUP_FULLTIME_POOLED_SUPP  \\\n",
       "UNITID                                                               \n",
       "100654                           NaN                           NaN   \n",
       "100663                           NaN                           NaN   \n",
       "100690                           NaN                           NaN   \n",
       "100706                           NaN                           NaN   \n",
       "100724                           NaN                           NaN   \n",
       "\n",
       "        OMENRYP_PARTTIME_POOLED_SUPP  OMENRAP_PARTTIME_POOLED_SUPP  \\\n",
       "UNITID                                                               \n",
       "100654                           NaN                           NaN   \n",
       "100663                           NaN                           NaN   \n",
       "100690                           NaN                           NaN   \n",
       "100706                           NaN                           NaN   \n",
       "100724                           NaN                           NaN   \n",
       "\n",
       "        OMAWDP8_PARTTIME_POOLED_SUPP  OMENRUP_PARTTIME_POOLED_SUPP  \\\n",
       "UNITID                                                               \n",
       "100654                           NaN                           NaN   \n",
       "100663                           NaN                           NaN   \n",
       "100690                           NaN                           NaN   \n",
       "100706                           NaN                           NaN   \n",
       "100724                           NaN                           NaN   \n",
       "\n",
       "        WDRAW_ORIG_YR2_RTNew  \n",
       "UNITID                        \n",
       "100654              0.318109  \n",
       "100663              0.259811  \n",
       "100690              0.633188  \n",
       "100706              0.215600  \n",
       "100724              0.305031  \n",
       "\n",
       "[5 rows x 1977 columns]"
      ]
     },
     "execution_count": 35,
     "metadata": {},
     "output_type": "execute_result"
    }
   ],
   "source": [
    "df_2012.head()"
   ]
  },
  {
   "cell_type": "markdown",
   "metadata": {},
   "source": [
    "##  PCA Attempt: Getting an error - ask mentor re Error (I am getting this TypeError: cannot perform reduce with flexible type) "
   ]
  },
  {
   "cell_type": "code",
   "execution_count": 36,
   "metadata": {},
   "outputs": [],
   "source": [
    "# x = df_college.loc[:, features].values\n",
    "# y = df_college.iloc[:, ['WDRAW_ORIG_YR2_RT']].values"
   ]
  },
  {
   "cell_type": "markdown",
   "metadata": {},
   "source": [
    "# Data Visualization: \n",
    "\n",
    "Here, I tried to create a few visualization to see if my initial intuition would be correct. For example, I thought that the tuition average would possibly be correlated to withdraw rate. \n",
    "\n",
    "The first image shows that there is a correlation between Tuition Average and Withdraw Rate and that as Tuition goes up so does the Withdraw rate of the students. \n",
    "\n",
    "This can show universities/ colleges that there is a correlation between drop out rates / increase in tuition. This can also encourage them to provide more financial aide / support to students if they aim to decrease withdraw rates. "
   ]
  },
  {
   "cell_type": "code",
   "execution_count": 37,
   "metadata": {},
   "outputs": [
    {
     "data": {
      "image/png": "[encoded data removed]",
      "text/plain": [
       "<Figure size 360x360 with 1 Axes>"
      ]
     },
     "metadata": {
      "needs_background": "light"
     },
     "output_type": "display_data"
    }
   ],
   "source": [
    "sns.lmplot(x = 'TUITION_AVG', y = 'WDRAW_ORIG_YR2_RT', data = df_college, fit_reg = True, x_bins = 10)\n",
    "plt.show()"
   ]
  },
  {
   "cell_type": "markdown",
   "metadata": {},
   "source": [
    "### Relationship between Tuition / Median Debt of Students that Withdrew:\n",
    "\n",
    "This second visualization here shows the positive correlation between high tuition / debt of students that withdrew from colleges. You can see that as tuition increases so, does the debt.  \n",
    "\n"
   ]
  },
  {
   "cell_type": "code",
   "execution_count": 38,
   "metadata": {},
   "outputs": [
    {
     "data": {
      "image/png": "[encoded data removed]",
      "text/plain": [
       "<Figure size 360x360 with 1 Axes>"
      ]
     },
     "metadata": {
      "needs_background": "light"
     },
     "output_type": "display_data"
    }
   ],
   "source": [
    "sns.lmplot(x = 'TUITION_AVG', y = 'WDRAW_DEBT_MDN', data = df_college, fit_reg = True, x_bins = 10)\n",
    "plt.show()"
   ]
  },
  {
   "cell_type": "markdown",
   "metadata": {},
   "source": [
    "# Modelling processes and choices:\n",
    "\n",
    "This first stakeholder analysis requires supervised learning models. As our target variable is not a category and rather is a variety of different drop out rates, we will need to use models that can work with a regression problem. \n",
    "\n",
    "The first step to solving a supervised learning problem is to split your data into training / testing data. Here, I used the default sklearn model of Train Test Split. I did an 80% to 20% split between the training and the testing data. "
   ]
  },
  {
   "cell_type": "markdown",
   "metadata": {},
   "source": [
    "## Train Test Split: \n",
    "\n",
    "Here I am doing a test train split of the data. Allocating 20% of the data to the testing set and 80% to the training set. "
   ]
  },
  {
   "cell_type": "code",
   "execution_count": 39,
   "metadata": {},
   "outputs": [
    {
     "name": "stdout",
     "output_type": "stream",
     "text": [
      "(6234, 47)\n",
      "(7793, 48)\n"
     ]
    }
   ],
   "source": [
    "from sklearn.model_selection import train_test_split\n",
    "data = df_college.loc[:,df_college.columns != 'WDRAW_ORIG_YR2_RTNew']\n",
    "target = df_college['WDRAW_ORIG_YR2_RTNew']\n",
    "X_train, X_test, y_train, y_test = train_test_split(data, target, test_size=0.20) \n",
    "print(X_train.shape)\n",
    "print(df_college.shape)"
   ]
  },
  {
   "cell_type": "code",
   "execution_count": 40,
   "metadata": {},
   "outputs": [
    {
     "data": {
      "text/html": [
       "<div>\n",
       "<style scoped>\n",
       "    .dataframe tbody tr th:only-of-type {\n",
       "        vertical-align: middle;\n",
       "    }\n",
       "\n",
       "    .dataframe tbody tr th {\n",
       "        vertical-align: top;\n",
       "    }\n",
       "\n",
       "    .dataframe thead th {\n",
       "        text-align: right;\n",
       "    }\n",
       "</style>\n",
       "<table border=\"1\" class=\"dataframe\">\n",
       "  <thead>\n",
       "    <tr style=\"text-align: right;\">\n",
       "      <th></th>\n",
       "      <th>UNEMP_RATE</th>\n",
       "      <th>MTHCMP1</th>\n",
       "      <th>CUML_DEBT_N</th>\n",
       "      <th>LO_INC_DEBT_N</th>\n",
       "      <th>COSTT4_A</th>\n",
       "      <th>COSTT4_P</th>\n",
       "      <th>PCTPELL</th>\n",
       "      <th>LATITUDE</th>\n",
       "      <th>LONGITUDE</th>\n",
       "      <th>ADM_RATE</th>\n",
       "      <th>...</th>\n",
       "      <th>UGDS</th>\n",
       "      <th>UGDS_WHITE</th>\n",
       "      <th>UGDS_BLACK</th>\n",
       "      <th>UGDS_HISP</th>\n",
       "      <th>UGDS_ASIAN</th>\n",
       "      <th>AVGFACSAL</th>\n",
       "      <th>PFTFTUG1_EF</th>\n",
       "      <th>WDRAW_ORIG_YR3_RT</th>\n",
       "      <th>WDRAW_ORIG_YR4_RT</th>\n",
       "      <th>TUITION_AVG</th>\n",
       "    </tr>\n",
       "    <tr>\n",
       "      <th>UNITID</th>\n",
       "      <th></th>\n",
       "      <th></th>\n",
       "      <th></th>\n",
       "      <th></th>\n",
       "      <th></th>\n",
       "      <th></th>\n",
       "      <th></th>\n",
       "      <th></th>\n",
       "      <th></th>\n",
       "      <th></th>\n",
       "      <th></th>\n",
       "      <th></th>\n",
       "      <th></th>\n",
       "      <th></th>\n",
       "      <th></th>\n",
       "      <th></th>\n",
       "      <th></th>\n",
       "      <th></th>\n",
       "      <th></th>\n",
       "      <th></th>\n",
       "      <th></th>\n",
       "    </tr>\n",
       "  </thead>\n",
       "  <tbody>\n",
       "    <tr>\n",
       "      <th>209533</th>\n",
       "      <td>0.0</td>\n",
       "      <td>0.0</td>\n",
       "      <td>94.0</td>\n",
       "      <td>60.0</td>\n",
       "      <td>35484.0</td>\n",
       "      <td>0.0</td>\n",
       "      <td>0.5245</td>\n",
       "      <td>0.0</td>\n",
       "      <td>0.0</td>\n",
       "      <td>0.8169</td>\n",
       "      <td>...</td>\n",
       "      <td>152.0</td>\n",
       "      <td>0.6316</td>\n",
       "      <td>0.0000</td>\n",
       "      <td>0.0658</td>\n",
       "      <td>0.0066</td>\n",
       "      <td>4882.0</td>\n",
       "      <td>0.358491</td>\n",
       "      <td>0.294118</td>\n",
       "      <td>0.000000</td>\n",
       "      <td>24900.0</td>\n",
       "    </tr>\n",
       "    <tr>\n",
       "      <th>165334</th>\n",
       "      <td>0.0</td>\n",
       "      <td>0.0</td>\n",
       "      <td>881.0</td>\n",
       "      <td>172.0</td>\n",
       "      <td>45984.0</td>\n",
       "      <td>0.0</td>\n",
       "      <td>0.2029</td>\n",
       "      <td>0.0</td>\n",
       "      <td>0.0</td>\n",
       "      <td>0.7005</td>\n",
       "      <td>...</td>\n",
       "      <td>2276.0</td>\n",
       "      <td>0.6542</td>\n",
       "      <td>0.0365</td>\n",
       "      <td>0.0589</td>\n",
       "      <td>0.0501</td>\n",
       "      <td>9357.0</td>\n",
       "      <td>0.924409</td>\n",
       "      <td>0.083130</td>\n",
       "      <td>0.095349</td>\n",
       "      <td>38450.0</td>\n",
       "    </tr>\n",
       "    <tr>\n",
       "      <th>447722</th>\n",
       "      <td>0.0</td>\n",
       "      <td>8.0</td>\n",
       "      <td>159.0</td>\n",
       "      <td>129.0</td>\n",
       "      <td>0.0</td>\n",
       "      <td>16991.0</td>\n",
       "      <td>0.9630</td>\n",
       "      <td>0.0</td>\n",
       "      <td>0.0</td>\n",
       "      <td>0.0000</td>\n",
       "      <td>...</td>\n",
       "      <td>58.0</td>\n",
       "      <td>0.0862</td>\n",
       "      <td>0.0862</td>\n",
       "      <td>0.7241</td>\n",
       "      <td>0.1034</td>\n",
       "      <td>0.0</td>\n",
       "      <td>1.000000</td>\n",
       "      <td>0.104575</td>\n",
       "      <td>0.000000</td>\n",
       "      <td>0.0</td>\n",
       "    </tr>\n",
       "    <tr>\n",
       "      <th>170514</th>\n",
       "      <td>0.0</td>\n",
       "      <td>12.0</td>\n",
       "      <td>0.0</td>\n",
       "      <td>0.0</td>\n",
       "      <td>0.0</td>\n",
       "      <td>6773.0</td>\n",
       "      <td>0.4470</td>\n",
       "      <td>0.0</td>\n",
       "      <td>0.0</td>\n",
       "      <td>0.0000</td>\n",
       "      <td>...</td>\n",
       "      <td>106.0</td>\n",
       "      <td>0.8491</td>\n",
       "      <td>0.0566</td>\n",
       "      <td>0.0566</td>\n",
       "      <td>0.0377</td>\n",
       "      <td>0.0</td>\n",
       "      <td>0.035714</td>\n",
       "      <td>0.000000</td>\n",
       "      <td>0.000000</td>\n",
       "      <td>0.0</td>\n",
       "    </tr>\n",
       "    <tr>\n",
       "      <th>242945</th>\n",
       "      <td>0.0</td>\n",
       "      <td>13.0</td>\n",
       "      <td>0.0</td>\n",
       "      <td>0.0</td>\n",
       "      <td>0.0</td>\n",
       "      <td>11667.0</td>\n",
       "      <td>0.9894</td>\n",
       "      <td>0.0</td>\n",
       "      <td>0.0</td>\n",
       "      <td>1.0000</td>\n",
       "      <td>...</td>\n",
       "      <td>213.0</td>\n",
       "      <td>0.0000</td>\n",
       "      <td>0.0000</td>\n",
       "      <td>1.0000</td>\n",
       "      <td>0.0000</td>\n",
       "      <td>0.0</td>\n",
       "      <td>0.824468</td>\n",
       "      <td>0.000000</td>\n",
       "      <td>0.000000</td>\n",
       "      <td>0.0</td>\n",
       "    </tr>\n",
       "  </tbody>\n",
       "</table>\n",
       "<p>5 rows × 47 columns</p>\n",
       "</div>"
      ],
      "text/plain": [
       "        UNEMP_RATE  MTHCMP1  CUML_DEBT_N  LO_INC_DEBT_N  COSTT4_A  COSTT4_P  \\\n",
       "UNITID                                                                        \n",
       "209533         0.0      0.0         94.0           60.0   35484.0       0.0   \n",
       "165334         0.0      0.0        881.0          172.0   45984.0       0.0   \n",
       "447722         0.0      8.0        159.0          129.0       0.0   16991.0   \n",
       "170514         0.0     12.0          0.0            0.0       0.0    6773.0   \n",
       "242945         0.0     13.0          0.0            0.0       0.0   11667.0   \n",
       "\n",
       "        PCTPELL  LATITUDE  LONGITUDE  ADM_RATE     ...         UGDS  \\\n",
       "UNITID                                             ...                \n",
       "209533   0.5245       0.0        0.0    0.8169     ...        152.0   \n",
       "165334   0.2029       0.0        0.0    0.7005     ...       2276.0   \n",
       "447722   0.9630       0.0        0.0    0.0000     ...         58.0   \n",
       "170514   0.4470       0.0        0.0    0.0000     ...        106.0   \n",
       "242945   0.9894       0.0        0.0    1.0000     ...        213.0   \n",
       "\n",
       "        UGDS_WHITE  UGDS_BLACK  UGDS_HISP  UGDS_ASIAN  AVGFACSAL  PFTFTUG1_EF  \\\n",
       "UNITID                                                                          \n",
       "209533      0.6316      0.0000     0.0658      0.0066     4882.0     0.358491   \n",
       "165334      0.6542      0.0365     0.0589      0.0501     9357.0     0.924409   \n",
       "447722      0.0862      0.0862     0.7241      0.1034        0.0     1.000000   \n",
       "170514      0.8491      0.0566     0.0566      0.0377        0.0     0.035714   \n",
       "242945      0.0000      0.0000     1.0000      0.0000        0.0     0.824468   \n",
       "\n",
       "        WDRAW_ORIG_YR3_RT  WDRAW_ORIG_YR4_RT  TUITION_AVG  \n",
       "UNITID                                                     \n",
       "209533           0.294118           0.000000      24900.0  \n",
       "165334           0.083130           0.095349      38450.0  \n",
       "447722           0.104575           0.000000          0.0  \n",
       "170514           0.000000           0.000000          0.0  \n",
       "242945           0.000000           0.000000          0.0  \n",
       "\n",
       "[5 rows x 47 columns]"
      ]
     },
     "execution_count": 40,
     "metadata": {},
     "output_type": "execute_result"
    }
   ],
   "source": [
    "X_train.head()"
   ]
  },
  {
   "cell_type": "code",
   "execution_count": 41,
   "metadata": {},
   "outputs": [
    {
     "data": {
      "text/html": [
       "<div>\n",
       "<style scoped>\n",
       "    .dataframe tbody tr th:only-of-type {\n",
       "        vertical-align: middle;\n",
       "    }\n",
       "\n",
       "    .dataframe tbody tr th {\n",
       "        vertical-align: top;\n",
       "    }\n",
       "\n",
       "    .dataframe thead th {\n",
       "        text-align: right;\n",
       "    }\n",
       "</style>\n",
       "<table border=\"1\" class=\"dataframe\">\n",
       "  <thead>\n",
       "    <tr style=\"text-align: right;\">\n",
       "      <th></th>\n",
       "      <th>UNEMP_RATE</th>\n",
       "      <th>MTHCMP1</th>\n",
       "      <th>CUML_DEBT_N</th>\n",
       "      <th>LO_INC_DEBT_N</th>\n",
       "      <th>COSTT4_A</th>\n",
       "      <th>COSTT4_P</th>\n",
       "      <th>PCTPELL</th>\n",
       "      <th>LATITUDE</th>\n",
       "      <th>LONGITUDE</th>\n",
       "      <th>ADM_RATE</th>\n",
       "      <th>...</th>\n",
       "      <th>UGDS</th>\n",
       "      <th>UGDS_WHITE</th>\n",
       "      <th>UGDS_BLACK</th>\n",
       "      <th>UGDS_HISP</th>\n",
       "      <th>UGDS_ASIAN</th>\n",
       "      <th>AVGFACSAL</th>\n",
       "      <th>PFTFTUG1_EF</th>\n",
       "      <th>WDRAW_ORIG_YR3_RT</th>\n",
       "      <th>WDRAW_ORIG_YR4_RT</th>\n",
       "      <th>TUITION_AVG</th>\n",
       "    </tr>\n",
       "    <tr>\n",
       "      <th>UNITID</th>\n",
       "      <th></th>\n",
       "      <th></th>\n",
       "      <th></th>\n",
       "      <th></th>\n",
       "      <th></th>\n",
       "      <th></th>\n",
       "      <th></th>\n",
       "      <th></th>\n",
       "      <th></th>\n",
       "      <th></th>\n",
       "      <th></th>\n",
       "      <th></th>\n",
       "      <th></th>\n",
       "      <th></th>\n",
       "      <th></th>\n",
       "      <th></th>\n",
       "      <th></th>\n",
       "      <th></th>\n",
       "      <th></th>\n",
       "      <th></th>\n",
       "      <th></th>\n",
       "    </tr>\n",
       "  </thead>\n",
       "  <tbody>\n",
       "    <tr>\n",
       "      <th>238324</th>\n",
       "      <td>0.0</td>\n",
       "      <td>0.0</td>\n",
       "      <td>172.0</td>\n",
       "      <td>51.0</td>\n",
       "      <td>0.0</td>\n",
       "      <td>0.0</td>\n",
       "      <td>0.1942</td>\n",
       "      <td>0.0</td>\n",
       "      <td>0.0</td>\n",
       "      <td>0.7600</td>\n",
       "      <td>...</td>\n",
       "      <td>248.0</td>\n",
       "      <td>0.9476</td>\n",
       "      <td>0.0000</td>\n",
       "      <td>0.0081</td>\n",
       "      <td>0.0242</td>\n",
       "      <td>7010.0</td>\n",
       "      <td>0.480000</td>\n",
       "      <td>0.000000</td>\n",
       "      <td>0.000000</td>\n",
       "      <td>20239.0</td>\n",
       "    </tr>\n",
       "    <tr>\n",
       "      <th>439570</th>\n",
       "      <td>0.0</td>\n",
       "      <td>10.0</td>\n",
       "      <td>1857.0</td>\n",
       "      <td>1351.0</td>\n",
       "      <td>0.0</td>\n",
       "      <td>17491.0</td>\n",
       "      <td>0.6757</td>\n",
       "      <td>0.0</td>\n",
       "      <td>0.0</td>\n",
       "      <td>0.0000</td>\n",
       "      <td>...</td>\n",
       "      <td>679.0</td>\n",
       "      <td>0.6141</td>\n",
       "      <td>0.1370</td>\n",
       "      <td>0.0383</td>\n",
       "      <td>0.0265</td>\n",
       "      <td>3780.0</td>\n",
       "      <td>0.837288</td>\n",
       "      <td>0.201905</td>\n",
       "      <td>0.173246</td>\n",
       "      <td>0.0</td>\n",
       "    </tr>\n",
       "    <tr>\n",
       "      <th>13508113</th>\n",
       "      <td>0.0</td>\n",
       "      <td>0.0</td>\n",
       "      <td>18685.0</td>\n",
       "      <td>12524.0</td>\n",
       "      <td>0.0</td>\n",
       "      <td>0.0</td>\n",
       "      <td>0.0000</td>\n",
       "      <td>0.0</td>\n",
       "      <td>0.0</td>\n",
       "      <td>0.0000</td>\n",
       "      <td>...</td>\n",
       "      <td>0.0</td>\n",
       "      <td>0.0000</td>\n",
       "      <td>0.0000</td>\n",
       "      <td>0.0000</td>\n",
       "      <td>0.0000</td>\n",
       "      <td>0.0</td>\n",
       "      <td>0.000000</td>\n",
       "      <td>0.340327</td>\n",
       "      <td>0.289954</td>\n",
       "      <td>7832.0</td>\n",
       "    </tr>\n",
       "    <tr>\n",
       "      <th>232706</th>\n",
       "      <td>0.0</td>\n",
       "      <td>0.0</td>\n",
       "      <td>1232.0</td>\n",
       "      <td>442.0</td>\n",
       "      <td>35693.0</td>\n",
       "      <td>0.0</td>\n",
       "      <td>0.2532</td>\n",
       "      <td>0.0</td>\n",
       "      <td>0.0</td>\n",
       "      <td>0.8025</td>\n",
       "      <td>...</td>\n",
       "      <td>2434.0</td>\n",
       "      <td>0.4195</td>\n",
       "      <td>0.1574</td>\n",
       "      <td>0.1495</td>\n",
       "      <td>0.0805</td>\n",
       "      <td>8128.0</td>\n",
       "      <td>0.519499</td>\n",
       "      <td>0.168053</td>\n",
       "      <td>0.180328</td>\n",
       "      <td>25178.0</td>\n",
       "    </tr>\n",
       "    <tr>\n",
       "      <th>449667</th>\n",
       "      <td>0.0</td>\n",
       "      <td>9.0</td>\n",
       "      <td>207.0</td>\n",
       "      <td>109.0</td>\n",
       "      <td>0.0</td>\n",
       "      <td>23856.0</td>\n",
       "      <td>0.3246</td>\n",
       "      <td>0.0</td>\n",
       "      <td>0.0</td>\n",
       "      <td>0.9167</td>\n",
       "      <td>...</td>\n",
       "      <td>58.0</td>\n",
       "      <td>0.8448</td>\n",
       "      <td>0.1207</td>\n",
       "      <td>0.0172</td>\n",
       "      <td>0.0172</td>\n",
       "      <td>0.0</td>\n",
       "      <td>1.000000</td>\n",
       "      <td>0.000000</td>\n",
       "      <td>0.000000</td>\n",
       "      <td>0.0</td>\n",
       "    </tr>\n",
       "  </tbody>\n",
       "</table>\n",
       "<p>5 rows × 47 columns</p>\n",
       "</div>"
      ],
      "text/plain": [
       "          UNEMP_RATE  MTHCMP1  CUML_DEBT_N  LO_INC_DEBT_N  COSTT4_A  COSTT4_P  \\\n",
       "UNITID                                                                          \n",
       "238324           0.0      0.0        172.0           51.0       0.0       0.0   \n",
       "439570           0.0     10.0       1857.0         1351.0       0.0   17491.0   \n",
       "13508113         0.0      0.0      18685.0        12524.0       0.0       0.0   \n",
       "232706           0.0      0.0       1232.0          442.0   35693.0       0.0   \n",
       "449667           0.0      9.0        207.0          109.0       0.0   23856.0   \n",
       "\n",
       "          PCTPELL  LATITUDE  LONGITUDE  ADM_RATE     ...         UGDS  \\\n",
       "UNITID                                               ...                \n",
       "238324     0.1942       0.0        0.0    0.7600     ...        248.0   \n",
       "439570     0.6757       0.0        0.0    0.0000     ...        679.0   \n",
       "13508113   0.0000       0.0        0.0    0.0000     ...          0.0   \n",
       "232706     0.2532       0.0        0.0    0.8025     ...       2434.0   \n",
       "449667     0.3246       0.0        0.0    0.9167     ...         58.0   \n",
       "\n",
       "          UGDS_WHITE  UGDS_BLACK  UGDS_HISP  UGDS_ASIAN  AVGFACSAL  \\\n",
       "UNITID                                                               \n",
       "238324        0.9476      0.0000     0.0081      0.0242     7010.0   \n",
       "439570        0.6141      0.1370     0.0383      0.0265     3780.0   \n",
       "13508113      0.0000      0.0000     0.0000      0.0000        0.0   \n",
       "232706        0.4195      0.1574     0.1495      0.0805     8128.0   \n",
       "449667        0.8448      0.1207     0.0172      0.0172        0.0   \n",
       "\n",
       "          PFTFTUG1_EF  WDRAW_ORIG_YR3_RT  WDRAW_ORIG_YR4_RT  TUITION_AVG  \n",
       "UNITID                                                                    \n",
       "238324       0.480000           0.000000           0.000000      20239.0  \n",
       "439570       0.837288           0.201905           0.173246          0.0  \n",
       "13508113     0.000000           0.340327           0.289954       7832.0  \n",
       "232706       0.519499           0.168053           0.180328      25178.0  \n",
       "449667       1.000000           0.000000           0.000000          0.0  \n",
       "\n",
       "[5 rows x 47 columns]"
      ]
     },
     "execution_count": 41,
     "metadata": {},
     "output_type": "execute_result"
    }
   ],
   "source": [
    "X_test.head()"
   ]
  },
  {
   "cell_type": "code",
   "execution_count": 42,
   "metadata": {},
   "outputs": [
    {
     "data": {
      "text/plain": [
       "(6234,)"
      ]
     },
     "execution_count": 42,
     "metadata": {},
     "output_type": "execute_result"
    }
   ],
   "source": [
    "y_train.shape"
   ]
  },
  {
   "cell_type": "code",
   "execution_count": 43,
   "metadata": {},
   "outputs": [
    {
     "data": {
      "text/plain": [
       "(1559,)"
      ]
     },
     "execution_count": 43,
     "metadata": {},
     "output_type": "execute_result"
    }
   ],
   "source": [
    "y_test.shape"
   ]
  },
  {
   "cell_type": "markdown",
   "metadata": {},
   "source": [
    "# Ridge Regression w/ GridSearch:\n",
    "\n",
    "The first model I picked was Ridge Regression. Ridge Regression allows us to solve a regression problem & it also allows minimizing of sum of squared differences betwen predicted / actual values in our test set rather than just in our training set. It is also helpful in minimizing overfitting. \n",
    "\n",
    "From our scores here we can see that 60% of the dependent variable is explained by our model. \n",
    "\n",
    "After doing a GridSearch, the final score was 63%."
   ]
  },
  {
   "cell_type": "code",
   "execution_count": 44,
   "metadata": {},
   "outputs": [
    {
     "name": "stdout",
     "output_type": "stream",
     "text": [
      "0.6070570209905737\n",
      "0.5992751769167581\n"
     ]
    }
   ],
   "source": [
    "from sklearn.linear_model import LogisticRegression\n",
    "ridgeregr = linear_model.Ridge()\n",
    "ridgeregr.fit(X_train, y_train)\n",
    "print(ridgeregr.score(X_test, y_test))\n",
    "print(ridgeregr.score(X_train, y_train))"
   ]
  },
  {
   "cell_type": "code",
   "execution_count": 45,
   "metadata": {},
   "outputs": [
    {
     "name": "stdout",
     "output_type": "stream",
     "text": [
      "0.6075540612657271\n",
      "CPU times: user 63.1 ms, sys: 46.3 ms, total: 109 ms\n",
      "Wall time: 150 ms\n"
     ]
    }
   ],
   "source": [
    "from sklearn.model_selection import GridSearchCV\n",
    "ridgeregr = linear_model.Ridge()\n",
    "parameters = [{'alpha': [1, 10, 100, 1000]}]\n",
    "grid_search = GridSearchCV(estimator = ridgeregr, \n",
    "                          param_grid = parameters,\n",
    "                          scoring = 'explained_variance',\n",
    "                          n_jobs = -1)\n",
    "grid_search = grid_search.fit(X_train, y_train)\n",
    "print(grid_search.score(X_test, y_test))\n",
    "%time grid_search = grid_search.fit(X_train, y_train)\n",
    "\n",
    "\n"
   ]
  },
  {
   "cell_type": "code",
   "execution_count": 46,
   "metadata": {},
   "outputs": [
    {
     "name": "stdout",
     "output_type": "stream",
     "text": [
      "0.5594175843927911\n",
      "CPU times: user 75.1 ms, sys: 47.1 ms, total: 122 ms\n",
      "Wall time: 198 ms\n"
     ]
    }
   ],
   "source": [
    "from sklearn.model_selection import GridSearchCV\n",
    "ridgeregr = linear_model.Ridge()\n",
    "parameters = [{'alpha': [200, 500, 700, 900, 1000, 1200, 1500]}]\n",
    "grid_search = GridSearchCV(estimator = ridgeregr, \n",
    "                          param_grid = parameters,\n",
    "                          scoring = 'explained_variance',\n",
    "                          n_jobs = -1)\n",
    "grid_search = grid_search.fit(X_train, y_train)\n",
    "print(grid_search.score(X_test, y_test))\n",
    "%time grid_search = grid_search.fit(X_train, y_train)\n",
    "\n",
    "\n",
    "\n"
   ]
  },
  {
   "cell_type": "code",
   "execution_count": 47,
   "metadata": {},
   "outputs": [
    {
     "name": "stdout",
     "output_type": "stream",
     "text": [
      "{'alpha': 200}\n"
     ]
    }
   ],
   "source": [
    "print(grid_search.best_params_)"
   ]
  },
  {
   "cell_type": "code",
   "execution_count": 48,
   "metadata": {},
   "outputs": [
    {
     "name": "stdout",
     "output_type": "stream",
     "text": [
      "0.6075540612657271\n",
      "CPU times: user 90.2 ms, sys: 63.3 ms, total: 154 ms\n",
      "Wall time: 243 ms\n"
     ]
    }
   ],
   "source": [
    "from sklearn.model_selection import GridSearchCV\n",
    "ridgeregr = linear_model.Ridge()\n",
    "parameters = [{'alpha': [1, 20, 40, 80, 100, 120, 140, 180, 200]}]\n",
    "grid_search = GridSearchCV(estimator = ridgeregr, \n",
    "                          param_grid = parameters, \n",
    "                          scoring = 'explained_variance',\n",
    "                          n_jobs = -1)\n",
    "grid_search = grid_search.fit(X_train, y_train)\n",
    "print(grid_search.score(X_test, y_test))\n",
    "%time grid_search = grid_search.fit(X_train, y_train)\n",
    "\n",
    "\n"
   ]
  },
  {
   "cell_type": "code",
   "execution_count": 49,
   "metadata": {},
   "outputs": [
    {
     "name": "stdout",
     "output_type": "stream",
     "text": [
      "{'alpha': 1}\n"
     ]
    }
   ],
   "source": [
    "print(grid_search.best_params_)"
   ]
  },
  {
   "cell_type": "markdown",
   "metadata": {},
   "source": [
    "## Cross Val Score for Ridge Regression: \n",
    "\n",
    "To examine overfitting, I also did a Cross Validation Score for this model. \n",
    "\n",
    "From the score, we can see that the model is slightly over fitting as the scores are not consistent. \n",
    "\n",
    "Variation could be due to sample size. "
   ]
  },
  {
   "cell_type": "code",
   "execution_count": 50,
   "metadata": {},
   "outputs": [
    {
     "data": {
      "text/plain": [
       "array([0.6817836 , 0.62887016, 0.74499542, 0.64245304, 0.53915474,\n",
       "       0.642364  , 0.49711396, 0.36941212, 0.56596537, 0.23235853])"
      ]
     },
     "execution_count": 50,
     "metadata": {},
     "output_type": "execute_result"
    }
   ],
   "source": [
    "from sklearn.model_selection import cross_val_score\n",
    "cross_val_score(ridgeregr, data, target, cv=10)"
   ]
  },
  {
   "cell_type": "markdown",
   "metadata": {},
   "source": [
    "# Random Forest Regressor:\n",
    "\n",
    "Next, I ran the Random Forest Regressor. Random Forest Regressor works for regression problems and also offers an easy way to evaluate feature importance.\n",
    "\n",
    "Here, the training set performs well but, the test set performs fairly well as well with R2 of 91%. \n",
    "\n",
    "To see if the model was actually overfitting, I looked at the Cross Validation Score which I found to be fairly consistent. \n",
    "\n"
   ]
  },
  {
   "cell_type": "code",
   "execution_count": 51,
   "metadata": {},
   "outputs": [
    {
     "name": "stdout",
     "output_type": "stream",
     "text": [
      "0.9429673524201858\n",
      "0.7582640275137646\n"
     ]
    }
   ],
   "source": [
    "from sklearn.ensemble import RandomForestRegressor\n",
    "model = RandomForestRegressor()\n",
    "model.fit(X_train, y_train)\n",
    "print(model.score(X_train, y_train))\n",
    "print(model.score(X_test, y_test))\n",
    "ypred = model.predict(X_test)"
   ]
  },
  {
   "cell_type": "markdown",
   "metadata": {},
   "source": [
    "## Cross Val Score for RandomForest: \n",
    "\n",
    "- The scores are not consistent so, maybe there is overfitting (also supported by train performing better than test)"
   ]
  },
  {
   "cell_type": "code",
   "execution_count": 52,
   "metadata": {},
   "outputs": [
    {
     "data": {
      "text/plain": [
       "array([0.82158173, 0.69695982, 0.82840333, 0.78531267, 0.7523144 ,\n",
       "       0.7808757 , 0.67006716, 0.60094212, 0.72997151, 0.35422043])"
      ]
     },
     "execution_count": 52,
     "metadata": {},
     "output_type": "execute_result"
    }
   ],
   "source": [
    "from sklearn.model_selection import cross_val_score\n",
    "cross_val_score(model, data, target, cv=10)"
   ]
  },
  {
   "cell_type": "code",
   "execution_count": 53,
   "metadata": {},
   "outputs": [
    {
     "name": "stdout",
     "output_type": "stream",
     "text": [
      "[0.02976474 0.2420625  0.35863759 ... 0.39068226 0.39352095 0.0887726 ]\n"
     ]
    }
   ],
   "source": [
    "print(ypred)"
   ]
  },
  {
   "cell_type": "markdown",
   "metadata": {},
   "source": [
    "## Mean Absolute Error: Using predictions from RandomForest Regressor \n",
    "\n",
    "I also calculated the Mean Absolute Error for this model. From the model, we can see that the errors in the prediction are 1.19%. As this number is fairly low, I concluded that the model was doing a good job in predictions & errors were low."
   ]
  },
  {
   "cell_type": "code",
   "execution_count": 54,
   "metadata": {},
   "outputs": [
    {
     "name": "stdout",
     "output_type": "stream",
     "text": [
      "0.055718044749441566\n"
     ]
    }
   ],
   "source": [
    "from sklearn.metrics import mean_absolute_error\n",
    "mae = mean_absolute_error(y_test, ypred)\n",
    "print(mae)"
   ]
  },
  {
   "cell_type": "markdown",
   "metadata": {},
   "source": [
    "## Mean Squared Error: \n",
    "\n",
    "The Mean Squared Error is also fairly small hence, we can conclude that the fit of the prediction is close to actual data. "
   ]
  },
  {
   "cell_type": "code",
   "execution_count": 55,
   "metadata": {},
   "outputs": [
    {
     "name": "stdout",
     "output_type": "stream",
     "text": [
      "0.009023743619773289\n"
     ]
    }
   ],
   "source": [
    "from sklearn.metrics import mean_squared_error\n",
    "mse = mean_squared_error(y_test, ypred)\n",
    "print(mse)"
   ]
  },
  {
   "cell_type": "markdown",
   "metadata": {},
   "source": [
    "## R2 Score:\n",
    "\n",
    "R Squared score is about 73% which shows that 73% of the data is explained by the model"
   ]
  },
  {
   "cell_type": "code",
   "execution_count": 56,
   "metadata": {},
   "outputs": [
    {
     "data": {
      "text/plain": [
       "0.7582640275137645"
      ]
     },
     "execution_count": 56,
     "metadata": {},
     "output_type": "execute_result"
    }
   ],
   "source": [
    "from sklearn.metrics import r2_score\n",
    "r2_score(y_test, ypred)"
   ]
  },
  {
   "cell_type": "code",
   "execution_count": 57,
   "metadata": {},
   "outputs": [
    {
     "name": "stdout",
     "output_type": "stream",
     "text": [
      "CPU times: user 12.2 s, sys: 163 ms, total: 12.4 s\n",
      "Wall time: 53.7 s\n"
     ]
    }
   ],
   "source": [
    "from sklearn.model_selection import GridSearchCV\n",
    "parameters = [{'n_estimators': [1, 10, 100], #optimal set of parameters in the internal range of parameters\n",
    "               'max_depth': [1, 10, 100]}]\n",
    "grid_search = GridSearchCV(estimator = model, \n",
    "                          param_grid = parameters, \n",
    "                          scoring = 'explained_variance',\n",
    "                          cv = 5,\n",
    "                          n_jobs = -1)\n",
    "%time grid_search = grid_search.fit(X_train, y_train)\n",
    "\n"
   ]
  },
  {
   "cell_type": "code",
   "execution_count": 58,
   "metadata": {},
   "outputs": [
    {
     "name": "stdout",
     "output_type": "stream",
     "text": [
      "{'max_depth': 100, 'n_estimators': 100}\n",
      "0.7791747904083836\n"
     ]
    }
   ],
   "source": [
    "print(grid_search.best_params_)\n",
    "print(grid_search.score(X_test, y_test))\n"
   ]
  },
  {
   "cell_type": "markdown",
   "metadata": {},
   "source": [
    "# Feature Importance Using Random Forest:\n",
    "\n",
    "Here I used the feature_importance_ tool offered by Random Forest. We can see that the highest predictor of default rates is the previous year's default rate. To see that this had a high impact, I also included the default rate from 3 years ago and 4 years ago and these had a significantly lower impact.\n",
    "\n",
    "The second important feature appears to be debt of low income students. This can be due to these students carrying large sums of loans and choosing to drop out of school. \n",
    "\n",
    "Some of the categories had much lower impact that I initially expected such as Tuition Average, Family Income, and students being First Generation college students. "
   ]
  },
  {
   "cell_type": "code",
   "execution_count": 59,
   "metadata": {},
   "outputs": [],
   "source": [
    "feature_importances = pd.DataFrame(model.feature_importances_, index = X_train.columns, columns = ['importance']).sort_values('importance', ascending = False)"
   ]
  },
  {
   "cell_type": "code",
   "execution_count": 60,
   "metadata": {},
   "outputs": [
    {
     "data": {
      "text/html": [
       "<div>\n",
       "<style scoped>\n",
       "    .dataframe tbody tr th:only-of-type {\n",
       "        vertical-align: middle;\n",
       "    }\n",
       "\n",
       "    .dataframe tbody tr th {\n",
       "        vertical-align: top;\n",
       "    }\n",
       "\n",
       "    .dataframe thead th {\n",
       "        text-align: right;\n",
       "    }\n",
       "</style>\n",
       "<table border=\"1\" class=\"dataframe\">\n",
       "  <thead>\n",
       "    <tr style=\"text-align: right;\">\n",
       "      <th></th>\n",
       "      <th>importance</th>\n",
       "    </tr>\n",
       "  </thead>\n",
       "  <tbody>\n",
       "    <tr>\n",
       "      <th>WDRAW_ORIG_YR2_RT</th>\n",
       "      <td>0.424977</td>\n",
       "    </tr>\n",
       "    <tr>\n",
       "      <th>LOAN_EVER</th>\n",
       "      <td>0.067375</td>\n",
       "    </tr>\n",
       "    <tr>\n",
       "      <th>LO_INC_DEBT_MDN</th>\n",
       "      <td>0.046369</td>\n",
       "    </tr>\n",
       "    <tr>\n",
       "      <th>FAMINC</th>\n",
       "      <td>0.034090</td>\n",
       "    </tr>\n",
       "    <tr>\n",
       "      <th>UGDS</th>\n",
       "      <td>0.033123</td>\n",
       "    </tr>\n",
       "    <tr>\n",
       "      <th>WDRAW_ORIG_YR3_RT</th>\n",
       "      <td>0.030881</td>\n",
       "    </tr>\n",
       "    <tr>\n",
       "      <th>CUML_DEBT_N</th>\n",
       "      <td>0.025761</td>\n",
       "    </tr>\n",
       "    <tr>\n",
       "      <th>AVGFACSAL</th>\n",
       "      <td>0.023183</td>\n",
       "    </tr>\n",
       "    <tr>\n",
       "      <th>FEMALE</th>\n",
       "      <td>0.022941</td>\n",
       "    </tr>\n",
       "    <tr>\n",
       "      <th>AGE_ENTRY</th>\n",
       "      <td>0.017104</td>\n",
       "    </tr>\n",
       "    <tr>\n",
       "      <th>MTHCMP1</th>\n",
       "      <td>0.016884</td>\n",
       "    </tr>\n",
       "    <tr>\n",
       "      <th>PAR_ED_PCT_1STGEN</th>\n",
       "      <td>0.016517</td>\n",
       "    </tr>\n",
       "    <tr>\n",
       "      <th>LO_INC_DEBT_N</th>\n",
       "      <td>0.015417</td>\n",
       "    </tr>\n",
       "    <tr>\n",
       "      <th>MARRIED</th>\n",
       "      <td>0.015307</td>\n",
       "    </tr>\n",
       "    <tr>\n",
       "      <th>TUITIONFEE_OUT</th>\n",
       "      <td>0.014110</td>\n",
       "    </tr>\n",
       "    <tr>\n",
       "      <th>TUITIONFEE_IN</th>\n",
       "      <td>0.013586</td>\n",
       "    </tr>\n",
       "    <tr>\n",
       "      <th>UGDS_BLACK</th>\n",
       "      <td>0.013501</td>\n",
       "    </tr>\n",
       "    <tr>\n",
       "      <th>FIRST_GEN</th>\n",
       "      <td>0.013336</td>\n",
       "    </tr>\n",
       "    <tr>\n",
       "      <th>WDRAW_ORIG_YR4_RT</th>\n",
       "      <td>0.012184</td>\n",
       "    </tr>\n",
       "    <tr>\n",
       "      <th>PCTPELL</th>\n",
       "      <td>0.011963</td>\n",
       "    </tr>\n",
       "    <tr>\n",
       "      <th>COSTT4_P</th>\n",
       "      <td>0.011890</td>\n",
       "    </tr>\n",
       "    <tr>\n",
       "      <th>PFTFTUG1_EF</th>\n",
       "      <td>0.011801</td>\n",
       "    </tr>\n",
       "    <tr>\n",
       "      <th>FIRST_GEN</th>\n",
       "      <td>0.011171</td>\n",
       "    </tr>\n",
       "    <tr>\n",
       "      <th>WDRAW_DEBT_MDN</th>\n",
       "      <td>0.011156</td>\n",
       "    </tr>\n",
       "    <tr>\n",
       "      <th>UGDS_WHITE</th>\n",
       "      <td>0.010990</td>\n",
       "    </tr>\n",
       "    <tr>\n",
       "      <th>UGDS_HISP</th>\n",
       "      <td>0.010591</td>\n",
       "    </tr>\n",
       "    <tr>\n",
       "      <th>PELL_EVER</th>\n",
       "      <td>0.010553</td>\n",
       "    </tr>\n",
       "    <tr>\n",
       "      <th>MD_INC_DEBT_MDN</th>\n",
       "      <td>0.009920</td>\n",
       "    </tr>\n",
       "    <tr>\n",
       "      <th>TUITION_AVG</th>\n",
       "      <td>0.007511</td>\n",
       "    </tr>\n",
       "    <tr>\n",
       "      <th>UGDS_ASIAN</th>\n",
       "      <td>0.007424</td>\n",
       "    </tr>\n",
       "    <tr>\n",
       "      <th>HI_INC_DEBT_MDN</th>\n",
       "      <td>0.006929</td>\n",
       "    </tr>\n",
       "    <tr>\n",
       "      <th>VETERAN</th>\n",
       "      <td>0.006308</td>\n",
       "    </tr>\n",
       "    <tr>\n",
       "      <th>COSTT4_A</th>\n",
       "      <td>0.005519</td>\n",
       "    </tr>\n",
       "    <tr>\n",
       "      <th>ADM_RATE</th>\n",
       "      <td>0.004066</td>\n",
       "    </tr>\n",
       "    <tr>\n",
       "      <th>SAT_AVG_ALL</th>\n",
       "      <td>0.003651</td>\n",
       "    </tr>\n",
       "    <tr>\n",
       "      <th>ADM_RATE</th>\n",
       "      <td>0.001578</td>\n",
       "    </tr>\n",
       "    <tr>\n",
       "      <th>SAT_AVG</th>\n",
       "      <td>0.000182</td>\n",
       "    </tr>\n",
       "    <tr>\n",
       "      <th>SAT_AVG</th>\n",
       "      <td>0.000153</td>\n",
       "    </tr>\n",
       "    <tr>\n",
       "      <th>UNEMP_RATE</th>\n",
       "      <td>0.000000</td>\n",
       "    </tr>\n",
       "    <tr>\n",
       "      <th>AGE_ENTRY_SQ</th>\n",
       "      <td>0.000000</td>\n",
       "    </tr>\n",
       "    <tr>\n",
       "      <th>POVERTY_RATE</th>\n",
       "      <td>0.000000</td>\n",
       "    </tr>\n",
       "    <tr>\n",
       "      <th>PCT_HISPANIC</th>\n",
       "      <td>0.000000</td>\n",
       "    </tr>\n",
       "    <tr>\n",
       "      <th>PCT_BLACK</th>\n",
       "      <td>0.000000</td>\n",
       "    </tr>\n",
       "    <tr>\n",
       "      <th>PCT_WHITE</th>\n",
       "      <td>0.000000</td>\n",
       "    </tr>\n",
       "    <tr>\n",
       "      <th>LONGITUDE</th>\n",
       "      <td>0.000000</td>\n",
       "    </tr>\n",
       "    <tr>\n",
       "      <th>LATITUDE</th>\n",
       "      <td>0.000000</td>\n",
       "    </tr>\n",
       "    <tr>\n",
       "      <th>PCT_ASIAN</th>\n",
       "      <td>0.000000</td>\n",
       "    </tr>\n",
       "  </tbody>\n",
       "</table>\n",
       "</div>"
      ],
      "text/plain": [
       "                   importance\n",
       "WDRAW_ORIG_YR2_RT    0.424977\n",
       "LOAN_EVER            0.067375\n",
       "LO_INC_DEBT_MDN      0.046369\n",
       "FAMINC               0.034090\n",
       "UGDS                 0.033123\n",
       "WDRAW_ORIG_YR3_RT    0.030881\n",
       "CUML_DEBT_N          0.025761\n",
       "AVGFACSAL            0.023183\n",
       "FEMALE               0.022941\n",
       "AGE_ENTRY            0.017104\n",
       "MTHCMP1              0.016884\n",
       "PAR_ED_PCT_1STGEN    0.016517\n",
       "LO_INC_DEBT_N        0.015417\n",
       "MARRIED              0.015307\n",
       "TUITIONFEE_OUT       0.014110\n",
       "TUITIONFEE_IN        0.013586\n",
       "UGDS_BLACK           0.013501\n",
       "FIRST_GEN            0.013336\n",
       "WDRAW_ORIG_YR4_RT    0.012184\n",
       "PCTPELL              0.011963\n",
       "COSTT4_P             0.011890\n",
       "PFTFTUG1_EF          0.011801\n",
       "FIRST_GEN            0.011171\n",
       "WDRAW_DEBT_MDN       0.011156\n",
       "UGDS_WHITE           0.010990\n",
       "UGDS_HISP            0.010591\n",
       "PELL_EVER            0.010553\n",
       "MD_INC_DEBT_MDN      0.009920\n",
       "TUITION_AVG          0.007511\n",
       "UGDS_ASIAN           0.007424\n",
       "HI_INC_DEBT_MDN      0.006929\n",
       "VETERAN              0.006308\n",
       "COSTT4_A             0.005519\n",
       "ADM_RATE             0.004066\n",
       "SAT_AVG_ALL          0.003651\n",
       "ADM_RATE             0.001578\n",
       "SAT_AVG              0.000182\n",
       "SAT_AVG              0.000153\n",
       "UNEMP_RATE           0.000000\n",
       "AGE_ENTRY_SQ         0.000000\n",
       "POVERTY_RATE         0.000000\n",
       "PCT_HISPANIC         0.000000\n",
       "PCT_BLACK            0.000000\n",
       "PCT_WHITE            0.000000\n",
       "LONGITUDE            0.000000\n",
       "LATITUDE             0.000000\n",
       "PCT_ASIAN            0.000000"
      ]
     },
     "execution_count": 60,
     "metadata": {},
     "output_type": "execute_result"
    }
   ],
   "source": [
    "feature_importances"
   ]
  },
  {
   "cell_type": "code",
   "execution_count": 61,
   "metadata": {},
   "outputs": [],
   "source": [
    "feature_importances.reset_index(level = 0, inplace = True)"
   ]
  },
  {
   "cell_type": "code",
   "execution_count": 62,
   "metadata": {},
   "outputs": [
    {
     "data": {
      "image/png": "[encoded data removed]",
      "text/plain": [
       "<Figure size 432x288 with 1 Axes>"
      ]
     },
     "metadata": {
      "needs_background": "light"
     },
     "output_type": "display_data"
    }
   ],
   "source": [
    "feature_importances.plot.bar()\n",
    "plt.show()"
   ]
  },
  {
   "cell_type": "markdown",
   "metadata": {},
   "source": [
    "# Gradient Boosting:\n",
    "\n",
    "Another way to evaluate feature importance is through Gradient Boosting. I used the Gradient Boosting model and attempted to graph out a feature importance table like above. \n",
    "\n"
   ]
  },
  {
   "cell_type": "code",
   "execution_count": 63,
   "metadata": {},
   "outputs": [],
   "source": [
    "from sklearn import ensemble\n",
    "from sklearn.utils import shuffle\n",
    "from sklearn.metrics import mean_squared_error"
   ]
  },
  {
   "cell_type": "code",
   "execution_count": 64,
   "metadata": {},
   "outputs": [],
   "source": [
    "params = {'n_estimators': 500, \n",
    "         'max_depth': 2, \n",
    "         'loss': 'ls'}\n",
    "\n",
    "gbr = ensemble.GradientBoostingRegressor(**params)\n",
    "gbr.fit(X_train, y_train)\n",
    "predict_train = gbr.predict(X_train)\n",
    "predict_test = gbr.predict(X_test)\n",
    "table_train = pd.crosstab(y_train, predict_train, margins=True)\n",
    "table_test = pd.crosstab(y_test, predict_test, margins = True)"
   ]
  },
  {
   "cell_type": "code",
   "execution_count": 65,
   "metadata": {},
   "outputs": [
    {
     "data": {
      "image/png": "[encoded data removed]",
      "text/plain": [
       "<Figure size 432x288 with 1 Axes>"
      ]
     },
     "metadata": {
      "needs_background": "light"
     },
     "output_type": "display_data"
    }
   ],
   "source": [
    "from matplotlib.pyplot import figure \n",
    "feature_importance = gbr.feature_importances_\n",
    "feature_importance = 100.0 * (feature_importance / feature_importance.max())\n",
    "sorted_idx = np.argsort(feature_importance)\n",
    "pos = np.arange(sorted_idx.shape[0]) + .5\n",
    "plt.subplot(1, 2, 2)\n",
    "plt.barh(pos, feature_importance[sorted_idx], align='center')\n",
    "plt.yticks(pos, X_train.columns[sorted_idx])\n",
    "plt.xlabel('Relative Importance')\n",
    "plt.title('Variable Importance')\n",
    "plt.show()"
   ]
  },
  {
   "cell_type": "markdown",
   "metadata": {},
   "source": [
    "# KNN Regressor:\n",
    "\n",
    "I also tried KNN Regressor to use a variety of different models. One reason, KNN might not perform well here might be due to some of the features being correlated (Tuition In State is going to be related to Tuition Average). Last year's drop out rate is going to correlated to the target so, my expectation was that the performance for this model might be a bit lower. \n",
    "\n",
    "KNN Score was 63% for training set and 61% for test set. After conducting a GridSearch, this was increased to 65%. "
   ]
  },
  {
   "cell_type": "code",
   "execution_count": 66,
   "metadata": {},
   "outputs": [
    {
     "name": "stdout",
     "output_type": "stream",
     "text": [
      "0.6894808484316884\n",
      "0.6641258561148892\n"
     ]
    }
   ],
   "source": [
    "from sklearn import neighbors\n",
    "knn = neighbors.KNeighborsRegressor(n_neighbors = 10)\n",
    "knn.fit(X_train, y_train)\n",
    "print(knn.score(X_train, y_train))\n",
    "print(knn.score(X_test, y_test))"
   ]
  },
  {
   "cell_type": "code",
   "execution_count": 67,
   "metadata": {},
   "outputs": [
    {
     "name": "stdout",
     "output_type": "stream",
     "text": [
      "CPU times: user 412 ms, sys: 31.1 ms, total: 443 ms\n",
      "Wall time: 29.2 s\n"
     ]
    }
   ],
   "source": [
    "from sklearn.model_selection import GridSearchCV\n",
    "parameters = [{'n_neighbors': [1, 10, 20, 30, 40, 50, 60, 100], #optimal set of parameters in the internal range of parameters\n",
    "               'weights': ['distance', 'uniform']}]\n",
    "grid_search = GridSearchCV(estimator = knn, \n",
    "                          param_grid = parameters, \n",
    "                          scoring = 'explained_variance',\n",
    "                          cv = 5,\n",
    "                          n_jobs = -1)\n",
    "%time grid_search = grid_search.fit(X_train, y_train)\n",
    "\n",
    "\n"
   ]
  },
  {
   "cell_type": "code",
   "execution_count": 68,
   "metadata": {},
   "outputs": [
    {
     "name": "stdout",
     "output_type": "stream",
     "text": [
      "{'n_neighbors': 20, 'weights': 'distance'}\n"
     ]
    }
   ],
   "source": [
    "print(grid_search.best_params_)"
   ]
  },
  {
   "cell_type": "code",
   "execution_count": 69,
   "metadata": {},
   "outputs": [
    {
     "name": "stdout",
     "output_type": "stream",
     "text": [
      "0.9875288430977094\n"
     ]
    }
   ],
   "source": [
    "print(grid_search.score(X_train, y_train))"
   ]
  },
  {
   "cell_type": "code",
   "execution_count": 70,
   "metadata": {},
   "outputs": [
    {
     "name": "stdout",
     "output_type": "stream",
     "text": [
      "0.6678476789573888\n"
     ]
    }
   ],
   "source": [
    "print(grid_search.score(X_test, y_test))"
   ]
  },
  {
   "cell_type": "markdown",
   "metadata": {},
   "source": [
    "# Cross Validation with KNN: \n",
    "\n",
    "Cross validation seems to suggest that the model is overfiting due to the variance between results (0.37 -> 0.58) "
   ]
  },
  {
   "cell_type": "code",
   "execution_count": 71,
   "metadata": {},
   "outputs": [
    {
     "name": "stdout",
     "output_type": "stream",
     "text": [
      "[0.62602261 0.62453672 0.60140047 0.59764015 0.5960075 ]\n"
     ]
    }
   ],
   "source": [
    "from sklearn.model_selection import cross_val_score\n",
    "score = cross_val_score(knn, X_train, y_train, cv=5)\n",
    "print(score)"
   ]
  },
  {
   "cell_type": "markdown",
   "metadata": {},
   "source": [
    "# Lasso Regression: \n",
    "\n",
    "I also attempted Lasso just to try to see how it would perform. It performed fairly poorly compared to other models above.\n",
    "\n",
    "One reason might be because there are various features and many of these features are influencing the model. \n",
    "\n",
    "I got 31% R2 for training set / 32% for test set. \n"
   ]
  },
  {
   "cell_type": "code",
   "execution_count": 72,
   "metadata": {},
   "outputs": [
    {
     "name": "stdout",
     "output_type": "stream",
     "text": [
      "0.30196888352776496\n",
      "0.3260677960909386\n"
     ]
    }
   ],
   "source": [
    "lass = linear_model.Lasso(alpha = 0.35)\n",
    "lass.fit(X_train, y_train)\n",
    "print(lass.score(X_train, y_train))\n",
    "print(lass.score(X_test, y_test))"
   ]
  },
  {
   "cell_type": "code",
   "execution_count": 73,
   "metadata": {},
   "outputs": [
    {
     "name": "stdout",
     "output_type": "stream",
     "text": [
      "CPU times: user 529 ms, sys: 50 ms, total: 579 ms\n",
      "Wall time: 5.25 s\n"
     ]
    }
   ],
   "source": [
    "from sklearn.model_selection import GridSearchCV\n",
    "parameters = [{'alpha': [0.10, 0.30, 0.60, 0.90, 1, 5, 10]}]\n",
    "grid_search = GridSearchCV(estimator = lass, \n",
    "                          param_grid = parameters, \n",
    "                          scoring = 'explained_variance',\n",
    "                          cv = 5,\n",
    "                          n_jobs = -1)\n",
    "%time grid_search = grid_search.fit(X_train, y_train)\n",
    "\n",
    "\n",
    "\n"
   ]
  },
  {
   "cell_type": "code",
   "execution_count": 74,
   "metadata": {},
   "outputs": [
    {
     "data": {
      "text/plain": [
       "{'alpha': 0.1}"
      ]
     },
     "execution_count": 74,
     "metadata": {},
     "output_type": "execute_result"
    }
   ],
   "source": [
    "grid_search.best_params_"
   ]
  },
  {
   "cell_type": "code",
   "execution_count": 75,
   "metadata": {},
   "outputs": [
    {
     "name": "stdout",
     "output_type": "stream",
     "text": [
      "0.33826015394434394\n",
      "0.3701859209136884\n"
     ]
    }
   ],
   "source": [
    "print(grid_search.score(X_train, y_train))\n",
    "print(grid_search.score(X_test, y_test))"
   ]
  },
  {
   "cell_type": "code",
   "execution_count": 76,
   "metadata": {},
   "outputs": [
    {
     "name": "stdout",
     "output_type": "stream",
     "text": [
      "CPU times: user 440 ms, sys: 42.3 ms, total: 482 ms\n",
      "Wall time: 2.02 s\n",
      "0.2630146497323367\n",
      "0.27218091324062943\n",
      "{'alpha': 10}\n"
     ]
    }
   ],
   "source": [
    "from sklearn.model_selection import GridSearchCV\n",
    "parameters = [{'alpha': [10, 20, 30, 40, 50, 60, 80, 100]}]\n",
    "grid_search = GridSearchCV(estimator = lass, \n",
    "                          param_grid = parameters, \n",
    "                          scoring = 'explained_variance',\n",
    "                          cv = 5,\n",
    "                          n_jobs = -1)\n",
    "%time grid_search = grid_search.fit(X_train, y_train)\n",
    "print(grid_search.score(X_train, y_train))\n",
    "print(grid_search.score(X_test, y_test))\n",
    "print(grid_search.best_params_)\n",
    "\n"
   ]
  },
  {
   "cell_type": "code",
   "execution_count": 77,
   "metadata": {},
   "outputs": [
    {
     "name": "stdout",
     "output_type": "stream",
     "text": [
      "CPU times: user 129 ms, sys: 29 ms, total: 158 ms\n",
      "Wall time: 280 ms\n",
      "0.16107021313827508\n",
      "0.15864183637407858\n",
      "{'alpha': 100}\n"
     ]
    }
   ],
   "source": [
    "from sklearn.model_selection import GridSearchCV\n",
    "parameters = [{'alpha': [100, 200, 300, 400, 500, 600]}]\n",
    "grid_search = GridSearchCV(estimator = lass, \n",
    "                          param_grid = parameters, \n",
    "                          scoring = 'explained_variance',\n",
    "                          cv = 5,\n",
    "                          n_jobs = -1)\n",
    "%time grid_search = grid_search.fit(X_train, y_train)\n",
    "print(grid_search.score(X_train, y_train))\n",
    "print(grid_search.score(X_test, y_test))\n",
    "print(grid_search.best_params_)\n",
    "\n",
    "\n"
   ]
  },
  {
   "cell_type": "markdown",
   "metadata": {},
   "source": [
    "# Stakeholder 2: Student Analysis\n",
    "\n",
    "\n",
    "Here we will look at the problem from the prespective of the students. Here, we're assuming the students are only interested in the drop out rates. \n",
    "\n",
    "To do this, I will find historical data on drop out rates by going back to each dataset and labelling the drop out columns by the cohort year. \n",
    "\n",
    "Then, I will use the latest drop out rates we have (year is 2015 - actually referring to data from 2013 - 2014 cohort) and use that to predict future drop out rates. \n"
   ]
  },
  {
   "cell_type": "code",
   "execution_count": 78,
   "metadata": {},
   "outputs": [],
   "source": [
    "# df_comb = pd.concat([df_2012, df_2013, df_2014, df_2015], ignore_index=True)"
   ]
  },
  {
   "cell_type": "markdown",
   "metadata": {},
   "source": [
    "# Data Cleaning:\n",
    "\n",
    "Some datasets had \"UNITID\" as the index and some did not. I made sure all datasets looked similar in formatting first by reseting index and then I set index to \"UNITID\" to make sure the dataset was combined by each institution.\n",
    "\n",
    "I then added withdraw rates from each year's dataset to a new dataset for that respective year. \n",
    "\n",
    "I remained columns for each withdraw rates for each dataset by the respective year. Year of the columns were retracted from College Scorecard's Data Dictionary. \n"
   ]
  },
  {
   "cell_type": "code",
   "execution_count": 79,
   "metadata": {},
   "outputs": [],
   "source": [
    "df_2012.reset_index(level = 0, inplace = True)"
   ]
  },
  {
   "cell_type": "code",
   "execution_count": 80,
   "metadata": {},
   "outputs": [],
   "source": [
    "df_2014.reset_index(level = 0, inplace = True)"
   ]
  },
  {
   "cell_type": "code",
   "execution_count": 81,
   "metadata": {},
   "outputs": [],
   "source": [
    "df_2012 = df_2012.set_index('UNITID')"
   ]
  },
  {
   "cell_type": "code",
   "execution_count": 82,
   "metadata": {},
   "outputs": [],
   "source": [
    "df_2013 = df_2013.set_index('UNITID')\n",
    "df_2014 = df_2014.set_index('UNITID')\n",
    "df_2015 = df_2015.set_index('UNITID')"
   ]
  },
  {
   "cell_type": "code",
   "execution_count": 83,
   "metadata": {},
   "outputs": [],
   "source": [
    "df_2012_new = df_2012[['WDRAW_ORIG_YR2_RT', 'WDRAW_ORIG_YR3_RT', 'WDRAW_ORIG_YR4_RT', 'WDRAW_ORIG_YR6_RT', 'WDRAW_ORIG_YR8_RT']]\n",
    "df_2013_new = df_2013[['WDRAW_ORIG_YR2_RT', 'WDRAW_ORIG_YR3_RT', 'WDRAW_ORIG_YR4_RT', 'WDRAW_ORIG_YR6_RT', 'WDRAW_ORIG_YR8_RT']]\n",
    "df_2014_new = df_2014[['WDRAW_ORIG_YR2_RT', 'WDRAW_ORIG_YR3_RT', 'WDRAW_ORIG_YR4_RT', 'WDRAW_ORIG_YR6_RT', 'WDRAW_ORIG_YR8_RT']]\n",
    "df_2015_new = df_2015[['WDRAW_ORIG_YR2_RT', 'WDRAW_ORIG_YR3_RT', 'WDRAW_ORIG_YR4_RT', 'WDRAW_ORIG_YR6_RT', 'WDRAW_ORIG_YR8_RT']]"
   ]
  },
  {
   "cell_type": "code",
   "execution_count": 84,
   "metadata": {},
   "outputs": [],
   "source": [
    "df_2012_new = df_2012_new.rename(columns={'WDRAW_ORIG_YR2_RT': '2010-2011', 'WDRAW_ORIG_YR3_RT': '2009-2010', 'WDRAW_ORIG_YR4_RT': '2008-2009', 'WDRAW_ORIG_YR6_RT': '2006-2007', 'WDRAW_ORIG_YR8_RT': '2004-2005'})\n",
    "df_2013_new = df_2013_new.rename(columns={'WDRAW_ORIG_YR2_RT': '2011-2012', 'WDRAW_ORIG_YR3_RT': '2010-2011', 'WDRAW_ORIG_YR4_RT': '2009-2010', 'WDRAW_ORIG_YR6_RT': '2008-2009', 'WDRAW_ORIG_YR8_RT': '2005-2006'})\n",
    "df_2014_new = df_2014_new.rename(columns={'WDRAW_ORIG_YR2_RT': '2012-2013', 'WDRAW_ORIG_YR3_RT': '2011-2012', 'WDRAW_ORIG_YR4_RT': '2010-2011', 'WDRAW_ORIG_YR6_RT': '2009-2010', 'WDRAW_ORIG_YR8_RT': '2007-2008'})\n",
    "df_2015_new = df_2015_new.rename(columns={'WDRAW_ORIG_YR2_RT': '2013-2014', 'WDRAW_ORIG_YR3_RT': '2012-2013', 'WDRAW_ORIG_YR4_RT': '2011-2012', 'WDRAW_ORIG_YR6_RT': '2009-2010', 'WDRAW_ORIG_YR8_RT': '2008-2009'})"
   ]
  },
  {
   "cell_type": "code",
   "execution_count": 85,
   "metadata": {},
   "outputs": [],
   "source": [
    "df_2012_new.reset_index(level = 0, inplace = True)\n",
    "df_2013_new.reset_index(level = 0, inplace = True)\n",
    "df_2014_new.reset_index(level = 0, inplace = True)\n",
    "df_2015_new.reset_index(level = 0, inplace = True)"
   ]
  },
  {
   "cell_type": "code",
   "execution_count": 86,
   "metadata": {},
   "outputs": [
    {
     "data": {
      "text/html": [
       "<div>\n",
       "<style scoped>\n",
       "    .dataframe tbody tr th:only-of-type {\n",
       "        vertical-align: middle;\n",
       "    }\n",
       "\n",
       "    .dataframe tbody tr th {\n",
       "        vertical-align: top;\n",
       "    }\n",
       "\n",
       "    .dataframe thead th {\n",
       "        text-align: right;\n",
       "    }\n",
       "</style>\n",
       "<table border=\"1\" class=\"dataframe\">\n",
       "  <thead>\n",
       "    <tr style=\"text-align: right;\">\n",
       "      <th></th>\n",
       "      <th>UNITID</th>\n",
       "      <th>2010-2011</th>\n",
       "      <th>2009-2010</th>\n",
       "      <th>2008-2009</th>\n",
       "      <th>2006-2007</th>\n",
       "      <th>2004-2005</th>\n",
       "    </tr>\n",
       "  </thead>\n",
       "  <tbody>\n",
       "    <tr>\n",
       "      <th>0</th>\n",
       "      <td>100654</td>\n",
       "      <td>0.248126</td>\n",
       "      <td>0.22513922</td>\n",
       "      <td>0.227888</td>\n",
       "      <td>0.247021446</td>\n",
       "      <td>0.224550898</td>\n",
       "    </tr>\n",
       "    <tr>\n",
       "      <th>1</th>\n",
       "      <td>100663</td>\n",
       "      <td>0.207568</td>\n",
       "      <td>0.201495638</td>\n",
       "      <td>0.185837</td>\n",
       "      <td>0.172972973</td>\n",
       "      <td>0.182857143</td>\n",
       "    </tr>\n",
       "    <tr>\n",
       "      <th>2</th>\n",
       "      <td>100690</td>\n",
       "      <td>0.416185</td>\n",
       "      <td>0.502994012</td>\n",
       "      <td>0.384106</td>\n",
       "      <td>0.235294118</td>\n",
       "      <td>0.365517241</td>\n",
       "    </tr>\n",
       "    <tr>\n",
       "      <th>3</th>\n",
       "      <td>100706</td>\n",
       "      <td>0.190311</td>\n",
       "      <td>0.189720333</td>\n",
       "      <td>0.148833</td>\n",
       "      <td>0.152606635</td>\n",
       "      <td>0.175024582</td>\n",
       "    </tr>\n",
       "    <tr>\n",
       "      <th>4</th>\n",
       "      <td>100724</td>\n",
       "      <td>0.322058</td>\n",
       "      <td>0.283642691</td>\n",
       "      <td>0.256149</td>\n",
       "      <td>0.301106581</td>\n",
       "      <td>0.261507672</td>\n",
       "    </tr>\n",
       "  </tbody>\n",
       "</table>\n",
       "</div>"
      ],
      "text/plain": [
       "   UNITID  2010-2011    2009-2010  2008-2009    2006-2007    2004-2005\n",
       "0  100654   0.248126   0.22513922   0.227888  0.247021446  0.224550898\n",
       "1  100663   0.207568  0.201495638   0.185837  0.172972973  0.182857143\n",
       "2  100690   0.416185  0.502994012   0.384106  0.235294118  0.365517241\n",
       "3  100706   0.190311  0.189720333   0.148833  0.152606635  0.175024582\n",
       "4  100724   0.322058  0.283642691   0.256149  0.301106581  0.261507672"
      ]
     },
     "execution_count": 86,
     "metadata": {},
     "output_type": "execute_result"
    }
   ],
   "source": [
    "df_2012_new.head()"
   ]
  },
  {
   "cell_type": "code",
   "execution_count": 87,
   "metadata": {},
   "outputs": [
    {
     "data": {
      "text/html": [
       "<div>\n",
       "<style scoped>\n",
       "    .dataframe tbody tr th:only-of-type {\n",
       "        vertical-align: middle;\n",
       "    }\n",
       "\n",
       "    .dataframe tbody tr th {\n",
       "        vertical-align: top;\n",
       "    }\n",
       "\n",
       "    .dataframe thead th {\n",
       "        text-align: right;\n",
       "    }\n",
       "</style>\n",
       "<table border=\"1\" class=\"dataframe\">\n",
       "  <thead>\n",
       "    <tr style=\"text-align: right;\">\n",
       "      <th></th>\n",
       "      <th>UNITID</th>\n",
       "      <th>2011-2012</th>\n",
       "      <th>2010-2011</th>\n",
       "      <th>2009-2010</th>\n",
       "      <th>2008-2009</th>\n",
       "      <th>2005-2006</th>\n",
       "    </tr>\n",
       "  </thead>\n",
       "  <tbody>\n",
       "    <tr>\n",
       "      <th>0</th>\n",
       "      <td>100654</td>\n",
       "      <td>0.295308188</td>\n",
       "      <td>0.242878561</td>\n",
       "      <td>0.225934765</td>\n",
       "      <td>0.224028907</td>\n",
       "      <td>0.243328101</td>\n",
       "    </tr>\n",
       "    <tr>\n",
       "      <th>1</th>\n",
       "      <td>100663</td>\n",
       "      <td>0.24500196</td>\n",
       "      <td>0.225936811</td>\n",
       "      <td>0.222268384</td>\n",
       "      <td>0.185408922</td>\n",
       "      <td>0.172148654</td>\n",
       "    </tr>\n",
       "    <tr>\n",
       "      <th>2</th>\n",
       "      <td>100690</td>\n",
       "      <td>0.455882353</td>\n",
       "      <td>0.416184971</td>\n",
       "      <td>0.443113773</td>\n",
       "      <td>0.304597701</td>\n",
       "      <td>0.299465241</td>\n",
       "    </tr>\n",
       "    <tr>\n",
       "      <th>3</th>\n",
       "      <td>100706</td>\n",
       "      <td>0.208614865</td>\n",
       "      <td>0.192906574</td>\n",
       "      <td>0.184429327</td>\n",
       "      <td>0.135036496</td>\n",
       "      <td>0.148878924</td>\n",
       "    </tr>\n",
       "    <tr>\n",
       "      <th>4</th>\n",
       "      <td>100724</td>\n",
       "      <td>0.334172436</td>\n",
       "      <td>0.303030303</td>\n",
       "      <td>0.269141531</td>\n",
       "      <td>0.25491297</td>\n",
       "      <td>0.26179402</td>\n",
       "    </tr>\n",
       "  </tbody>\n",
       "</table>\n",
       "</div>"
      ],
      "text/plain": [
       "   UNITID    2011-2012    2010-2011    2009-2010    2008-2009    2005-2006\n",
       "0  100654  0.295308188  0.242878561  0.225934765  0.224028907  0.243328101\n",
       "1  100663   0.24500196  0.225936811  0.222268384  0.185408922  0.172148654\n",
       "2  100690  0.455882353  0.416184971  0.443113773  0.304597701  0.299465241\n",
       "3  100706  0.208614865  0.192906574  0.184429327  0.135036496  0.148878924\n",
       "4  100724  0.334172436  0.303030303  0.269141531   0.25491297   0.26179402"
      ]
     },
     "execution_count": 87,
     "metadata": {},
     "output_type": "execute_result"
    }
   ],
   "source": [
    "df_2013_new.head()"
   ]
  },
  {
   "cell_type": "code",
   "execution_count": 88,
   "metadata": {},
   "outputs": [
    {
     "data": {
      "text/html": [
       "<div>\n",
       "<style scoped>\n",
       "    .dataframe tbody tr th:only-of-type {\n",
       "        vertical-align: middle;\n",
       "    }\n",
       "\n",
       "    .dataframe tbody tr th {\n",
       "        vertical-align: top;\n",
       "    }\n",
       "\n",
       "    .dataframe thead th {\n",
       "        text-align: right;\n",
       "    }\n",
       "</style>\n",
       "<table border=\"1\" class=\"dataframe\">\n",
       "  <thead>\n",
       "    <tr style=\"text-align: right;\">\n",
       "      <th></th>\n",
       "      <th>UNITID</th>\n",
       "      <th>2012-2013</th>\n",
       "      <th>2011-2012</th>\n",
       "      <th>2010-2011</th>\n",
       "      <th>2009-2010</th>\n",
       "      <th>2007-2008</th>\n",
       "    </tr>\n",
       "  </thead>\n",
       "  <tbody>\n",
       "    <tr>\n",
       "      <th>0</th>\n",
       "      <td>100654</td>\n",
       "      <td>0.318108974</td>\n",
       "      <td>0.27874885</td>\n",
       "      <td>0.256371814</td>\n",
       "      <td>0.225498008</td>\n",
       "      <td>0.237490072</td>\n",
       "    </tr>\n",
       "    <tr>\n",
       "      <th>1</th>\n",
       "      <td>100663</td>\n",
       "      <td>0.259811047</td>\n",
       "      <td>0.234025872</td>\n",
       "      <td>0.214548126</td>\n",
       "      <td>0.183460076</td>\n",
       "      <td>0.162612613</td>\n",
       "    </tr>\n",
       "    <tr>\n",
       "      <th>2</th>\n",
       "      <td>100690</td>\n",
       "      <td>0.633187773</td>\n",
       "      <td>0.411764706</td>\n",
       "      <td>0.398843931</td>\n",
       "      <td>0.298013245</td>\n",
       "      <td>0.223529412</td>\n",
       "    </tr>\n",
       "    <tr>\n",
       "      <th>3</th>\n",
       "      <td>100706</td>\n",
       "      <td>0.215600351</td>\n",
       "      <td>0.232263514</td>\n",
       "      <td>0.190311419</td>\n",
       "      <td>0.137570394</td>\n",
       "      <td>0.147867299</td>\n",
       "    </tr>\n",
       "    <tr>\n",
       "      <th>4</th>\n",
       "      <td>100724</td>\n",
       "      <td>0.305031447</td>\n",
       "      <td>0.310887351</td>\n",
       "      <td>0.290345314</td>\n",
       "      <td>0.233353329</td>\n",
       "      <td>0.268491555</td>\n",
       "    </tr>\n",
       "  </tbody>\n",
       "</table>\n",
       "</div>"
      ],
      "text/plain": [
       "   UNITID    2012-2013    2011-2012    2010-2011    2009-2010    2007-2008\n",
       "0  100654  0.318108974   0.27874885  0.256371814  0.225498008  0.237490072\n",
       "1  100663  0.259811047  0.234025872  0.214548126  0.183460076  0.162612613\n",
       "2  100690  0.633187773  0.411764706  0.398843931  0.298013245  0.223529412\n",
       "3  100706  0.215600351  0.232263514  0.190311419  0.137570394  0.147867299\n",
       "4  100724  0.305031447  0.310887351  0.290345314  0.233353329  0.268491555"
      ]
     },
     "execution_count": 88,
     "metadata": {},
     "output_type": "execute_result"
    }
   ],
   "source": [
    "df_2014_new.head()"
   ]
  },
  {
   "cell_type": "code",
   "execution_count": 89,
   "metadata": {},
   "outputs": [
    {
     "data": {
      "text/html": [
       "<div>\n",
       "<style scoped>\n",
       "    .dataframe tbody tr th:only-of-type {\n",
       "        vertical-align: middle;\n",
       "    }\n",
       "\n",
       "    .dataframe tbody tr th {\n",
       "        vertical-align: top;\n",
       "    }\n",
       "\n",
       "    .dataframe thead th {\n",
       "        text-align: right;\n",
       "    }\n",
       "</style>\n",
       "<table border=\"1\" class=\"dataframe\">\n",
       "  <thead>\n",
       "    <tr style=\"text-align: right;\">\n",
       "      <th></th>\n",
       "      <th>UNITID</th>\n",
       "      <th>2013-2014</th>\n",
       "      <th>2012-2013</th>\n",
       "      <th>2011-2012</th>\n",
       "      <th>2009-2010</th>\n",
       "      <th>2008-2009</th>\n",
       "    </tr>\n",
       "  </thead>\n",
       "  <tbody>\n",
       "    <tr>\n",
       "      <th>0</th>\n",
       "      <td>100654</td>\n",
       "      <td>0.308313156</td>\n",
       "      <td>0.294871795</td>\n",
       "      <td>0.27598896</td>\n",
       "      <td>0.22513922</td>\n",
       "      <td>0.198735321</td>\n",
       "    </tr>\n",
       "    <tr>\n",
       "      <th>1</th>\n",
       "      <td>100663</td>\n",
       "      <td>0.224177506</td>\n",
       "      <td>0.238008721</td>\n",
       "      <td>0.216385731</td>\n",
       "      <td>0.198171998</td>\n",
       "      <td>0.170539034</td>\n",
       "    </tr>\n",
       "    <tr>\n",
       "      <th>2</th>\n",
       "      <td>100690</td>\n",
       "      <td>0.587064677</td>\n",
       "      <td>0.593886463</td>\n",
       "      <td>0.392156863</td>\n",
       "      <td>0.431137725</td>\n",
       "      <td>0.25862069</td>\n",
       "    </tr>\n",
       "    <tr>\n",
       "      <th>3</th>\n",
       "      <td>100706</td>\n",
       "      <td>0.218584071</td>\n",
       "      <td>0.191936898</td>\n",
       "      <td>0.20777027</td>\n",
       "      <td>0.152683296</td>\n",
       "      <td>0.130474453</td>\n",
       "    </tr>\n",
       "    <tr>\n",
       "      <th>4</th>\n",
       "      <td>100724</td>\n",
       "      <td>0.292065279</td>\n",
       "      <td>0.310272537</td>\n",
       "      <td>0.312146004</td>\n",
       "      <td>0.251160093</td>\n",
       "      <td>0.228523302</td>\n",
       "    </tr>\n",
       "  </tbody>\n",
       "</table>\n",
       "</div>"
      ],
      "text/plain": [
       "   UNITID    2013-2014    2012-2013    2011-2012    2009-2010    2008-2009\n",
       "0  100654  0.308313156  0.294871795   0.27598896   0.22513922  0.198735321\n",
       "1  100663  0.224177506  0.238008721  0.216385731  0.198171998  0.170539034\n",
       "2  100690  0.587064677  0.593886463  0.392156863  0.431137725   0.25862069\n",
       "3  100706  0.218584071  0.191936898   0.20777027  0.152683296  0.130474453\n",
       "4  100724  0.292065279  0.310272537  0.312146004  0.251160093  0.228523302"
      ]
     },
     "execution_count": 89,
     "metadata": {},
     "output_type": "execute_result"
    }
   ],
   "source": [
    "df_2015_new.head()"
   ]
  },
  {
   "cell_type": "markdown",
   "metadata": {},
   "source": [
    "# Combination of Datasets and Further Cleaning:\n",
    "\n",
    "After I matched each dataest, I combined them together with concat. \n",
    "\n",
    "I also filled in NaN's with 0's and replaced PrivacySuppressed with 0's as well. \n",
    "\n",
    "I then converted values to numeric (as floats) for each columns. \n",
    "\n",
    "In the end, the combined dataset had 10 cohort years data. \n",
    "\n",
    "The target had one cohort year's data. "
   ]
  },
  {
   "cell_type": "code",
   "execution_count": 90,
   "metadata": {},
   "outputs": [],
   "source": [
    "df_comb_new = pd.concat([df_2012_new,df_2013_new, df_2014_new, df_2015_new], axis=0, ignore_index=True)"
   ]
  },
  {
   "cell_type": "code",
   "execution_count": 91,
   "metadata": {},
   "outputs": [],
   "source": [
    "df_comb_new = df_comb_new.fillna(0)\n",
    "df_comb_new = df_comb_new.replace(['PrivacySuppressed'], [0])\n",
    "df_comb_new = df_comb_new.astype(float)\n",
    "df_comb_new = df_comb_new.apply(pd.to_numeric)"
   ]
  },
  {
   "cell_type": "code",
   "execution_count": 92,
   "metadata": {},
   "outputs": [
    {
     "data": {
      "text/html": [
       "<div>\n",
       "<style scoped>\n",
       "    .dataframe tbody tr th:only-of-type {\n",
       "        vertical-align: middle;\n",
       "    }\n",
       "\n",
       "    .dataframe tbody tr th {\n",
       "        vertical-align: top;\n",
       "    }\n",
       "\n",
       "    .dataframe thead th {\n",
       "        text-align: right;\n",
       "    }\n",
       "</style>\n",
       "<table border=\"1\" class=\"dataframe\">\n",
       "  <thead>\n",
       "    <tr style=\"text-align: right;\">\n",
       "      <th></th>\n",
       "      <th>2004-2005</th>\n",
       "      <th>2005-2006</th>\n",
       "      <th>2006-2007</th>\n",
       "      <th>2007-2008</th>\n",
       "      <th>2008-2009</th>\n",
       "      <th>2009-2010</th>\n",
       "      <th>2010-2011</th>\n",
       "      <th>2011-2012</th>\n",
       "      <th>2012-2013</th>\n",
       "      <th>2013-2014</th>\n",
       "      <th>UNITID</th>\n",
       "    </tr>\n",
       "  </thead>\n",
       "  <tbody>\n",
       "    <tr>\n",
       "      <th>0</th>\n",
       "      <td>0.224551</td>\n",
       "      <td>0.0</td>\n",
       "      <td>0.247021</td>\n",
       "      <td>0.0</td>\n",
       "      <td>0.227888</td>\n",
       "      <td>0.225139</td>\n",
       "      <td>0.248126</td>\n",
       "      <td>0.0</td>\n",
       "      <td>0.0</td>\n",
       "      <td>0.0</td>\n",
       "      <td>100654.0</td>\n",
       "    </tr>\n",
       "    <tr>\n",
       "      <th>1</th>\n",
       "      <td>0.182857</td>\n",
       "      <td>0.0</td>\n",
       "      <td>0.172973</td>\n",
       "      <td>0.0</td>\n",
       "      <td>0.185837</td>\n",
       "      <td>0.201496</td>\n",
       "      <td>0.207568</td>\n",
       "      <td>0.0</td>\n",
       "      <td>0.0</td>\n",
       "      <td>0.0</td>\n",
       "      <td>100663.0</td>\n",
       "    </tr>\n",
       "    <tr>\n",
       "      <th>2</th>\n",
       "      <td>0.365517</td>\n",
       "      <td>0.0</td>\n",
       "      <td>0.235294</td>\n",
       "      <td>0.0</td>\n",
       "      <td>0.384106</td>\n",
       "      <td>0.502994</td>\n",
       "      <td>0.416185</td>\n",
       "      <td>0.0</td>\n",
       "      <td>0.0</td>\n",
       "      <td>0.0</td>\n",
       "      <td>100690.0</td>\n",
       "    </tr>\n",
       "    <tr>\n",
       "      <th>3</th>\n",
       "      <td>0.175025</td>\n",
       "      <td>0.0</td>\n",
       "      <td>0.152607</td>\n",
       "      <td>0.0</td>\n",
       "      <td>0.148833</td>\n",
       "      <td>0.189720</td>\n",
       "      <td>0.190311</td>\n",
       "      <td>0.0</td>\n",
       "      <td>0.0</td>\n",
       "      <td>0.0</td>\n",
       "      <td>100706.0</td>\n",
       "    </tr>\n",
       "    <tr>\n",
       "      <th>4</th>\n",
       "      <td>0.261508</td>\n",
       "      <td>0.0</td>\n",
       "      <td>0.301107</td>\n",
       "      <td>0.0</td>\n",
       "      <td>0.256149</td>\n",
       "      <td>0.283643</td>\n",
       "      <td>0.322058</td>\n",
       "      <td>0.0</td>\n",
       "      <td>0.0</td>\n",
       "      <td>0.0</td>\n",
       "      <td>100724.0</td>\n",
       "    </tr>\n",
       "  </tbody>\n",
       "</table>\n",
       "</div>"
      ],
      "text/plain": [
       "   2004-2005  2005-2006  2006-2007  2007-2008  2008-2009  2009-2010  \\\n",
       "0   0.224551        0.0   0.247021        0.0   0.227888   0.225139   \n",
       "1   0.182857        0.0   0.172973        0.0   0.185837   0.201496   \n",
       "2   0.365517        0.0   0.235294        0.0   0.384106   0.502994   \n",
       "3   0.175025        0.0   0.152607        0.0   0.148833   0.189720   \n",
       "4   0.261508        0.0   0.301107        0.0   0.256149   0.283643   \n",
       "\n",
       "   2010-2011  2011-2012  2012-2013  2013-2014    UNITID  \n",
       "0   0.248126        0.0        0.0        0.0  100654.0  \n",
       "1   0.207568        0.0        0.0        0.0  100663.0  \n",
       "2   0.416185        0.0        0.0        0.0  100690.0  \n",
       "3   0.190311        0.0        0.0        0.0  100706.0  \n",
       "4   0.322058        0.0        0.0        0.0  100724.0  "
      ]
     },
     "execution_count": 92,
     "metadata": {},
     "output_type": "execute_result"
    }
   ],
   "source": [
    "df_comb_new.head()"
   ]
  },
  {
   "cell_type": "code",
   "execution_count": 93,
   "metadata": {},
   "outputs": [
    {
     "data": {
      "text/plain": [
       "(30893, 11)"
      ]
     },
     "execution_count": 93,
     "metadata": {},
     "output_type": "execute_result"
    }
   ],
   "source": [
    "df_comb_new.shape"
   ]
  },
  {
   "cell_type": "markdown",
   "metadata": {},
   "source": [
    "# Data Visualization: \n",
    "\n",
    "As there is not much difference in the features in this dataset, I just used a simple histogram.\n",
    "\n",
    "Here we can see that drop out rates were fairly low until 2008 - 2009 year. As we are looking at U.S. Colleges / Universities - we can guess that one of the cause of this might be the financial crisis. The same pattern followed in the academic year of 2009-2010. \n",
    "\n",
    "Similarly, the most recent year's data appear to be hopeful with less dropouts than previous years. "
   ]
  },
  {
   "cell_type": "code",
   "execution_count": 94,
   "metadata": {},
   "outputs": [
    {
     "data": {
      "image/png": "[encoded data removed]",
      "text/plain": [
       "<Figure size 720x720 with 12 Axes>"
      ]
     },
     "metadata": {
      "needs_background": "light"
     },
     "output_type": "display_data"
    }
   ],
   "source": [
    "df_comb_new.hist(alpha = 0.5, figsize = (10,10))\n",
    "plt.show()"
   ]
  },
  {
   "cell_type": "markdown",
   "metadata": {},
   "source": [
    "### Comparing between the years. \n",
    "\n",
    "The data appears to be fairly consistent among the years when I plotted various academic years amongst each other."
   ]
  },
  {
   "cell_type": "code",
   "execution_count": 95,
   "metadata": {},
   "outputs": [
    {
     "name": "stdout",
     "output_type": "stream",
     "text": [
      "True\n"
     ]
    },
    {
     "data": {
      "image/png": "[encoded data removed]",
      "text/plain": [
       "<Figure size 432x288 with 1 Axes>"
      ]
     },
     "metadata": {
      "needs_background": "light"
     },
     "output_type": "display_data"
    }
   ],
   "source": [
    "ax1 = df_comb_new.plot(kind='scatter', x='2004-2005', y='2005-2006', color='r', title = 'Scatter Plot of Withdraw Rate between Years', legend = False)    \n",
    "ax2 = df_comb_new.plot(kind='scatter', x='2006-2007', y='2007-2008', color='g', ax=ax1)    \n",
    "ax3 = df_comb_new.plot(kind='scatter', x='2008-2009', y='2009-2010', color='y', ax=ax1)\n",
    "ax4 = df_comb_new.plot(kind= 'scatter', x='2010-2011', y='2011-2012', color='b', legend = False,  ax=ax1)\n",
    "print(ax1 == ax2 == ax3 == ax4)\n"
   ]
  },
  {
   "cell_type": "markdown",
   "metadata": {},
   "source": [
    "# Model Selection / Processes:\n",
    "\n",
    "I used the same exact process as above. In this case, the features were already picked out (previous years) and the target was the most recent drop out rates. \n",
    "\n",
    "I followed the same approach as above and picked models that best fit regression problems as above. \n",
    "\n",
    "I also tried a few different models to just see how they would perform."
   ]
  },
  {
   "cell_type": "markdown",
   "metadata": {},
   "source": [
    "# Train Test Split:\n",
    "\n",
    "I used sklearn's train test split to divide the data. I used the same division as above 80% training set and 20% test set. "
   ]
  },
  {
   "cell_type": "code",
   "execution_count": 96,
   "metadata": {},
   "outputs": [
    {
     "name": "stdout",
     "output_type": "stream",
     "text": [
      "(24714, 10)\n",
      "(30893, 11)\n"
     ]
    }
   ],
   "source": [
    "from sklearn.model_selection import train_test_split\n",
    "data_wdraw = df_comb_new.loc[:,df_comb_new.columns != '2013-2014']\n",
    "target_wdraw = df_comb_new['2013-2014']\n",
    "X_train, X_test, y_train, y_test = train_test_split(data_wdraw, target_wdraw, test_size=0.20) \n",
    "print(X_train.shape)\n",
    "print(df_comb_new.shape)"
   ]
  },
  {
   "cell_type": "markdown",
   "metadata": {},
   "source": [
    "# Ridge Regression with GridSearch: \n",
    "\n",
    "I first did the Ridge Regression with GridSearch. \n",
    "\n",
    "The R2 after performing GridSearch for the test set was 82.5%. "
   ]
  },
  {
   "cell_type": "code",
   "execution_count": 97,
   "metadata": {},
   "outputs": [
    {
     "name": "stdout",
     "output_type": "stream",
     "text": [
      "0.7839585949101604\n",
      "0.8069664751091195\n"
     ]
    }
   ],
   "source": [
    "from sklearn.linear_model import LogisticRegression\n",
    "ridgeregr = linear_model.Ridge()\n",
    "ridgeregr.fit(X_train, y_train)\n",
    "print(ridgeregr.score(X_test, y_test))\n",
    "print(ridgeregr.score(X_train, y_train))"
   ]
  },
  {
   "cell_type": "code",
   "execution_count": 98,
   "metadata": {},
   "outputs": [
    {
     "name": "stdout",
     "output_type": "stream",
     "text": [
      "0.7840684169810959\n",
      "CPU times: user 65 ms, sys: 43.3 ms, total: 108 ms\n",
      "Wall time: 158 ms\n"
     ]
    }
   ],
   "source": [
    "from sklearn.model_selection import GridSearchCV\n",
    "ridgeregr = linear_model.Ridge()\n",
    "parameters = [{'alpha': [1, 10, 100, 1000]}]\n",
    "grid_search = GridSearchCV(estimator = ridgeregr, \n",
    "                          param_grid = parameters,\n",
    "                          scoring = 'explained_variance',\n",
    "                          n_jobs = -1)\n",
    "grid_search = grid_search.fit(X_train, y_train)\n",
    "print(grid_search.score(X_test, y_test))\n",
    "%time grid_search = grid_search.fit(X_train, y_train)\n"
   ]
  },
  {
   "cell_type": "code",
   "execution_count": 99,
   "metadata": {},
   "outputs": [
    {
     "name": "stdout",
     "output_type": "stream",
     "text": [
      "0.7038665203102177\n",
      "CPU times: user 76.5 ms, sys: 43.3 ms, total: 120 ms\n",
      "Wall time: 206 ms\n"
     ]
    }
   ],
   "source": [
    "from sklearn.model_selection import GridSearchCV\n",
    "ridgeregr = linear_model.Ridge()\n",
    "parameters = [{'alpha': [200, 500, 700, 900, 1000, 1200, 1500]}]\n",
    "grid_search = GridSearchCV(estimator = ridgeregr, \n",
    "                          param_grid = parameters,\n",
    "                          scoring = 'explained_variance',\n",
    "                          n_jobs = -1)\n",
    "grid_search = grid_search.fit(X_train, y_train)\n",
    "print(grid_search.score(X_test, y_test))\n",
    "%time grid_search = grid_search.fit(X_train, y_train)\n",
    "\n",
    "\n",
    "\n",
    "\n"
   ]
  },
  {
   "cell_type": "markdown",
   "metadata": {},
   "source": [
    "## Cross Val for Ridge Regression: \n",
    "\n",
    "I also did a cross validation for GridSearch. I did a 10 fold validation but, for some reason, there were only 3 results. The results were fairly consistent among each other."
   ]
  },
  {
   "cell_type": "code",
   "execution_count": 100,
   "metadata": {},
   "outputs": [
    {
     "data": {
      "text/plain": [
       "array([0.        , 0.        , 0.        , 0.        , 0.        ,\n",
       "       0.        , 0.        , 0.79045905, 0.68723179, 0.73021667])"
      ]
     },
     "execution_count": 100,
     "metadata": {},
     "output_type": "execute_result"
    }
   ],
   "source": [
    "from sklearn.model_selection import cross_val_score\n",
    "cross_val_score(ridgeregr, data_wdraw, target_wdraw, cv=10)"
   ]
  },
  {
   "cell_type": "markdown",
   "metadata": {},
   "source": [
    "# Random Forest Regressor:\n",
    "\n",
    "Second, I did a Random Forest Regressor. I did this because it can be used for evaluating feature importances. \n",
    "\n",
    "Is there a particular year that impacts the next year's drop out rate? Possibly the year before? 2 years before? \n",
    "\n",
    "The score of the model was 93% for the test set after doing GridSearch"
   ]
  },
  {
   "cell_type": "code",
   "execution_count": 101,
   "metadata": {},
   "outputs": [
    {
     "name": "stdout",
     "output_type": "stream",
     "text": [
      "0.9772525605848585\n",
      "0.8821315071874829\n"
     ]
    }
   ],
   "source": [
    "from sklearn.ensemble import RandomForestRegressor\n",
    "model = RandomForestRegressor()\n",
    "model.fit(X_train, y_train)\n",
    "print(model.score(X_train, y_train))\n",
    "print(model.score(X_test, y_test))\n",
    "ypred = model.predict(X_test)"
   ]
  },
  {
   "cell_type": "code",
   "execution_count": 102,
   "metadata": {},
   "outputs": [
    {
     "data": {
      "text/plain": [
       "array([0.        , 0.        , 0.        , 0.        , 0.        ,\n",
       "       0.        , 0.        , 0.83843338, 0.79443838, 0.59607576])"
      ]
     },
     "execution_count": 102,
     "metadata": {},
     "output_type": "execute_result"
    }
   ],
   "source": [
    "from sklearn.model_selection import cross_val_score\n",
    "cross_val_score(model, data_wdraw, target_wdraw, cv=10)"
   ]
  },
  {
   "cell_type": "code",
   "execution_count": 103,
   "metadata": {},
   "outputs": [],
   "source": [
    "predictions = model.predict(X_test)"
   ]
  },
  {
   "cell_type": "code",
   "execution_count": 104,
   "metadata": {},
   "outputs": [
    {
     "data": {
      "text/plain": [
       "array([0.25652492, 0.        , 0.35107842, ..., 0.        , 0.        ,\n",
       "       0.        ])"
      ]
     },
     "execution_count": 104,
     "metadata": {},
     "output_type": "execute_result"
    }
   ],
   "source": [
    "predictions"
   ]
  },
  {
   "cell_type": "code",
   "execution_count": 105,
   "metadata": {},
   "outputs": [
    {
     "name": "stdout",
     "output_type": "stream",
     "text": [
      "CPU times: user 3.73 s, sys: 60.7 ms, total: 3.79 s\n",
      "Wall time: 30.8 s\n"
     ]
    }
   ],
   "source": [
    "from sklearn.model_selection import GridSearchCV\n",
    "parameters = [{'n_estimators': [1, 10, 100], #optimal set of parameters in the internal range of parameters\n",
    "               'max_depth': [1, 10, 100]}]\n",
    "grid_search = GridSearchCV(estimator = model, \n",
    "                          param_grid = parameters, \n",
    "                          scoring = 'explained_variance',\n",
    "                          cv = 5,\n",
    "                          n_jobs = -1)\n",
    "%time grid_search = grid_search.fit(X_train, y_train)\n",
    "\n",
    "\n"
   ]
  },
  {
   "cell_type": "code",
   "execution_count": 106,
   "metadata": {},
   "outputs": [
    {
     "name": "stdout",
     "output_type": "stream",
     "text": [
      "{'max_depth': 10, 'n_estimators': 100}\n",
      "0.8951418457782272\n"
     ]
    }
   ],
   "source": [
    "print(grid_search.best_params_)\n",
    "print(grid_search.score(X_test, y_test))\n",
    "\n"
   ]
  },
  {
   "cell_type": "markdown",
   "metadata": {},
   "source": [
    "# Feature Importance:\n",
    "\n",
    "The most important indicator of future drop out rates appears to be 1 academic year before the one you were predicting.\n",
    "\n",
    "This makes sense in terms of future prediction. There is also a large importance in the academic year 2008 - 2009 (year of financial crisis) which may have played a factor."
   ]
  },
  {
   "cell_type": "code",
   "execution_count": 107,
   "metadata": {},
   "outputs": [],
   "source": [
    "feature_importances = pd.DataFrame(model.feature_importances_, index = X_train.columns, columns = ['importance']).sort_values('importance', ascending = False)"
   ]
  },
  {
   "cell_type": "code",
   "execution_count": 108,
   "metadata": {},
   "outputs": [
    {
     "data": {
      "text/html": [
       "<div>\n",
       "<style scoped>\n",
       "    .dataframe tbody tr th:only-of-type {\n",
       "        vertical-align: middle;\n",
       "    }\n",
       "\n",
       "    .dataframe tbody tr th {\n",
       "        vertical-align: top;\n",
       "    }\n",
       "\n",
       "    .dataframe thead th {\n",
       "        text-align: right;\n",
       "    }\n",
       "</style>\n",
       "<table border=\"1\" class=\"dataframe\">\n",
       "  <thead>\n",
       "    <tr style=\"text-align: right;\">\n",
       "      <th></th>\n",
       "      <th>importance</th>\n",
       "    </tr>\n",
       "  </thead>\n",
       "  <tbody>\n",
       "    <tr>\n",
       "      <th>2012-2013</th>\n",
       "      <td>0.437050</td>\n",
       "    </tr>\n",
       "    <tr>\n",
       "      <th>2008-2009</th>\n",
       "      <td>0.274049</td>\n",
       "    </tr>\n",
       "    <tr>\n",
       "      <th>2010-2011</th>\n",
       "      <td>0.215359</td>\n",
       "    </tr>\n",
       "    <tr>\n",
       "      <th>UNITID</th>\n",
       "      <td>0.024140</td>\n",
       "    </tr>\n",
       "    <tr>\n",
       "      <th>2009-2010</th>\n",
       "      <td>0.023928</td>\n",
       "    </tr>\n",
       "    <tr>\n",
       "      <th>2011-2012</th>\n",
       "      <td>0.023468</td>\n",
       "    </tr>\n",
       "    <tr>\n",
       "      <th>2007-2008</th>\n",
       "      <td>0.001906</td>\n",
       "    </tr>\n",
       "    <tr>\n",
       "      <th>2006-2007</th>\n",
       "      <td>0.000070</td>\n",
       "    </tr>\n",
       "    <tr>\n",
       "      <th>2004-2005</th>\n",
       "      <td>0.000021</td>\n",
       "    </tr>\n",
       "    <tr>\n",
       "      <th>2005-2006</th>\n",
       "      <td>0.000008</td>\n",
       "    </tr>\n",
       "  </tbody>\n",
       "</table>\n",
       "</div>"
      ],
      "text/plain": [
       "           importance\n",
       "2012-2013    0.437050\n",
       "2008-2009    0.274049\n",
       "2010-2011    0.215359\n",
       "UNITID       0.024140\n",
       "2009-2010    0.023928\n",
       "2011-2012    0.023468\n",
       "2007-2008    0.001906\n",
       "2006-2007    0.000070\n",
       "2004-2005    0.000021\n",
       "2005-2006    0.000008"
      ]
     },
     "execution_count": 108,
     "metadata": {},
     "output_type": "execute_result"
    }
   ],
   "source": [
    "feature_importances"
   ]
  },
  {
   "cell_type": "code",
   "execution_count": 109,
   "metadata": {},
   "outputs": [
    {
     "data": {
      "image/png": "[encoded data removed]",
      "text/plain": [
       "<Figure size 432x288 with 1 Axes>"
      ]
     },
     "metadata": {
      "needs_background": "light"
     },
     "output_type": "display_data"
    }
   ],
   "source": [
    "feature_importance = model.feature_importances_\n",
    "feature_importance = (feature_importance / feature_importance.max())\n",
    "sorted_idx = np.argsort(feature_importance)\n",
    "pos = np.arange(sorted_idx.shape[0]) + .5\n",
    "plt.subplot(1, 2, 2)\n",
    "plt.barh(pos, feature_importance[sorted_idx], align='center')\n",
    "plt.yticks(pos, X_train.columns[sorted_idx])\n",
    "plt.xlabel('Feature Importance Evaluation')\n",
    "plt.title('Feature Importance')\n",
    "plt.show()"
   ]
  },
  {
   "cell_type": "markdown",
   "metadata": {},
   "source": [
    "# KNN Regressor: \n",
    "\n",
    "I tried KNN just to try to see what would happen. It did not perform well. My best guess is because features are highly correlated to each other and the target and KNN assumes each feature is independent of each other."
   ]
  },
  {
   "cell_type": "code",
   "execution_count": 110,
   "metadata": {},
   "outputs": [
    {
     "name": "stdout",
     "output_type": "stream",
     "text": [
      "0.12021582439971812\n",
      "-0.07590501235893687\n"
     ]
    }
   ],
   "source": [
    "from sklearn import neighbors\n",
    "knn = neighbors.KNeighborsRegressor(n_neighbors = 10)\n",
    "knn.fit(X_train, y_train)\n",
    "print(knn.score(X_train, y_train))\n",
    "print(knn.score(X_test, y_test))"
   ]
  },
  {
   "cell_type": "code",
   "execution_count": 111,
   "metadata": {},
   "outputs": [
    {
     "name": "stdout",
     "output_type": "stream",
     "text": [
      "CPU times: user 494 ms, sys: 134 ms, total: 629 ms\n",
      "Wall time: 12.2 s\n"
     ]
    }
   ],
   "source": [
    "from sklearn.model_selection import GridSearchCV\n",
    "parameters = [{'n_neighbors': [1, 10, 20, 30, 40, 50, 60, 100], #optimal set of parameters in the internal range of parameters\n",
    "               'weights': ['distance', 'uniform']}]\n",
    "grid_search = GridSearchCV(estimator = knn, \n",
    "                          param_grid = parameters, \n",
    "                          scoring = 'explained_variance',\n",
    "                          cv = 5,\n",
    "                          n_jobs = -1)\n",
    "%time grid_search = grid_search.fit(X_train, y_train)"
   ]
  },
  {
   "cell_type": "code",
   "execution_count": 112,
   "metadata": {},
   "outputs": [
    {
     "name": "stdout",
     "output_type": "stream",
     "text": [
      "0.0076283065925941695\n"
     ]
    }
   ],
   "source": [
    "print(grid_search.score(X_test, y_test))"
   ]
  },
  {
   "cell_type": "markdown",
   "metadata": {},
   "source": [
    "# SVR \n",
    "\n",
    "I also tried SVR as I wanted to see how it would perform. It performed really poorly. "
   ]
  },
  {
   "cell_type": "code",
   "execution_count": 113,
   "metadata": {},
   "outputs": [],
   "source": [
    "#from sklearn.svm import SVR\n",
    "#svr = SVR(kernel = 'linear')\n",
    "#svr.fit(X_train, y_train)"
   ]
  },
  {
   "cell_type": "code",
   "execution_count": 114,
   "metadata": {},
   "outputs": [],
   "source": [
    "#print(svr.score(X_train, y_train))"
   ]
  },
  {
   "cell_type": "code",
   "execution_count": 115,
   "metadata": {},
   "outputs": [],
   "source": [
    "#print(svr.score(X_test, y_test))"
   ]
  },
  {
   "cell_type": "code",
   "execution_count": 116,
   "metadata": {},
   "outputs": [],
   "source": [
    "# svr.predict(X_test)"
   ]
  },
  {
   "cell_type": "markdown",
   "metadata": {},
   "source": [
    "# Keras Modeling\n",
    "\n",
    "- activation function\n",
    "- train /test split needed (validation set)\n",
    "- batch size"
   ]
  },
  {
   "cell_type": "code",
   "execution_count": 117,
   "metadata": {},
   "outputs": [
    {
     "name": "stderr",
     "output_type": "stream",
     "text": [
      "Using TensorFlow backend.\n"
     ]
    }
   ],
   "source": [
    "import keras\n",
    "from keras.models import Sequential\n",
    "from keras.layers import Dense, Activation\n",
    "def build_regressor():\n",
    "    regressor = Sequential()\n",
    "    regressor.add(Dense(units = 10, input_dim = 10))\n",
    "    regressor.add(Dense(units = 1))\n",
    "    regressor.compile(optimizer = 'adam', loss = 'mean_squared_error', metrics = ['mae', 'mse'])\n",
    "    \n",
    "    return regressor"
   ]
  },
  {
   "cell_type": "code",
   "execution_count": 118,
   "metadata": {},
   "outputs": [],
   "source": [
    "from keras.wrappers.scikit_learn import KerasRegressor\n",
    "regressor = KerasRegressor(build_fn = build_regressor, batch_size = 32, epochs = 100)"
   ]
  },
  {
   "cell_type": "code",
   "execution_count": 119,
   "metadata": {},
   "outputs": [
    {
     "name": "stdout",
     "output_type": "stream",
     "text": [
      "WARNING:tensorflow:From /Library/Frameworks/Python.framework/Versions/3.7/lib/python3.7/site-packages/tensorflow/python/framework/op_def_library.py:263: colocate_with (from tensorflow.python.framework.ops) is deprecated and will be removed in a future version.\n",
      "Instructions for updating:\n",
      "Colocations handled automatically by placer.\n",
      "WARNING:tensorflow:From /Library/Frameworks/Python.framework/Versions/3.7/lib/python3.7/site-packages/tensorflow/python/ops/math_ops.py:3066: to_int32 (from tensorflow.python.ops.math_ops) is deprecated and will be removed in a future version.\n",
      "Instructions for updating:\n",
      "Use tf.cast instead.\n",
      "Epoch 1/100\n",
      "24714/24714 [==============================] - 1s 46us/step - loss: 1290838733.2297 - mean_absolute_error: 1620.5018 - mean_squared_error: 1290838733.2297\n",
      "Epoch 2/100\n",
      "24714/24714 [==============================] - 1s 38us/step - loss: 0.0274 - mean_absolute_error: 0.1246 - mean_squared_error: 0.0274 0s - loss: 0.0277 - mean_absolute_error: 0.1251 - mean_squared_error\n",
      "Epoch 3/100\n",
      "24714/24714 [==============================] - 1s 37us/step - loss: 0.0282 - mean_absolute_error: 0.1254 - mean_squared_error: 0.0282 0s - loss: 0.0274 - mean_absolute_error: 0.1245 - mean_squared_err\n",
      "Epoch 4/100\n",
      "24714/24714 [==============================] - 1s 36us/step - loss: 0.0451 - mean_absolute_error: 0.1330 - mean_squared_error: 0.0451\n",
      "Epoch 5/100\n",
      "24714/24714 [==============================] - 1s 36us/step - loss: 57469738.7252 - mean_absolute_error: 612.1969 - mean_squared_error: 57469738.7252\n",
      "Epoch 6/100\n",
      "24714/24714 [==============================] - 1s 36us/step - loss: 893467620.5896 - mean_absolute_error: 2557.1160 - mean_squared_error: 893467620.5896\n",
      "Epoch 7/100\n",
      "24714/24714 [==============================] - 1s 35us/step - loss: 0.0162 - mean_absolute_error: 0.0934 - mean_squared_error: 0.0162\n",
      "Epoch 8/100\n",
      "24714/24714 [==============================] - 1s 38us/step - loss: 0.0212 - mean_absolute_error: 0.0960 - mean_squared_error: 0.0212 0s - loss: 0.0221 - mean_absolute_error: 0.0966 - mean_squared_err\n",
      "Epoch 9/100\n",
      "24714/24714 [==============================] - 1s 38us/step - loss: 27769710.6119 - mean_absolute_error: 251.7824 - mean_squared_error: 27769710.6119\n",
      "Epoch 10/100\n",
      "24714/24714 [==============================] - 1s 38us/step - loss: 128780265.9693 - mean_absolute_error: 622.0799 - mean_squared_error: 128780265.9693\n",
      "Epoch 11/100\n",
      "24714/24714 [==============================] - 1s 38us/step - loss: 0.0598 - mean_absolute_error: 0.1688 - mean_squared_error: 0.0598\n",
      "Epoch 12/100\n",
      "24714/24714 [==============================] - 1s 38us/step - loss: 151093151.5210 - mean_absolute_error: 1044.4021 - mean_squared_error: 151093151.5210\n",
      "Epoch 13/100\n",
      "24714/24714 [==============================] - 1s 37us/step - loss: 6.5656 - mean_absolute_error: 0.3503 - mean_squared_error: 6.5656\n",
      "Epoch 14/100\n",
      "24714/24714 [==============================] - 1s 38us/step - loss: 0.0485 - mean_absolute_error: 0.1583 - mean_squared_error: 0.0485\n",
      "Epoch 15/100\n",
      "24714/24714 [==============================] - 1s 39us/step - loss: 122015601.4180 - mean_absolute_error: 1265.0887 - mean_squared_error: 122015601.4180: 0s - loss: 206994734.3791 - mean_absolute_error: 1706.5034 - mean_squared_error: 20699\n",
      "Epoch 16/100\n",
      "24714/24714 [==============================] - 1s 38us/step - loss: 153087.2409 - mean_absolute_error: 55.9372 - mean_squared_error: 153087.2409: 0s - loss: 293955.0082 - mean_absolute_error: 90.2825 - mean_squared_error\n",
      "Epoch 17/100\n",
      "24714/24714 [==============================] - 1s 37us/step - loss: 583157653.5948 - mean_absolute_error: 1668.5337 - mean_squared_error: 583157653.5948\n",
      "Epoch 18/100\n",
      "24714/24714 [==============================] - 1s 38us/step - loss: 0.0461 - mean_absolute_error: 0.1756 - mean_squared_error: 0.0461 0s - loss: 0.0461 - mean_absolute_error: 0.1762 - mean\n",
      "Epoch 19/100\n",
      "24714/24714 [==============================] - 1s 37us/step - loss: 0.0482 - mean_absolute_error: 0.1771 - mean_squared_error: 0.0482\n",
      "Epoch 20/100\n",
      "24714/24714 [==============================] - 1s 36us/step - loss: 6514.8418 - mean_absolute_error: 5.5903 - mean_squared_error: 6514.8418\n",
      "Epoch 21/100\n",
      "24714/24714 [==============================] - 1s 41us/step - loss: 238447938.8256 - mean_absolute_error: 1504.2029 - mean_squared_error: 238447938.8256\n",
      "Epoch 22/100\n",
      "24714/24714 [==============================] - 1s 38us/step - loss: 0.0905 - mean_absolute_error: 0.2522 - mean_squared_error: 0.0905\n",
      "Epoch 23/100\n",
      "24714/24714 [==============================] - 1s 38us/step - loss: 9.0779 - mean_absolute_error: 0.4585 - mean_squared_error: 9.0779 0s - loss: 10.1841 - mean_absolute_error: 0.4724 - mean_squared_error: 10. - ETA: 0s - loss: 9.2588 - mean_absolute_error: 0.4620 - mean_squared_error: 9.25\n",
      "Epoch 24/100\n",
      "24714/24714 [==============================] - 1s 38us/step - loss: 7178.4734 - mean_absolute_error: 6.4266 - mean_squared_error: 7178.4734\n",
      "Epoch 25/100\n",
      "24714/24714 [==============================] - 1s 36us/step - loss: 366373660.3034 - mean_absolute_error: 2229.7069 - mean_squared_error: 366373660.3034\n",
      "Epoch 26/100\n",
      "24714/24714 [==============================] - 1s 35us/step - loss: 0.0436 - mean_absolute_error: 0.1711 - mean_squared_error: 0.0436\n",
      "Epoch 27/100\n",
      "24714/24714 [==============================] - 1s 37us/step - loss: 0.0448 - mean_absolute_error: 0.1720 - mean_squared_error: 0.0448\n",
      "Epoch 28/100\n",
      "24714/24714 [==============================] - 1s 37us/step - loss: 11631771.8983 - mean_absolute_error: 218.2434 - mean_squared_error: 11631771.8983\n",
      "Epoch 29/100\n",
      "24714/24714 [==============================] - 1s 38us/step - loss: 441373012.7690 - mean_absolute_error: 2603.7267 - mean_squared_error: 441373012.7690\n",
      "Epoch 30/100\n",
      "24714/24714 [==============================] - 1s 37us/step - loss: 0.0290 - mean_absolute_error: 0.1281 - mean_squared_error: 0.0290\n",
      "Epoch 31/100\n",
      "24714/24714 [==============================] - 1s 40us/step - loss: 0.0323 - mean_absolute_error: 0.1305 - mean_squared_error: 0.0323 0s - loss: 0.0315 - mean_absolute_error: 0.1296 - mean_squared_error - ETA: 0s - loss: 0.0317 - mean_absolute_error: 0.1298 - mean_squared_e\n",
      "Epoch 32/100\n",
      "24714/24714 [==============================] - 1s 36us/step - loss: 39422687.7036 - mean_absolute_error: 534.2325 - mean_squared_error: 39422687.7036\n",
      "Epoch 33/100\n",
      "24714/24714 [==============================] - 1s 36us/step - loss: 63145249.2451 - mean_absolute_error: 863.0469 - mean_squared_error: 63145249.2451\n",
      "Epoch 34/100\n",
      "24714/24714 [==============================] - 1s 35us/step - loss: 44661.8328 - mean_absolute_error: 25.6756 - mean_squared_error: 44661.8328\n",
      "Epoch 35/100\n",
      "24714/24714 [==============================] - 1s 37us/step - loss: 307748786.5510 - mean_absolute_error: 1307.4125 - mean_squared_error: 307748786.5510217 - mean_absolute_error: 1.7916 - mean_squared_\n",
      "Epoch 36/100\n",
      "24714/24714 [==============================] - 1s 37us/step - loss: 3.1991 - mean_absolute_error: 0.2249 - mean_squared_error: 3.1991\n",
      "Epoch 37/100\n",
      "24714/24714 [==============================] - 1s 38us/step - loss: 0.0444 - mean_absolute_error: 0.1681 - mean_squared_error: 0.0444 0s - loss: 0.0464 - mean_absolute_error: 0.1693 - mean_squared_e\n",
      "Epoch 38/100\n",
      "24714/24714 [==============================] - 1s 39us/step - loss: 1147.7111 - mean_absolute_error: 2.6124 - mean_squared_error: 1147.7111\n",
      "Epoch 39/100\n",
      "24714/24714 [==============================] - 1s 37us/step - loss: 69181818.3098 - mean_absolute_error: 843.1204 - mean_squared_error: 69181818.3098\n",
      "Epoch 40/100\n",
      "24714/24714 [==============================] - 1s 35us/step - loss: 4911663.4996 - mean_absolute_error: 218.5419 - mean_squared_error: 4911663.4996\n",
      "Epoch 41/100\n",
      "24714/24714 [==============================] - 1s 35us/step - loss: 0.1972 - mean_absolute_error: 0.2193 - mean_squared_error: 0.1972\n",
      "Epoch 42/100\n",
      "24714/24714 [==============================] - 1s 37us/step - loss: 59215841.9178 - mean_absolute_error: 551.5217 - mean_squared_error: 59215841.9178\n",
      "Epoch 43/100\n"
     ]
    },
    {
     "name": "stdout",
     "output_type": "stream",
     "text": [
      "24714/24714 [==============================] - 1s 39us/step - loss: 1.3816 - mean_absolute_error: 0.2885 - mean_squared_error: 1.3816 0s - loss: 0.2692 - mean_absolute_error: 0.2455 - mean_squared_error: 0.\n",
      "Epoch 44/100\n",
      "24714/24714 [==============================] - 1s 33us/step - loss: 347197371.9550 - mean_absolute_error: 1356.9559 - mean_squared_error: 347197371.9550\n",
      "Epoch 45/100\n",
      "24714/24714 [==============================] - 1s 32us/step - loss: 0.0789 - mean_absolute_error: 0.2562 - mean_squared_error: 0.0789\n",
      "Epoch 46/100\n",
      "24714/24714 [==============================] - 1s 32us/step - loss: 0.0793 - mean_absolute_error: 0.2563 - mean_squared_error: 0.0793\n",
      "Epoch 47/100\n",
      "24714/24714 [==============================] - 1s 32us/step - loss: 817.5503 - mean_absolute_error: 2.4557 - mean_squared_error: 817.5503\n",
      "Epoch 48/100\n",
      "24714/24714 [==============================] - 1s 33us/step - loss: 61580101.8445 - mean_absolute_error: 979.1594 - mean_squared_error: 61580101.8445\n",
      "Epoch 49/100\n",
      "24714/24714 [==============================] - 1s 33us/step - loss: 19330751.7194 - mean_absolute_error: 255.8285 - mean_squared_error: 19330751.7194\n",
      "Epoch 50/100\n",
      "24714/24714 [==============================] - 1s 33us/step - loss: 62465579.7941 - mean_absolute_error: 453.1825 - mean_squared_error: 62465579.7941 0s - loss: 66632801.8236 - mean_absolute_error: 481.9346 - mean_squared_error: 66632801.\n",
      "Epoch 51/100\n",
      "24714/24714 [==============================] - 1s 33us/step - loss: 524.1843 - mean_absolute_error: 2.7077 - mean_squared_error: 524.1843\n",
      "Epoch 52/100\n",
      "24714/24714 [==============================] - 1s 33us/step - loss: 151995333.2526 - mean_absolute_error: 1010.8024 - mean_squared_error: 151995333.2526\n",
      "Epoch 53/100\n",
      "24714/24714 [==============================] - 1s 34us/step - loss: 45.7491 - mean_absolute_error: 0.5370 - mean_squared_error: 45.7491 0s - loss: 67.3902 - mean_absolute_error: 0.6696 - mean_squared_er\n",
      "Epoch 54/100\n",
      "24714/24714 [==============================] - 1s 33us/step - loss: 0.1482 - mean_absolute_error: 0.2727 - mean_squared_error: 0.1482\n",
      "Epoch 55/100\n",
      "24714/24714 [==============================] - 1s 33us/step - loss: 66017324.3996 - mean_absolute_error: 663.3949 - mean_squared_error: 66017324.3996\n",
      "Epoch 56/100\n",
      "24714/24714 [==============================] - 1s 43us/step - loss: 108624767.3895 - mean_absolute_error: 1192.0676 - mean_squared_error: 108624767.3895\n",
      "Epoch 57/100\n",
      "24714/24714 [==============================] - 1s 34us/step - loss: 21.7260 - mean_absolute_error: 0.4150 - mean_squared_error: 21.7260 0s - loss: 35.1292 - mean_absolute_error: 0.5228 - mean_squared_\n",
      "Epoch 58/100\n",
      "24714/24714 [==============================] - 1s 33us/step - loss: 175.1276 - mean_absolute_error: 1.5179 - mean_squared_error: 175.1276\n",
      "Epoch 59/100\n",
      "24714/24714 [==============================] - 1s 33us/step - loss: 368030470.3439 - mean_absolute_error: 2094.7253 - mean_squared_error: 368030470.3439\n",
      "Epoch 60/100\n",
      "24714/24714 [==============================] - 1s 33us/step - loss: 6371.7234 - mean_absolute_error: 5.6812 - mean_squared_error: 6371.7234\n",
      "Epoch 61/100\n",
      "24714/24714 [==============================] - 1s 33us/step - loss: 0.0923 - mean_absolute_error: 0.2754 - mean_squared_error: 0.0923\n",
      "Epoch 62/100\n",
      "24714/24714 [==============================] - 1s 33us/step - loss: 0.3396 - mean_absolute_error: 0.3069 - mean_squared_error: 0.3396 0s - loss: 0.0909 - mean_absolute_error: 0.2755 - mean\n",
      "Epoch 63/100\n",
      "24714/24714 [==============================] - 1s 32us/step - loss: 2633.1301 - mean_absolute_error: 3.6818 - mean_squared_error: 2633.1301\n",
      "Epoch 64/100\n",
      "24714/24714 [==============================] - 1s 33us/step - loss: 308731139.7386 - mean_absolute_error: 1556.3699 - mean_squared_error: 308731139.7386\n",
      "Epoch 65/100\n",
      "24714/24714 [==============================] - 1s 33us/step - loss: 0.1264 - mean_absolute_error: 0.3293 - mean_squared_error: 0.1264\n",
      "Epoch 66/100\n",
      "24714/24714 [==============================] - 1s 34us/step - loss: 1.2811 - mean_absolute_error: 0.4226 - mean_squared_error: 1.2811\n",
      "Epoch 67/100\n",
      "24714/24714 [==============================] - 1s 33us/step - loss: 7598091.5696 - mean_absolute_error: 199.8448 - mean_squared_error: 7598091.5696\n",
      "Epoch 68/100\n",
      "24714/24714 [==============================] - 1s 33us/step - loss: 58620353.2052 - mean_absolute_error: 483.6155 - mean_squared_error: 58620353.2052\n",
      "Epoch 69/100\n",
      "24714/24714 [==============================] - 1s 32us/step - loss: 22232.6185 - mean_absolute_error: 7.0018 - mean_squared_error: 22232.6185\n",
      "Epoch 70/100\n",
      "24714/24714 [==============================] - 1s 32us/step - loss: 102632805.3224 - mean_absolute_error: 950.5964 - mean_squared_error: 102632805.3224\n",
      "Epoch 71/100\n",
      "24714/24714 [==============================] - 1s 33us/step - loss: 0.1120 - mean_absolute_error: 0.2364 - mean_squared_error: 0.1120\n",
      "Epoch 72/100\n",
      "24714/24714 [==============================] - 1s 32us/step - loss: 33196029.5068 - mean_absolute_error: 487.1214 - mean_squared_error: 33196029.5068\n",
      "Epoch 73/100\n",
      "24714/24714 [==============================] - 1s 33us/step - loss: 6417.3188 - mean_absolute_error: 4.3442 - mean_squared_error: 6417.3188\n",
      "Epoch 74/100\n",
      "24714/24714 [==============================] - 1s 32us/step - loss: 11644167.4773 - mean_absolute_error: 321.0892 - mean_squared_error: 11644167.4773\n",
      "Epoch 75/100\n",
      "24714/24714 [==============================] - 1s 33us/step - loss: 279855968.1129 - mean_absolute_error: 1661.6821 - mean_squared_error: 279855968.1129\n",
      "Epoch 76/100\n",
      "24714/24714 [==============================] - 1s 33us/step - loss: 7227798.7267 - mean_absolute_error: 115.7411 - mean_squared_error: 7227798.7267\n",
      "Epoch 77/100\n",
      "24714/24714 [==============================] - 1s 45us/step - loss: 0.2012 - mean_absolute_error: 0.3666 - mean_squared_error: 0.2012\n",
      "Epoch 78/100\n",
      "24714/24714 [==============================] - 1s 37us/step - loss: 207093.2901 - mean_absolute_error: 25.4444 - mean_squared_error: 207093.2901\n",
      "Epoch 79/100\n",
      "24714/24714 [==============================] - 1s 34us/step - loss: 93586400.0781 - mean_absolute_error: 1277.6578 - mean_squared_error: 93586400.0781\n",
      "Epoch 80/100\n",
      "24714/24714 [==============================] - 1s 33us/step - loss: 5.0952 - mean_absolute_error: 0.5998 - mean_squared_error: 5.0952\n",
      "Epoch 81/100\n",
      "24714/24714 [==============================] - 1s 38us/step - loss: 18074.6745 - mean_absolute_error: 15.2898 - mean_squared_error: 18074.6745\n",
      "Epoch 82/100\n",
      "24714/24714 [==============================] - 1s 52us/step - loss: 160061731.7888 - mean_absolute_error: 1315.4202 - mean_squared_error: 160061731.7888\n",
      "Epoch 83/100\n",
      "24714/24714 [==============================] - 1s 52us/step - loss: 0.2470 - mean_absolute_error: 0.4613 - mean_squared_error: 0.2470\n",
      "Epoch 84/100\n",
      "24714/24714 [==============================] - 1s 49us/step - loss: 9.7183 - mean_absolute_error: 0.7003 - mean_squared_error: 9.7183\n",
      "Epoch 85/100\n",
      "24714/24714 [==============================] - 1s 49us/step - loss: 8942919.0448 - mean_absolute_error: 332.8769 - mean_squared_error: 8942919.0448\n",
      "Epoch 86/100\n",
      "24714/24714 [==============================] - 1s 52us/step - loss: 70034238.3376 - mean_absolute_error: 924.5793 - mean_squared_error: 70034238.3376\n",
      "Epoch 87/100\n",
      "24714/24714 [==============================] - 1s 59us/step - loss: 62440562.1465 - mean_absolute_error: 651.7243 - mean_squared_error: 62440562.1465ETA: 0s - loss: 173111544.3220 - mean_absolute_error: 1727.4396 - mean_\n",
      "Epoch 88/100\n",
      "24714/24714 [==============================] - 1s 56us/step - loss: 0.7478 - mean_absolute_error: 0.4744 - mean_squared_error: 0.7478\n",
      "Epoch 89/100\n",
      "24714/24714 [==============================] - 1s 54us/step - loss: 747.3550 - mean_absolute_error: 2.5456 - mean_squared_error: 747.3550\n",
      "Epoch 90/100\n",
      "24714/24714 [==============================] - 1s 45us/step - loss: 176387305.1166 - mean_absolute_error: 1014.0753 - mean_squared_error: 176387305.1166\n",
      "Epoch 91/100\n",
      "24714/24714 [==============================] - 1s 52us/step - loss: 1.3672 - mean_absolute_error: 0.4918 - mean_squared_error: 1.3672\n",
      "Epoch 92/100\n"
     ]
    },
    {
     "name": "stdout",
     "output_type": "stream",
     "text": [
      "24714/24714 [==============================] - 1s 43us/step - loss: 1779.5311 - mean_absolute_error: 3.5310 - mean_squared_error: 1779.5311\n",
      "Epoch 93/100\n",
      "24714/24714 [==============================] - 1s 42us/step - loss: 4484953.4358 - mean_absolute_error: 212.7005 - mean_squared_error: 4484953.4358\n",
      "Epoch 94/100\n",
      "24714/24714 [==============================] - 1s 36us/step - loss: 193680681.8830 - mean_absolute_error: 1097.4368 - mean_squared_error: 193680681.8830\n",
      "Epoch 95/100\n",
      "24714/24714 [==============================] - 1s 38us/step - loss: 17852.6234 - mean_absolute_error: 10.7396 - mean_squared_error: 17852.6234\n",
      "Epoch 96/100\n",
      "24714/24714 [==============================] - 1s 36us/step - loss: 0.2398 - mean_absolute_error: 0.4497 - mean_squared_error: 0.2398\n",
      "Epoch 97/100\n",
      "24714/24714 [==============================] - 2s 72us/step - loss: 3915607.7191 - mean_absolute_error: 144.9901 - mean_squared_error: 3915607.7191\n",
      "Epoch 98/100\n",
      "24714/24714 [==============================] - 1s 40us/step - loss: 205391754.6775 - mean_absolute_error: 1413.6161 - mean_squared_error: 205391754.6775\n",
      "Epoch 99/100\n",
      "24714/24714 [==============================] - 1s 41us/step - loss: 0.1548 - mean_absolute_error: 0.3558 - mean_squared_error: 0.1548\n",
      "Epoch 100/100\n",
      "24714/24714 [==============================] - 1s 49us/step - loss: 0.2731 - mean_absolute_error: 0.3747 - mean_squared_error: 0.2731\n"
     ]
    }
   ],
   "source": [
    "results = regressor.fit(X_train, y_train)"
   ]
  },
  {
   "cell_type": "code",
   "execution_count": 120,
   "metadata": {},
   "outputs": [],
   "source": [
    "y_pred = regressor.predict(X_test)"
   ]
  },
  {
   "cell_type": "code",
   "execution_count": 121,
   "metadata": {},
   "outputs": [
    {
     "data": {
      "text/plain": [
       "(6179,)"
      ]
     },
     "execution_count": 121,
     "metadata": {},
     "output_type": "execute_result"
    }
   ],
   "source": [
    "y_test.shape"
   ]
  },
  {
   "cell_type": "code",
   "execution_count": 122,
   "metadata": {},
   "outputs": [
    {
     "data": {
      "text/plain": [
       "(6179,)"
      ]
     },
     "execution_count": 122,
     "metadata": {},
     "output_type": "execute_result"
    }
   ],
   "source": [
    "y_pred.shape"
   ]
  },
  {
   "cell_type": "code",
   "execution_count": 123,
   "metadata": {},
   "outputs": [
    {
     "data": {
      "image/png": "[encoded data removed]",
      "text/plain": [
       "<Figure size 432x288 with 1 Axes>"
      ]
     },
     "metadata": {
      "needs_background": "light"
     },
     "output_type": "display_data"
    }
   ],
   "source": [
    "fig, ax = plt.subplots()\n",
    "ax.scatter(y_test, y_pred)\n",
    "ax.plot([y_test.min(), y_test.max()], [y_test.min(), y_test.max()], 'k--', lw = 5)\n",
    "ax.set_xlabel(\"Measured\")\n",
    "ax.set_ylabel(\"Predicted\")\n",
    "plt.show()"
   ]
  },
  {
   "cell_type": "markdown",
   "metadata": {},
   "source": [
    "# Using school characteristics as predictor for withdrawl rate:\n",
    "\n",
    "Another way to predict withdrawal rate is by using various characteristics for schools such as regions for their location, tuition rates, admissions rates and others. These characteristics can be used to evaluate what areas in school's control results in higher withdrawal rate. \n",
    "\n",
    "The way I did this was to take features that would impact withdrawal rate and then use that to see what feature that students should look out for the most in choosing schools (schools in certain locations maybe or schools with certain tuition etc). \n",
    "\n",
    "For this, I only used date from one year (2014). \n"
   ]
  },
  {
   "cell_type": "code",
   "execution_count": 125,
   "metadata": {},
   "outputs": [
    {
     "data": {
      "text/html": [
       "<div>\n",
       "<style scoped>\n",
       "    .dataframe tbody tr th:only-of-type {\n",
       "        vertical-align: middle;\n",
       "    }\n",
       "\n",
       "    .dataframe tbody tr th {\n",
       "        vertical-align: top;\n",
       "    }\n",
       "\n",
       "    .dataframe thead th {\n",
       "        text-align: right;\n",
       "    }\n",
       "</style>\n",
       "<table border=\"1\" class=\"dataframe\">\n",
       "  <thead>\n",
       "    <tr style=\"text-align: right;\">\n",
       "      <th></th>\n",
       "      <th>OPEID</th>\n",
       "      <th>OPEID6</th>\n",
       "      <th>INSTNM</th>\n",
       "      <th>CITY</th>\n",
       "      <th>STABBR</th>\n",
       "      <th>ZIP</th>\n",
       "      <th>ACCREDAGENCY</th>\n",
       "      <th>INSTURL</th>\n",
       "      <th>NPCURL</th>\n",
       "      <th>SCH_DEG</th>\n",
       "      <th>...</th>\n",
       "      <th>OMAWDP8_NOTFIRSTTIME_POOLED_SUPP</th>\n",
       "      <th>OMENRUP_NOTFIRSTTIME_POOLED_SUPP</th>\n",
       "      <th>OMENRYP_FULLTIME_POOLED_SUPP</th>\n",
       "      <th>OMENRAP_FULLTIME_POOLED_SUPP</th>\n",
       "      <th>OMAWDP8_FULLTIME_POOLED_SUPP</th>\n",
       "      <th>OMENRUP_FULLTIME_POOLED_SUPP</th>\n",
       "      <th>OMENRYP_PARTTIME_POOLED_SUPP</th>\n",
       "      <th>OMENRAP_PARTTIME_POOLED_SUPP</th>\n",
       "      <th>OMAWDP8_PARTTIME_POOLED_SUPP</th>\n",
       "      <th>OMENRUP_PARTTIME_POOLED_SUPP</th>\n",
       "    </tr>\n",
       "    <tr>\n",
       "      <th>UNITID</th>\n",
       "      <th></th>\n",
       "      <th></th>\n",
       "      <th></th>\n",
       "      <th></th>\n",
       "      <th></th>\n",
       "      <th></th>\n",
       "      <th></th>\n",
       "      <th></th>\n",
       "      <th></th>\n",
       "      <th></th>\n",
       "      <th></th>\n",
       "      <th></th>\n",
       "      <th></th>\n",
       "      <th></th>\n",
       "      <th></th>\n",
       "      <th></th>\n",
       "      <th></th>\n",
       "      <th></th>\n",
       "      <th></th>\n",
       "      <th></th>\n",
       "      <th></th>\n",
       "    </tr>\n",
       "  </thead>\n",
       "  <tbody>\n",
       "    <tr>\n",
       "      <th>100654</th>\n",
       "      <td>100200</td>\n",
       "      <td>1002</td>\n",
       "      <td>Alabama A &amp; M University</td>\n",
       "      <td>Normal</td>\n",
       "      <td>AL</td>\n",
       "      <td>35762</td>\n",
       "      <td>NaN</td>\n",
       "      <td>NaN</td>\n",
       "      <td>NaN</td>\n",
       "      <td>3.0</td>\n",
       "      <td>...</td>\n",
       "      <td>NaN</td>\n",
       "      <td>NaN</td>\n",
       "      <td>NaN</td>\n",
       "      <td>NaN</td>\n",
       "      <td>NaN</td>\n",
       "      <td>NaN</td>\n",
       "      <td>NaN</td>\n",
       "      <td>NaN</td>\n",
       "      <td>NaN</td>\n",
       "      <td>NaN</td>\n",
       "    </tr>\n",
       "    <tr>\n",
       "      <th>100663</th>\n",
       "      <td>105200</td>\n",
       "      <td>1052</td>\n",
       "      <td>University of Alabama at Birmingham</td>\n",
       "      <td>Birmingham</td>\n",
       "      <td>AL</td>\n",
       "      <td>35294-0110</td>\n",
       "      <td>NaN</td>\n",
       "      <td>NaN</td>\n",
       "      <td>NaN</td>\n",
       "      <td>3.0</td>\n",
       "      <td>...</td>\n",
       "      <td>NaN</td>\n",
       "      <td>NaN</td>\n",
       "      <td>NaN</td>\n",
       "      <td>NaN</td>\n",
       "      <td>NaN</td>\n",
       "      <td>NaN</td>\n",
       "      <td>NaN</td>\n",
       "      <td>NaN</td>\n",
       "      <td>NaN</td>\n",
       "      <td>NaN</td>\n",
       "    </tr>\n",
       "    <tr>\n",
       "      <th>100690</th>\n",
       "      <td>2503400</td>\n",
       "      <td>25034</td>\n",
       "      <td>Amridge University</td>\n",
       "      <td>Montgomery</td>\n",
       "      <td>AL</td>\n",
       "      <td>36117-3553</td>\n",
       "      <td>NaN</td>\n",
       "      <td>NaN</td>\n",
       "      <td>NaN</td>\n",
       "      <td>3.0</td>\n",
       "      <td>...</td>\n",
       "      <td>NaN</td>\n",
       "      <td>NaN</td>\n",
       "      <td>NaN</td>\n",
       "      <td>NaN</td>\n",
       "      <td>NaN</td>\n",
       "      <td>NaN</td>\n",
       "      <td>NaN</td>\n",
       "      <td>NaN</td>\n",
       "      <td>NaN</td>\n",
       "      <td>NaN</td>\n",
       "    </tr>\n",
       "    <tr>\n",
       "      <th>100706</th>\n",
       "      <td>105500</td>\n",
       "      <td>1055</td>\n",
       "      <td>University of Alabama in Huntsville</td>\n",
       "      <td>Huntsville</td>\n",
       "      <td>AL</td>\n",
       "      <td>35899</td>\n",
       "      <td>NaN</td>\n",
       "      <td>NaN</td>\n",
       "      <td>NaN</td>\n",
       "      <td>3.0</td>\n",
       "      <td>...</td>\n",
       "      <td>NaN</td>\n",
       "      <td>NaN</td>\n",
       "      <td>NaN</td>\n",
       "      <td>NaN</td>\n",
       "      <td>NaN</td>\n",
       "      <td>NaN</td>\n",
       "      <td>NaN</td>\n",
       "      <td>NaN</td>\n",
       "      <td>NaN</td>\n",
       "      <td>NaN</td>\n",
       "    </tr>\n",
       "    <tr>\n",
       "      <th>100724</th>\n",
       "      <td>100500</td>\n",
       "      <td>1005</td>\n",
       "      <td>Alabama State University</td>\n",
       "      <td>Montgomery</td>\n",
       "      <td>AL</td>\n",
       "      <td>36104-0271</td>\n",
       "      <td>NaN</td>\n",
       "      <td>NaN</td>\n",
       "      <td>NaN</td>\n",
       "      <td>3.0</td>\n",
       "      <td>...</td>\n",
       "      <td>NaN</td>\n",
       "      <td>NaN</td>\n",
       "      <td>NaN</td>\n",
       "      <td>NaN</td>\n",
       "      <td>NaN</td>\n",
       "      <td>NaN</td>\n",
       "      <td>NaN</td>\n",
       "      <td>NaN</td>\n",
       "      <td>NaN</td>\n",
       "      <td>NaN</td>\n",
       "    </tr>\n",
       "  </tbody>\n",
       "</table>\n",
       "<p>5 rows × 1976 columns</p>\n",
       "</div>"
      ],
      "text/plain": [
       "          OPEID  OPEID6                               INSTNM        CITY  \\\n",
       "UNITID                                                                     \n",
       "100654   100200    1002             Alabama A & M University      Normal   \n",
       "100663   105200    1052  University of Alabama at Birmingham  Birmingham   \n",
       "100690  2503400   25034                   Amridge University  Montgomery   \n",
       "100706   105500    1055  University of Alabama in Huntsville  Huntsville   \n",
       "100724   100500    1005             Alabama State University  Montgomery   \n",
       "\n",
       "       STABBR         ZIP  ACCREDAGENCY  INSTURL  NPCURL  SCH_DEG  \\\n",
       "UNITID                                                              \n",
       "100654     AL       35762           NaN      NaN     NaN      3.0   \n",
       "100663     AL  35294-0110           NaN      NaN     NaN      3.0   \n",
       "100690     AL  36117-3553           NaN      NaN     NaN      3.0   \n",
       "100706     AL       35899           NaN      NaN     NaN      3.0   \n",
       "100724     AL  36104-0271           NaN      NaN     NaN      3.0   \n",
       "\n",
       "                    ...               OMAWDP8_NOTFIRSTTIME_POOLED_SUPP  \\\n",
       "UNITID              ...                                                  \n",
       "100654              ...                                            NaN   \n",
       "100663              ...                                            NaN   \n",
       "100690              ...                                            NaN   \n",
       "100706              ...                                            NaN   \n",
       "100724              ...                                            NaN   \n",
       "\n",
       "        OMENRUP_NOTFIRSTTIME_POOLED_SUPP  OMENRYP_FULLTIME_POOLED_SUPP  \\\n",
       "UNITID                                                                   \n",
       "100654                               NaN                           NaN   \n",
       "100663                               NaN                           NaN   \n",
       "100690                               NaN                           NaN   \n",
       "100706                               NaN                           NaN   \n",
       "100724                               NaN                           NaN   \n",
       "\n",
       "        OMENRAP_FULLTIME_POOLED_SUPP  OMAWDP8_FULLTIME_POOLED_SUPP  \\\n",
       "UNITID                                                               \n",
       "100654                           NaN                           NaN   \n",
       "100663                           NaN                           NaN   \n",
       "100690                           NaN                           NaN   \n",
       "100706                           NaN                           NaN   \n",
       "100724                           NaN                           NaN   \n",
       "\n",
       "        OMENRUP_FULLTIME_POOLED_SUPP  OMENRYP_PARTTIME_POOLED_SUPP  \\\n",
       "UNITID                                                               \n",
       "100654                           NaN                           NaN   \n",
       "100663                           NaN                           NaN   \n",
       "100690                           NaN                           NaN   \n",
       "100706                           NaN                           NaN   \n",
       "100724                           NaN                           NaN   \n",
       "\n",
       "        OMENRAP_PARTTIME_POOLED_SUPP  OMAWDP8_PARTTIME_POOLED_SUPP  \\\n",
       "UNITID                                                               \n",
       "100654                           NaN                           NaN   \n",
       "100663                           NaN                           NaN   \n",
       "100690                           NaN                           NaN   \n",
       "100706                           NaN                           NaN   \n",
       "100724                           NaN                           NaN   \n",
       "\n",
       "        OMENRUP_PARTTIME_POOLED_SUPP  \n",
       "UNITID                                \n",
       "100654                           NaN  \n",
       "100663                           NaN  \n",
       "100690                           NaN  \n",
       "100706                           NaN  \n",
       "100724                           NaN  \n",
       "\n",
       "[5 rows x 1976 columns]"
      ]
     },
     "execution_count": 125,
     "metadata": {},
     "output_type": "execute_result"
    }
   ],
   "source": [
    "df_2014.head()"
   ]
  },
  {
   "cell_type": "code",
   "execution_count": 126,
   "metadata": {},
   "outputs": [],
   "source": [
    "df_2014 = df_2014.reset_index('UNITID')"
   ]
  },
  {
   "cell_type": "code",
   "execution_count": 127,
   "metadata": {},
   "outputs": [],
   "source": [
    "df_school = df_2014[['UNITID', 'PREDDEG', 'CONTROL', 'REGION', 'LOCALE', 'HBCU', 'HSI', 'MENONLY', 'WOMENONLY', 'ADM_RATE', 'SAT_AVG', 'DISTANCEONLY', 'UG', 'UGDS_WHITE', 'UGDS_BLACK', 'UGDS_HISP', 'UGDS_ASIAN', 'TUITIONFEE_IN', 'TUITIONFEE_OUT', 'PFTFAC', 'PCTPELL', 'AVGFACSAL', 'WDRAW_ORIG_YR2_RT']]"
   ]
  },
  {
   "cell_type": "code",
   "execution_count": 128,
   "metadata": {},
   "outputs": [
    {
     "data": {
      "text/html": [
       "<div>\n",
       "<style scoped>\n",
       "    .dataframe tbody tr th:only-of-type {\n",
       "        vertical-align: middle;\n",
       "    }\n",
       "\n",
       "    .dataframe tbody tr th {\n",
       "        vertical-align: top;\n",
       "    }\n",
       "\n",
       "    .dataframe thead th {\n",
       "        text-align: right;\n",
       "    }\n",
       "</style>\n",
       "<table border=\"1\" class=\"dataframe\">\n",
       "  <thead>\n",
       "    <tr style=\"text-align: right;\">\n",
       "      <th></th>\n",
       "      <th>UNITID</th>\n",
       "      <th>PREDDEG</th>\n",
       "      <th>CONTROL</th>\n",
       "      <th>REGION</th>\n",
       "      <th>LOCALE</th>\n",
       "      <th>HBCU</th>\n",
       "      <th>HSI</th>\n",
       "      <th>MENONLY</th>\n",
       "      <th>WOMENONLY</th>\n",
       "      <th>ADM_RATE</th>\n",
       "      <th>...</th>\n",
       "      <th>UGDS_WHITE</th>\n",
       "      <th>UGDS_BLACK</th>\n",
       "      <th>UGDS_HISP</th>\n",
       "      <th>UGDS_ASIAN</th>\n",
       "      <th>TUITIONFEE_IN</th>\n",
       "      <th>TUITIONFEE_OUT</th>\n",
       "      <th>PFTFAC</th>\n",
       "      <th>PCTPELL</th>\n",
       "      <th>AVGFACSAL</th>\n",
       "      <th>WDRAW_ORIG_YR2_RT</th>\n",
       "    </tr>\n",
       "  </thead>\n",
       "  <tbody>\n",
       "    <tr>\n",
       "      <th>0</th>\n",
       "      <td>100654</td>\n",
       "      <td>3</td>\n",
       "      <td>1</td>\n",
       "      <td>5</td>\n",
       "      <td>NaN</td>\n",
       "      <td>NaN</td>\n",
       "      <td>NaN</td>\n",
       "      <td>NaN</td>\n",
       "      <td>NaN</td>\n",
       "      <td>0.5256</td>\n",
       "      <td>...</td>\n",
       "      <td>0.0333</td>\n",
       "      <td>0.9353</td>\n",
       "      <td>0.0055</td>\n",
       "      <td>0.0019</td>\n",
       "      <td>9096.0</td>\n",
       "      <td>16596.0</td>\n",
       "      <td>0.8967</td>\n",
       "      <td>0.7356</td>\n",
       "      <td>6892.0</td>\n",
       "      <td>0.318108974</td>\n",
       "    </tr>\n",
       "    <tr>\n",
       "      <th>1</th>\n",
       "      <td>100663</td>\n",
       "      <td>3</td>\n",
       "      <td>1</td>\n",
       "      <td>5</td>\n",
       "      <td>NaN</td>\n",
       "      <td>NaN</td>\n",
       "      <td>NaN</td>\n",
       "      <td>NaN</td>\n",
       "      <td>NaN</td>\n",
       "      <td>0.8569</td>\n",
       "      <td>...</td>\n",
       "      <td>0.5922</td>\n",
       "      <td>0.2600</td>\n",
       "      <td>0.0283</td>\n",
       "      <td>0.0518</td>\n",
       "      <td>7510.0</td>\n",
       "      <td>17062.0</td>\n",
       "      <td>0.9072</td>\n",
       "      <td>0.3460</td>\n",
       "      <td>9957.0</td>\n",
       "      <td>0.259811047</td>\n",
       "    </tr>\n",
       "    <tr>\n",
       "      <th>2</th>\n",
       "      <td>100690</td>\n",
       "      <td>3</td>\n",
       "      <td>2</td>\n",
       "      <td>5</td>\n",
       "      <td>NaN</td>\n",
       "      <td>NaN</td>\n",
       "      <td>NaN</td>\n",
       "      <td>NaN</td>\n",
       "      <td>NaN</td>\n",
       "      <td>NaN</td>\n",
       "      <td>...</td>\n",
       "      <td>0.2990</td>\n",
       "      <td>0.4192</td>\n",
       "      <td>0.0069</td>\n",
       "      <td>0.0034</td>\n",
       "      <td>6900.0</td>\n",
       "      <td>6900.0</td>\n",
       "      <td>0.6000</td>\n",
       "      <td>0.6801</td>\n",
       "      <td>3430.0</td>\n",
       "      <td>0.633187773</td>\n",
       "    </tr>\n",
       "    <tr>\n",
       "      <th>3</th>\n",
       "      <td>100706</td>\n",
       "      <td>3</td>\n",
       "      <td>1</td>\n",
       "      <td>5</td>\n",
       "      <td>NaN</td>\n",
       "      <td>NaN</td>\n",
       "      <td>NaN</td>\n",
       "      <td>NaN</td>\n",
       "      <td>NaN</td>\n",
       "      <td>0.8203</td>\n",
       "      <td>...</td>\n",
       "      <td>0.6988</td>\n",
       "      <td>0.1255</td>\n",
       "      <td>0.0382</td>\n",
       "      <td>0.0376</td>\n",
       "      <td>9158.0</td>\n",
       "      <td>21232.0</td>\n",
       "      <td>0.6221</td>\n",
       "      <td>0.3072</td>\n",
       "      <td>9302.0</td>\n",
       "      <td>0.215600351</td>\n",
       "    </tr>\n",
       "    <tr>\n",
       "      <th>4</th>\n",
       "      <td>100724</td>\n",
       "      <td>3</td>\n",
       "      <td>1</td>\n",
       "      <td>5</td>\n",
       "      <td>NaN</td>\n",
       "      <td>NaN</td>\n",
       "      <td>NaN</td>\n",
       "      <td>NaN</td>\n",
       "      <td>NaN</td>\n",
       "      <td>0.5326</td>\n",
       "      <td>...</td>\n",
       "      <td>0.0158</td>\n",
       "      <td>0.9208</td>\n",
       "      <td>0.0121</td>\n",
       "      <td>0.0019</td>\n",
       "      <td>8720.0</td>\n",
       "      <td>15656.0</td>\n",
       "      <td>0.6539</td>\n",
       "      <td>0.7347</td>\n",
       "      <td>6609.0</td>\n",
       "      <td>0.305031447</td>\n",
       "    </tr>\n",
       "  </tbody>\n",
       "</table>\n",
       "<p>5 rows × 23 columns</p>\n",
       "</div>"
      ],
      "text/plain": [
       "   UNITID  PREDDEG  CONTROL  REGION  LOCALE  HBCU  HSI  MENONLY  WOMENONLY  \\\n",
       "0  100654        3        1       5     NaN   NaN  NaN      NaN        NaN   \n",
       "1  100663        3        1       5     NaN   NaN  NaN      NaN        NaN   \n",
       "2  100690        3        2       5     NaN   NaN  NaN      NaN        NaN   \n",
       "3  100706        3        1       5     NaN   NaN  NaN      NaN        NaN   \n",
       "4  100724        3        1       5     NaN   NaN  NaN      NaN        NaN   \n",
       "\n",
       "   ADM_RATE        ...          UGDS_WHITE  UGDS_BLACK  UGDS_HISP  UGDS_ASIAN  \\\n",
       "0    0.5256        ...              0.0333      0.9353     0.0055      0.0019   \n",
       "1    0.8569        ...              0.5922      0.2600     0.0283      0.0518   \n",
       "2       NaN        ...              0.2990      0.4192     0.0069      0.0034   \n",
       "3    0.8203        ...              0.6988      0.1255     0.0382      0.0376   \n",
       "4    0.5326        ...              0.0158      0.9208     0.0121      0.0019   \n",
       "\n",
       "   TUITIONFEE_IN  TUITIONFEE_OUT  PFTFAC  PCTPELL  AVGFACSAL  \\\n",
       "0         9096.0         16596.0  0.8967   0.7356     6892.0   \n",
       "1         7510.0         17062.0  0.9072   0.3460     9957.0   \n",
       "2         6900.0          6900.0  0.6000   0.6801     3430.0   \n",
       "3         9158.0         21232.0  0.6221   0.3072     9302.0   \n",
       "4         8720.0         15656.0  0.6539   0.7347     6609.0   \n",
       "\n",
       "   WDRAW_ORIG_YR2_RT  \n",
       "0        0.318108974  \n",
       "1        0.259811047  \n",
       "2        0.633187773  \n",
       "3        0.215600351  \n",
       "4        0.305031447  \n",
       "\n",
       "[5 rows x 23 columns]"
      ]
     },
     "execution_count": 128,
     "metadata": {},
     "output_type": "execute_result"
    }
   ],
   "source": [
    "df_school.head()"
   ]
  },
  {
   "cell_type": "markdown",
   "metadata": {},
   "source": [
    "# Data Cleaning:\n",
    "\n",
    "Similar to methods above, I cleaned my data using the same methods as above. Replaced NaNs, and Privacy Suppressed variables. I also converted everything to a float for a better analysis. "
   ]
  },
  {
   "cell_type": "code",
   "execution_count": 129,
   "metadata": {},
   "outputs": [
    {
     "data": {
      "text/plain": [
       "UNITID                 int64\n",
       "PREDDEG                int64\n",
       "CONTROL                int64\n",
       "REGION                 int64\n",
       "LOCALE               float64\n",
       "HBCU                 float64\n",
       "HSI                  float64\n",
       "MENONLY              float64\n",
       "WOMENONLY            float64\n",
       "ADM_RATE             float64\n",
       "SAT_AVG              float64\n",
       "DISTANCEONLY         float64\n",
       "UG                   float64\n",
       "UGDS_WHITE           float64\n",
       "UGDS_BLACK           float64\n",
       "UGDS_HISP            float64\n",
       "UGDS_ASIAN           float64\n",
       "TUITIONFEE_IN        float64\n",
       "TUITIONFEE_OUT       float64\n",
       "PFTFAC               float64\n",
       "PCTPELL              float64\n",
       "AVGFACSAL            float64\n",
       "WDRAW_ORIG_YR2_RT     object\n",
       "dtype: object"
      ]
     },
     "execution_count": 129,
     "metadata": {},
     "output_type": "execute_result"
    }
   ],
   "source": [
    "df_school.dtypes"
   ]
  },
  {
   "cell_type": "code",
   "execution_count": 130,
   "metadata": {},
   "outputs": [],
   "source": [
    "df_school = df_school.fillna(0)\n",
    "df_school['WDRAW_ORIG_YR2_RT'] = df_school['WDRAW_ORIG_YR2_RT'].replace(['PrivacySuppressed'], [0])"
   ]
  },
  {
   "cell_type": "code",
   "execution_count": 131,
   "metadata": {},
   "outputs": [],
   "source": [
    "df_school['UNITID'] = df_school['UNITID'].astype(float)\n",
    "df_school['PREDDEG'] = df_school['PREDDEG'].astype(float)\n",
    "df_school['CONTROL'] = df_school['CONTROL'].astype(float)\n",
    "df_school['REGION'] = df_school['REGION'].astype(float)\n",
    "df_school['WDRAW_ORIG_YR2_RT'] = df_school['WDRAW_ORIG_YR2_RT'].astype(float)"
   ]
  },
  {
   "cell_type": "code",
   "execution_count": 132,
   "metadata": {},
   "outputs": [
    {
     "data": {
      "text/html": [
       "<div>\n",
       "<style scoped>\n",
       "    .dataframe tbody tr th:only-of-type {\n",
       "        vertical-align: middle;\n",
       "    }\n",
       "\n",
       "    .dataframe tbody tr th {\n",
       "        vertical-align: top;\n",
       "    }\n",
       "\n",
       "    .dataframe thead th {\n",
       "        text-align: right;\n",
       "    }\n",
       "</style>\n",
       "<table border=\"1\" class=\"dataframe\">\n",
       "  <thead>\n",
       "    <tr style=\"text-align: right;\">\n",
       "      <th></th>\n",
       "      <th>UNITID</th>\n",
       "      <th>PREDDEG</th>\n",
       "      <th>CONTROL</th>\n",
       "      <th>REGION</th>\n",
       "      <th>LOCALE</th>\n",
       "      <th>HBCU</th>\n",
       "      <th>HSI</th>\n",
       "      <th>MENONLY</th>\n",
       "      <th>WOMENONLY</th>\n",
       "      <th>ADM_RATE</th>\n",
       "      <th>...</th>\n",
       "      <th>UGDS_WHITE</th>\n",
       "      <th>UGDS_BLACK</th>\n",
       "      <th>UGDS_HISP</th>\n",
       "      <th>UGDS_ASIAN</th>\n",
       "      <th>TUITIONFEE_IN</th>\n",
       "      <th>TUITIONFEE_OUT</th>\n",
       "      <th>PFTFAC</th>\n",
       "      <th>PCTPELL</th>\n",
       "      <th>AVGFACSAL</th>\n",
       "      <th>WDRAW_ORIG_YR2_RT</th>\n",
       "    </tr>\n",
       "  </thead>\n",
       "  <tbody>\n",
       "    <tr>\n",
       "      <th>0</th>\n",
       "      <td>100654.0</td>\n",
       "      <td>3.0</td>\n",
       "      <td>1.0</td>\n",
       "      <td>5.0</td>\n",
       "      <td>0.0</td>\n",
       "      <td>0.0</td>\n",
       "      <td>0.0</td>\n",
       "      <td>0.0</td>\n",
       "      <td>0.0</td>\n",
       "      <td>0.5256</td>\n",
       "      <td>...</td>\n",
       "      <td>0.0333</td>\n",
       "      <td>0.9353</td>\n",
       "      <td>0.0055</td>\n",
       "      <td>0.0019</td>\n",
       "      <td>9096.0</td>\n",
       "      <td>16596.0</td>\n",
       "      <td>0.8967</td>\n",
       "      <td>0.7356</td>\n",
       "      <td>6892.0</td>\n",
       "      <td>0.318109</td>\n",
       "    </tr>\n",
       "    <tr>\n",
       "      <th>1</th>\n",
       "      <td>100663.0</td>\n",
       "      <td>3.0</td>\n",
       "      <td>1.0</td>\n",
       "      <td>5.0</td>\n",
       "      <td>0.0</td>\n",
       "      <td>0.0</td>\n",
       "      <td>0.0</td>\n",
       "      <td>0.0</td>\n",
       "      <td>0.0</td>\n",
       "      <td>0.8569</td>\n",
       "      <td>...</td>\n",
       "      <td>0.5922</td>\n",
       "      <td>0.2600</td>\n",
       "      <td>0.0283</td>\n",
       "      <td>0.0518</td>\n",
       "      <td>7510.0</td>\n",
       "      <td>17062.0</td>\n",
       "      <td>0.9072</td>\n",
       "      <td>0.3460</td>\n",
       "      <td>9957.0</td>\n",
       "      <td>0.259811</td>\n",
       "    </tr>\n",
       "    <tr>\n",
       "      <th>2</th>\n",
       "      <td>100690.0</td>\n",
       "      <td>3.0</td>\n",
       "      <td>2.0</td>\n",
       "      <td>5.0</td>\n",
       "      <td>0.0</td>\n",
       "      <td>0.0</td>\n",
       "      <td>0.0</td>\n",
       "      <td>0.0</td>\n",
       "      <td>0.0</td>\n",
       "      <td>0.0000</td>\n",
       "      <td>...</td>\n",
       "      <td>0.2990</td>\n",
       "      <td>0.4192</td>\n",
       "      <td>0.0069</td>\n",
       "      <td>0.0034</td>\n",
       "      <td>6900.0</td>\n",
       "      <td>6900.0</td>\n",
       "      <td>0.6000</td>\n",
       "      <td>0.6801</td>\n",
       "      <td>3430.0</td>\n",
       "      <td>0.633188</td>\n",
       "    </tr>\n",
       "    <tr>\n",
       "      <th>3</th>\n",
       "      <td>100706.0</td>\n",
       "      <td>3.0</td>\n",
       "      <td>1.0</td>\n",
       "      <td>5.0</td>\n",
       "      <td>0.0</td>\n",
       "      <td>0.0</td>\n",
       "      <td>0.0</td>\n",
       "      <td>0.0</td>\n",
       "      <td>0.0</td>\n",
       "      <td>0.8203</td>\n",
       "      <td>...</td>\n",
       "      <td>0.6988</td>\n",
       "      <td>0.1255</td>\n",
       "      <td>0.0382</td>\n",
       "      <td>0.0376</td>\n",
       "      <td>9158.0</td>\n",
       "      <td>21232.0</td>\n",
       "      <td>0.6221</td>\n",
       "      <td>0.3072</td>\n",
       "      <td>9302.0</td>\n",
       "      <td>0.215600</td>\n",
       "    </tr>\n",
       "    <tr>\n",
       "      <th>4</th>\n",
       "      <td>100724.0</td>\n",
       "      <td>3.0</td>\n",
       "      <td>1.0</td>\n",
       "      <td>5.0</td>\n",
       "      <td>0.0</td>\n",
       "      <td>0.0</td>\n",
       "      <td>0.0</td>\n",
       "      <td>0.0</td>\n",
       "      <td>0.0</td>\n",
       "      <td>0.5326</td>\n",
       "      <td>...</td>\n",
       "      <td>0.0158</td>\n",
       "      <td>0.9208</td>\n",
       "      <td>0.0121</td>\n",
       "      <td>0.0019</td>\n",
       "      <td>8720.0</td>\n",
       "      <td>15656.0</td>\n",
       "      <td>0.6539</td>\n",
       "      <td>0.7347</td>\n",
       "      <td>6609.0</td>\n",
       "      <td>0.305031</td>\n",
       "    </tr>\n",
       "  </tbody>\n",
       "</table>\n",
       "<p>5 rows × 23 columns</p>\n",
       "</div>"
      ],
      "text/plain": [
       "     UNITID  PREDDEG  CONTROL  REGION  LOCALE  HBCU  HSI  MENONLY  WOMENONLY  \\\n",
       "0  100654.0      3.0      1.0     5.0     0.0   0.0  0.0      0.0        0.0   \n",
       "1  100663.0      3.0      1.0     5.0     0.0   0.0  0.0      0.0        0.0   \n",
       "2  100690.0      3.0      2.0     5.0     0.0   0.0  0.0      0.0        0.0   \n",
       "3  100706.0      3.0      1.0     5.0     0.0   0.0  0.0      0.0        0.0   \n",
       "4  100724.0      3.0      1.0     5.0     0.0   0.0  0.0      0.0        0.0   \n",
       "\n",
       "   ADM_RATE        ...          UGDS_WHITE  UGDS_BLACK  UGDS_HISP  UGDS_ASIAN  \\\n",
       "0    0.5256        ...              0.0333      0.9353     0.0055      0.0019   \n",
       "1    0.8569        ...              0.5922      0.2600     0.0283      0.0518   \n",
       "2    0.0000        ...              0.2990      0.4192     0.0069      0.0034   \n",
       "3    0.8203        ...              0.6988      0.1255     0.0382      0.0376   \n",
       "4    0.5326        ...              0.0158      0.9208     0.0121      0.0019   \n",
       "\n",
       "   TUITIONFEE_IN  TUITIONFEE_OUT  PFTFAC  PCTPELL  AVGFACSAL  \\\n",
       "0         9096.0         16596.0  0.8967   0.7356     6892.0   \n",
       "1         7510.0         17062.0  0.9072   0.3460     9957.0   \n",
       "2         6900.0          6900.0  0.6000   0.6801     3430.0   \n",
       "3         9158.0         21232.0  0.6221   0.3072     9302.0   \n",
       "4         8720.0         15656.0  0.6539   0.7347     6609.0   \n",
       "\n",
       "   WDRAW_ORIG_YR2_RT  \n",
       "0           0.318109  \n",
       "1           0.259811  \n",
       "2           0.633188  \n",
       "3           0.215600  \n",
       "4           0.305031  \n",
       "\n",
       "[5 rows x 23 columns]"
      ]
     },
     "execution_count": 132,
     "metadata": {},
     "output_type": "execute_result"
    }
   ],
   "source": [
    "df_school.head()"
   ]
  },
  {
   "cell_type": "code",
   "execution_count": 133,
   "metadata": {},
   "outputs": [
    {
     "data": {
      "text/plain": [
       "UNITID               float64\n",
       "PREDDEG              float64\n",
       "CONTROL              float64\n",
       "REGION               float64\n",
       "LOCALE               float64\n",
       "HBCU                 float64\n",
       "HSI                  float64\n",
       "MENONLY              float64\n",
       "WOMENONLY            float64\n",
       "ADM_RATE             float64\n",
       "SAT_AVG              float64\n",
       "DISTANCEONLY         float64\n",
       "UG                   float64\n",
       "UGDS_WHITE           float64\n",
       "UGDS_BLACK           float64\n",
       "UGDS_HISP            float64\n",
       "UGDS_ASIAN           float64\n",
       "TUITIONFEE_IN        float64\n",
       "TUITIONFEE_OUT       float64\n",
       "PFTFAC               float64\n",
       "PCTPELL              float64\n",
       "AVGFACSAL            float64\n",
       "WDRAW_ORIG_YR2_RT    float64\n",
       "dtype: object"
      ]
     },
     "execution_count": 133,
     "metadata": {},
     "output_type": "execute_result"
    }
   ],
   "source": [
    "df_school.dtypes"
   ]
  },
  {
   "cell_type": "markdown",
   "metadata": {},
   "source": [
    "# Data Visualization: \n",
    "\n",
    "Here I am looking at a few factors to see if their relationship with withdrawal rate. Some of the variables were not as I expected them to be. I thought there would be a correlation between withdrawl date being lower when admission rates were lower (thinking schools that have lower admission rates are more competitive hence people do not drop out) but, the relationship was opposite which I thought was interesting."
   ]
  },
  {
   "cell_type": "code",
   "execution_count": 134,
   "metadata": {},
   "outputs": [
    {
     "data": {
      "image/png": "[encoded data removed]",
      "text/plain": [
       "<Figure size 360x360 with 1 Axes>"
      ]
     },
     "metadata": {
      "needs_background": "light"
     },
     "output_type": "display_data"
    }
   ],
   "source": [
    "sns.lmplot(x = 'WDRAW_ORIG_YR2_RT', y = 'ADM_RATE', data = df_school, fit_reg = True, x_bins = 10)\n",
    "plt.show()"
   ]
  },
  {
   "cell_type": "markdown",
   "metadata": {},
   "source": [
    "Next, I looked at relationship between average faculty salary and withdrawal rates. I also found this to be not as expected. I thought that withdraw rate would decrease as salary increased but, there is a positive correlation between salary increase in staff and higher withdraw rates. \n"
   ]
  },
  {
   "cell_type": "code",
   "execution_count": 135,
   "metadata": {},
   "outputs": [
    {
     "data": {
      "image/png": "[encoded data removed]",
      "text/plain": [
       "<Figure size 360x360 with 1 Axes>"
      ]
     },
     "metadata": {
      "needs_background": "light"
     },
     "output_type": "display_data"
    }
   ],
   "source": [
    "sns.lmplot(x = 'AVGFACSAL', y = 'WDRAW_ORIG_YR2_RT', data = df_school, fit_reg = True, x_bins = 10)\n",
    "plt.show()"
   ]
  },
  {
   "attachments": {},
   "cell_type": "markdown",
   "metadata": {},
   "source": [
    "### Region with the highest withdrawal rates:\n",
    "\n",
    "The region with the highest withdraw rate is the Southeast Region of the United States. This makes sense as these states contain some states which are ranked as least educated (Alabama, Mississipi, Kentucky, Tennesse) \n",
    "\n",
    "Source: https://www.cnbc.com/2018/01/23/the-10-most-and-least-educated-states-in-2018.html\n",
    "\n",
    "1\tNew England (CT, ME, MA, NH, RI, VT)\t\n",
    "2\tMid East (DE, DC, MD, NJ, NY, PA)\t\n",
    "3\tGreat Lakes (IL, IN, MI, OH, WI)\t\n",
    "4\tPlains (IA, KS, MN, MO, NE, ND, SD)\t\n",
    "5\tSoutheast (AL, AR, FL, GA, KY, LA, MS, NC, SC, TN, VA, WV)\t\n",
    "6\tSouthwest (AZ, NM, OK, TX)\t\n",
    "7\tRocky Mountains (CO, ID, MT, UT, WY)\t\n",
    "8\tFar West (AK, CA, HI, NV, OR, WA)\t\n",
    "9\tOutlying Areas (AS, FM, GU, MH, MP, PR, PW, VI)\n",
    "\n",
    "The lowest withdrawal rates comes from the New England States. This also makes sense as Massachussets is ranked as one of the most educated states and contains various highly ranked schools. \n",
    "\n",
    "It appears that schools in the East Coast (New Englad and Mid East) schools have lower withdraw rates and schools that are in the Southeast / South West regions have high withdraw rates. \n",
    "\n",
    "This can also correlate to the incomes around the American South. "
   ]
  },
  {
   "cell_type": "code",
   "execution_count": 136,
   "metadata": {},
   "outputs": [
    {
     "data": {
      "image/png": "[encoded data removed]",
      "text/plain": [
       "<Figure size 432x288 with 1 Axes>"
      ]
     },
     "metadata": {
      "needs_background": "light"
     },
     "output_type": "display_data"
    }
   ],
   "source": [
    "sns.barplot(x = 'REGION', y = 'WDRAW_ORIG_YR2_RT', data = df_school)\n",
    "plt.show()"
   ]
  },
  {
   "attachments": {},
   "cell_type": "markdown",
   "metadata": {},
   "source": [
    "### Types of institutions and withdraw rates. \n",
    "\n",
    "It appears that institutions that have high withdraw rates are Public institutions. \n",
    "\n",
    "The second appears to be Private For-Profit instituitions. \n",
    "\n",
    "Public institutions may have higher withdraw rates due to the higher number of students attending these institutions and also on the basis that it most likely admits more students from low income families (which may be more at risk to withdraw due to financial responsibilities) \n",
    "\n",
    "- 1\tPublic\n",
    "- 2\tPrivate nonprofit\n",
    "- 3\tPrivate for-profit"
   ]
  },
  {
   "cell_type": "code",
   "execution_count": 137,
   "metadata": {},
   "outputs": [
    {
     "data": {
      "image/png": "[encoded data removed]",
      "text/plain": [
       "<Figure size 432x288 with 1 Axes>"
      ]
     },
     "metadata": {
      "needs_background": "light"
     },
     "output_type": "display_data"
    }
   ],
   "source": [
    "sns.barplot(x = 'CONTROL', y = 'WDRAW_ORIG_YR2_RT', data = df_school)\n",
    "plt.show()"
   ]
  },
  {
   "cell_type": "markdown",
   "metadata": {},
   "source": [
    "### Does distance matter?\n",
    "\n",
    "With the rise of online education and its flexibility - people might get the assumption that online education will reduce withdraw rates but, it looks like institutions that offer online only education tend to have a higher withdraw rates than those with face to face classes. \n",
    "\n",
    "This goes to show that there may need more research before schools switch to distance only classes and distance only schools need to evaluate what is causing students to withdraw.\n",
    "\n",
    "- 1 Distance Only \n",
    "- 0 Face to face (Non-distance) "
   ]
  },
  {
   "cell_type": "code",
   "execution_count": 138,
   "metadata": {},
   "outputs": [
    {
     "data": {
      "image/png": "[encoded data removed]",
      "text/plain": [
       "<Figure size 432x288 with 1 Axes>"
      ]
     },
     "metadata": {
      "needs_background": "light"
     },
     "output_type": "display_data"
    }
   ],
   "source": [
    "sns.barplot(x = 'DISTANCEONLY', y = 'WDRAW_ORIG_YR2_RT', data = df_school)\n",
    "plt.show()"
   ]
  },
  {
   "cell_type": "markdown",
   "metadata": {},
   "source": [
    "# Test Train Split:\n",
    "\n",
    "Similar to above, I did a train test split. The test size being 20% and the rest being train. \n",
    "\n",
    "There are 22 features (excluding the target which is the most recent Withdraw rate)."
   ]
  },
  {
   "cell_type": "code",
   "execution_count": 139,
   "metadata": {},
   "outputs": [
    {
     "name": "stdout",
     "output_type": "stream",
     "text": [
      "(6162, 22)\n",
      "(7703, 23)\n"
     ]
    }
   ],
   "source": [
    "from sklearn.model_selection import train_test_split\n",
    "data = df_school.loc[:,df_school.columns != 'WDRAW_ORIG_YR2_RT']\n",
    "target = df_school['WDRAW_ORIG_YR2_RT']\n",
    "X_train, X_test, y_train, y_test = train_test_split(data, target, test_size=0.20) \n",
    "print(X_train.shape)\n",
    "print(df_school.shape)"
   ]
  },
  {
   "cell_type": "code",
   "execution_count": 140,
   "metadata": {},
   "outputs": [
    {
     "data": {
      "text/html": [
       "<div>\n",
       "<style scoped>\n",
       "    .dataframe tbody tr th:only-of-type {\n",
       "        vertical-align: middle;\n",
       "    }\n",
       "\n",
       "    .dataframe tbody tr th {\n",
       "        vertical-align: top;\n",
       "    }\n",
       "\n",
       "    .dataframe thead th {\n",
       "        text-align: right;\n",
       "    }\n",
       "</style>\n",
       "<table border=\"1\" class=\"dataframe\">\n",
       "  <thead>\n",
       "    <tr style=\"text-align: right;\">\n",
       "      <th></th>\n",
       "      <th>UNITID</th>\n",
       "      <th>PREDDEG</th>\n",
       "      <th>CONTROL</th>\n",
       "      <th>REGION</th>\n",
       "      <th>LOCALE</th>\n",
       "      <th>HBCU</th>\n",
       "      <th>HSI</th>\n",
       "      <th>MENONLY</th>\n",
       "      <th>WOMENONLY</th>\n",
       "      <th>ADM_RATE</th>\n",
       "      <th>...</th>\n",
       "      <th>UG</th>\n",
       "      <th>UGDS_WHITE</th>\n",
       "      <th>UGDS_BLACK</th>\n",
       "      <th>UGDS_HISP</th>\n",
       "      <th>UGDS_ASIAN</th>\n",
       "      <th>TUITIONFEE_IN</th>\n",
       "      <th>TUITIONFEE_OUT</th>\n",
       "      <th>PFTFAC</th>\n",
       "      <th>PCTPELL</th>\n",
       "      <th>AVGFACSAL</th>\n",
       "    </tr>\n",
       "  </thead>\n",
       "  <tbody>\n",
       "    <tr>\n",
       "      <th>2713</th>\n",
       "      <td>198756.0</td>\n",
       "      <td>3.0</td>\n",
       "      <td>2.0</td>\n",
       "      <td>5.0</td>\n",
       "      <td>0.0</td>\n",
       "      <td>0.0</td>\n",
       "      <td>0.0</td>\n",
       "      <td>0.0</td>\n",
       "      <td>0.0</td>\n",
       "      <td>0.4225</td>\n",
       "      <td>...</td>\n",
       "      <td>0.0</td>\n",
       "      <td>0.0036</td>\n",
       "      <td>0.7345</td>\n",
       "      <td>0.0618</td>\n",
       "      <td>0.0007</td>\n",
       "      <td>18236.0</td>\n",
       "      <td>18236.0</td>\n",
       "      <td>0.6236</td>\n",
       "      <td>0.6647</td>\n",
       "      <td>6127.0</td>\n",
       "    </tr>\n",
       "    <tr>\n",
       "      <th>1421</th>\n",
       "      <td>156903.0</td>\n",
       "      <td>2.0</td>\n",
       "      <td>3.0</td>\n",
       "      <td>5.0</td>\n",
       "      <td>0.0</td>\n",
       "      <td>0.0</td>\n",
       "      <td>0.0</td>\n",
       "      <td>0.0</td>\n",
       "      <td>0.0</td>\n",
       "      <td>0.0000</td>\n",
       "      <td>...</td>\n",
       "      <td>0.0</td>\n",
       "      <td>0.6596</td>\n",
       "      <td>0.2340</td>\n",
       "      <td>0.0000</td>\n",
       "      <td>0.0000</td>\n",
       "      <td>17000.0</td>\n",
       "      <td>17000.0</td>\n",
       "      <td>0.0000</td>\n",
       "      <td>0.8721</td>\n",
       "      <td>3562.0</td>\n",
       "    </tr>\n",
       "    <tr>\n",
       "      <th>3001</th>\n",
       "      <td>206011.0</td>\n",
       "      <td>2.0</td>\n",
       "      <td>1.0</td>\n",
       "      <td>3.0</td>\n",
       "      <td>0.0</td>\n",
       "      <td>0.0</td>\n",
       "      <td>0.0</td>\n",
       "      <td>0.0</td>\n",
       "      <td>0.0</td>\n",
       "      <td>0.0000</td>\n",
       "      <td>...</td>\n",
       "      <td>0.0</td>\n",
       "      <td>0.8303</td>\n",
       "      <td>0.0422</td>\n",
       "      <td>0.0908</td>\n",
       "      <td>0.0040</td>\n",
       "      <td>4442.0</td>\n",
       "      <td>6976.0</td>\n",
       "      <td>0.2094</td>\n",
       "      <td>0.4365</td>\n",
       "      <td>6154.0</td>\n",
       "    </tr>\n",
       "    <tr>\n",
       "      <th>4307</th>\n",
       "      <td>246789.0</td>\n",
       "      <td>4.0</td>\n",
       "      <td>2.0</td>\n",
       "      <td>2.0</td>\n",
       "      <td>0.0</td>\n",
       "      <td>0.0</td>\n",
       "      <td>0.0</td>\n",
       "      <td>0.0</td>\n",
       "      <td>0.0</td>\n",
       "      <td>0.0000</td>\n",
       "      <td>...</td>\n",
       "      <td>0.0</td>\n",
       "      <td>0.3030</td>\n",
       "      <td>0.0606</td>\n",
       "      <td>0.1212</td>\n",
       "      <td>0.0909</td>\n",
       "      <td>24500.0</td>\n",
       "      <td>24500.0</td>\n",
       "      <td>0.0000</td>\n",
       "      <td>0.0000</td>\n",
       "      <td>5532.0</td>\n",
       "    </tr>\n",
       "    <tr>\n",
       "      <th>6709</th>\n",
       "      <td>466523.0</td>\n",
       "      <td>2.0</td>\n",
       "      <td>3.0</td>\n",
       "      <td>1.0</td>\n",
       "      <td>0.0</td>\n",
       "      <td>0.0</td>\n",
       "      <td>0.0</td>\n",
       "      <td>0.0</td>\n",
       "      <td>0.0</td>\n",
       "      <td>0.0000</td>\n",
       "      <td>...</td>\n",
       "      <td>0.0</td>\n",
       "      <td>0.3580</td>\n",
       "      <td>0.1605</td>\n",
       "      <td>0.3951</td>\n",
       "      <td>0.0000</td>\n",
       "      <td>0.0</td>\n",
       "      <td>0.0</td>\n",
       "      <td>0.0000</td>\n",
       "      <td>0.8584</td>\n",
       "      <td>0.0</td>\n",
       "    </tr>\n",
       "  </tbody>\n",
       "</table>\n",
       "<p>5 rows × 22 columns</p>\n",
       "</div>"
      ],
      "text/plain": [
       "        UNITID  PREDDEG  CONTROL  REGION  LOCALE  HBCU  HSI  MENONLY  \\\n",
       "2713  198756.0      3.0      2.0     5.0     0.0   0.0  0.0      0.0   \n",
       "1421  156903.0      2.0      3.0     5.0     0.0   0.0  0.0      0.0   \n",
       "3001  206011.0      2.0      1.0     3.0     0.0   0.0  0.0      0.0   \n",
       "4307  246789.0      4.0      2.0     2.0     0.0   0.0  0.0      0.0   \n",
       "6709  466523.0      2.0      3.0     1.0     0.0   0.0  0.0      0.0   \n",
       "\n",
       "      WOMENONLY  ADM_RATE    ...       UG  UGDS_WHITE  UGDS_BLACK  UGDS_HISP  \\\n",
       "2713        0.0    0.4225    ...      0.0      0.0036      0.7345     0.0618   \n",
       "1421        0.0    0.0000    ...      0.0      0.6596      0.2340     0.0000   \n",
       "3001        0.0    0.0000    ...      0.0      0.8303      0.0422     0.0908   \n",
       "4307        0.0    0.0000    ...      0.0      0.3030      0.0606     0.1212   \n",
       "6709        0.0    0.0000    ...      0.0      0.3580      0.1605     0.3951   \n",
       "\n",
       "      UGDS_ASIAN  TUITIONFEE_IN  TUITIONFEE_OUT  PFTFAC  PCTPELL  AVGFACSAL  \n",
       "2713      0.0007        18236.0         18236.0  0.6236   0.6647     6127.0  \n",
       "1421      0.0000        17000.0         17000.0  0.0000   0.8721     3562.0  \n",
       "3001      0.0040         4442.0          6976.0  0.2094   0.4365     6154.0  \n",
       "4307      0.0909        24500.0         24500.0  0.0000   0.0000     5532.0  \n",
       "6709      0.0000            0.0             0.0  0.0000   0.8584        0.0  \n",
       "\n",
       "[5 rows x 22 columns]"
      ]
     },
     "execution_count": 140,
     "metadata": {},
     "output_type": "execute_result"
    }
   ],
   "source": [
    "X_train.head()"
   ]
  },
  {
   "cell_type": "code",
   "execution_count": 141,
   "metadata": {},
   "outputs": [
    {
     "data": {
      "text/html": [
       "<div>\n",
       "<style scoped>\n",
       "    .dataframe tbody tr th:only-of-type {\n",
       "        vertical-align: middle;\n",
       "    }\n",
       "\n",
       "    .dataframe tbody tr th {\n",
       "        vertical-align: top;\n",
       "    }\n",
       "\n",
       "    .dataframe thead th {\n",
       "        text-align: right;\n",
       "    }\n",
       "</style>\n",
       "<table border=\"1\" class=\"dataframe\">\n",
       "  <thead>\n",
       "    <tr style=\"text-align: right;\">\n",
       "      <th></th>\n",
       "      <th>UNITID</th>\n",
       "      <th>PREDDEG</th>\n",
       "      <th>CONTROL</th>\n",
       "      <th>REGION</th>\n",
       "      <th>LOCALE</th>\n",
       "      <th>HBCU</th>\n",
       "      <th>HSI</th>\n",
       "      <th>MENONLY</th>\n",
       "      <th>WOMENONLY</th>\n",
       "      <th>ADM_RATE</th>\n",
       "      <th>...</th>\n",
       "      <th>UG</th>\n",
       "      <th>UGDS_WHITE</th>\n",
       "      <th>UGDS_BLACK</th>\n",
       "      <th>UGDS_HISP</th>\n",
       "      <th>UGDS_ASIAN</th>\n",
       "      <th>TUITIONFEE_IN</th>\n",
       "      <th>TUITIONFEE_OUT</th>\n",
       "      <th>PFTFAC</th>\n",
       "      <th>PCTPELL</th>\n",
       "      <th>AVGFACSAL</th>\n",
       "    </tr>\n",
       "  </thead>\n",
       "  <tbody>\n",
       "    <tr>\n",
       "      <th>2013</th>\n",
       "      <td>176770.0</td>\n",
       "      <td>3.0</td>\n",
       "      <td>2.0</td>\n",
       "      <td>4.0</td>\n",
       "      <td>0.0</td>\n",
       "      <td>0.0</td>\n",
       "      <td>0.0</td>\n",
       "      <td>0.0</td>\n",
       "      <td>0.0</td>\n",
       "      <td>0.5455</td>\n",
       "      <td>...</td>\n",
       "      <td>0.0</td>\n",
       "      <td>0.9409</td>\n",
       "      <td>0.0108</td>\n",
       "      <td>0.0215</td>\n",
       "      <td>0.0108</td>\n",
       "      <td>10150.0</td>\n",
       "      <td>10150.0</td>\n",
       "      <td>0.7789</td>\n",
       "      <td>0.4760</td>\n",
       "      <td>6503.0</td>\n",
       "    </tr>\n",
       "    <tr>\n",
       "      <th>894</th>\n",
       "      <td>139384.0</td>\n",
       "      <td>1.0</td>\n",
       "      <td>1.0</td>\n",
       "      <td>5.0</td>\n",
       "      <td>0.0</td>\n",
       "      <td>0.0</td>\n",
       "      <td>0.0</td>\n",
       "      <td>0.0</td>\n",
       "      <td>0.0</td>\n",
       "      <td>0.0000</td>\n",
       "      <td>...</td>\n",
       "      <td>0.0</td>\n",
       "      <td>0.7815</td>\n",
       "      <td>0.1017</td>\n",
       "      <td>0.0870</td>\n",
       "      <td>0.0067</td>\n",
       "      <td>2674.0</td>\n",
       "      <td>4810.0</td>\n",
       "      <td>0.0000</td>\n",
       "      <td>0.6639</td>\n",
       "      <td>4627.0</td>\n",
       "    </tr>\n",
       "    <tr>\n",
       "      <th>5483</th>\n",
       "      <td>442620.0</td>\n",
       "      <td>1.0</td>\n",
       "      <td>3.0</td>\n",
       "      <td>8.0</td>\n",
       "      <td>0.0</td>\n",
       "      <td>0.0</td>\n",
       "      <td>0.0</td>\n",
       "      <td>0.0</td>\n",
       "      <td>0.0</td>\n",
       "      <td>0.0000</td>\n",
       "      <td>...</td>\n",
       "      <td>0.0</td>\n",
       "      <td>0.5556</td>\n",
       "      <td>0.0180</td>\n",
       "      <td>0.1502</td>\n",
       "      <td>0.0270</td>\n",
       "      <td>0.0</td>\n",
       "      <td>0.0</td>\n",
       "      <td>0.0000</td>\n",
       "      <td>0.6161</td>\n",
       "      <td>0.0</td>\n",
       "    </tr>\n",
       "    <tr>\n",
       "      <th>6095</th>\n",
       "      <td>453482.0</td>\n",
       "      <td>2.0</td>\n",
       "      <td>3.0</td>\n",
       "      <td>3.0</td>\n",
       "      <td>0.0</td>\n",
       "      <td>0.0</td>\n",
       "      <td>0.0</td>\n",
       "      <td>0.0</td>\n",
       "      <td>0.0</td>\n",
       "      <td>0.0000</td>\n",
       "      <td>...</td>\n",
       "      <td>0.0</td>\n",
       "      <td>0.4750</td>\n",
       "      <td>0.2250</td>\n",
       "      <td>0.0125</td>\n",
       "      <td>0.0000</td>\n",
       "      <td>11550.0</td>\n",
       "      <td>11550.0</td>\n",
       "      <td>0.0000</td>\n",
       "      <td>0.7805</td>\n",
       "      <td>3574.0</td>\n",
       "    </tr>\n",
       "    <tr>\n",
       "      <th>3694</th>\n",
       "      <td>225201.0</td>\n",
       "      <td>2.0</td>\n",
       "      <td>2.0</td>\n",
       "      <td>6.0</td>\n",
       "      <td>0.0</td>\n",
       "      <td>0.0</td>\n",
       "      <td>0.0</td>\n",
       "      <td>0.0</td>\n",
       "      <td>0.0</td>\n",
       "      <td>0.0000</td>\n",
       "      <td>...</td>\n",
       "      <td>0.0</td>\n",
       "      <td>0.2914</td>\n",
       "      <td>0.1002</td>\n",
       "      <td>0.5268</td>\n",
       "      <td>0.0291</td>\n",
       "      <td>0.0</td>\n",
       "      <td>0.0</td>\n",
       "      <td>1.0000</td>\n",
       "      <td>0.6072</td>\n",
       "      <td>4849.0</td>\n",
       "    </tr>\n",
       "  </tbody>\n",
       "</table>\n",
       "<p>5 rows × 22 columns</p>\n",
       "</div>"
      ],
      "text/plain": [
       "        UNITID  PREDDEG  CONTROL  REGION  LOCALE  HBCU  HSI  MENONLY  \\\n",
       "2013  176770.0      3.0      2.0     4.0     0.0   0.0  0.0      0.0   \n",
       "894   139384.0      1.0      1.0     5.0     0.0   0.0  0.0      0.0   \n",
       "5483  442620.0      1.0      3.0     8.0     0.0   0.0  0.0      0.0   \n",
       "6095  453482.0      2.0      3.0     3.0     0.0   0.0  0.0      0.0   \n",
       "3694  225201.0      2.0      2.0     6.0     0.0   0.0  0.0      0.0   \n",
       "\n",
       "      WOMENONLY  ADM_RATE    ...       UG  UGDS_WHITE  UGDS_BLACK  UGDS_HISP  \\\n",
       "2013        0.0    0.5455    ...      0.0      0.9409      0.0108     0.0215   \n",
       "894         0.0    0.0000    ...      0.0      0.7815      0.1017     0.0870   \n",
       "5483        0.0    0.0000    ...      0.0      0.5556      0.0180     0.1502   \n",
       "6095        0.0    0.0000    ...      0.0      0.4750      0.2250     0.0125   \n",
       "3694        0.0    0.0000    ...      0.0      0.2914      0.1002     0.5268   \n",
       "\n",
       "      UGDS_ASIAN  TUITIONFEE_IN  TUITIONFEE_OUT  PFTFAC  PCTPELL  AVGFACSAL  \n",
       "2013      0.0108        10150.0         10150.0  0.7789   0.4760     6503.0  \n",
       "894       0.0067         2674.0          4810.0  0.0000   0.6639     4627.0  \n",
       "5483      0.0270            0.0             0.0  0.0000   0.6161        0.0  \n",
       "6095      0.0000        11550.0         11550.0  0.0000   0.7805     3574.0  \n",
       "3694      0.0291            0.0             0.0  1.0000   0.6072     4849.0  \n",
       "\n",
       "[5 rows x 22 columns]"
      ]
     },
     "execution_count": 141,
     "metadata": {},
     "output_type": "execute_result"
    }
   ],
   "source": [
    "X_test.head()"
   ]
  },
  {
   "cell_type": "markdown",
   "metadata": {},
   "source": [
    "# Model Selection and Results:\n",
    "\n",
    "I used the models similar to above. I used the Ridge Regression as a good baseline. I then used Random Forest to see the most important feature. Both of these models were done by GridSearch to select the best parameters. "
   ]
  },
  {
   "cell_type": "markdown",
   "metadata": {},
   "source": [
    "# Ridge Regression: \n",
    "\n",
    "The first model I did was Ridge Regression. The model performed poorly compared to previous two models with a score of 27% for the Test and 31% for the train. \n",
    "\n",
    "I also do a Gridsearch and the results were similar to the default parameters. "
   ]
  },
  {
   "cell_type": "code",
   "execution_count": 142,
   "metadata": {},
   "outputs": [
    {
     "name": "stdout",
     "output_type": "stream",
     "text": [
      "0.28971482381555\n",
      "0.3136740508470729\n"
     ]
    }
   ],
   "source": [
    "from sklearn.linear_model import LogisticRegression\n",
    "ridgeregr = linear_model.Ridge()\n",
    "ridgeregr.fit(X_train, y_train)\n",
    "print(ridgeregr.score(X_test, y_test))\n",
    "print(ridgeregr.score(X_train, y_train))"
   ]
  },
  {
   "cell_type": "code",
   "execution_count": 143,
   "metadata": {},
   "outputs": [
    {
     "name": "stdout",
     "output_type": "stream",
     "text": [
      "0.28972358729341763\n",
      "CPU times: user 55.2 ms, sys: 33.7 ms, total: 88.9 ms\n",
      "Wall time: 111 ms\n"
     ]
    }
   ],
   "source": [
    "from sklearn.model_selection import GridSearchCV\n",
    "ridgeregr = linear_model.Ridge()\n",
    "parameters = [{'alpha': [1, 10, 100, 1000]}]\n",
    "grid_search = GridSearchCV(estimator = ridgeregr, \n",
    "                          param_grid = parameters,\n",
    "                          scoring = 'explained_variance',\n",
    "                          n_jobs = -1)\n",
    "grid_search = grid_search.fit(X_train, y_train)\n",
    "print(grid_search.score(X_test, y_test))\n",
    "%time grid_search = grid_search.fit(X_train, y_train)"
   ]
  },
  {
   "cell_type": "markdown",
   "metadata": {},
   "source": [
    "## Cross-Validation with Ridge Regression: \n",
    "\n",
    "Here, I did a Cross Validation which shows that most of the scores are consistent (I did a 10 fold CV so, some of the scores twoards the end is a bit lower).\n",
    "\n",
    "The scores are consistent so, I concluded that there wasn't large overfitting in the data. "
   ]
  },
  {
   "cell_type": "code",
   "execution_count": 144,
   "metadata": {},
   "outputs": [
    {
     "data": {
      "text/plain": [
       "array([  0.34387814,   0.39631238,   0.41727474,   0.2758285 ,\n",
       "         0.31656104,   0.28900301,   0.05057797,   0.20107521,\n",
       "         0.31628847, -14.10061793])"
      ]
     },
     "execution_count": 144,
     "metadata": {},
     "output_type": "execute_result"
    }
   ],
   "source": [
    "from sklearn.model_selection import cross_val_score\n",
    "cross_val_score(ridgeregr, data, target, cv=10)"
   ]
  },
  {
   "cell_type": "markdown",
   "metadata": {},
   "source": [
    "# Random Forest:\n",
    "\n",
    "Secondly, I did Random Forest as it performed the best in above models. From Random Forest, you can see that the train set performed really well and the test score performed similarly to models above with a 62.34%. \n",
    "\n",
    "After doing a GridSearch, the score went up to 65%. "
   ]
  },
  {
   "cell_type": "code",
   "execution_count": 145,
   "metadata": {},
   "outputs": [
    {
     "name": "stdout",
     "output_type": "stream",
     "text": [
      "0.9361785955171104\n",
      "0.6341740222787453\n"
     ]
    }
   ],
   "source": [
    "from sklearn.ensemble import RandomForestRegressor\n",
    "model = RandomForestRegressor()\n",
    "model.fit(X_train, y_train)\n",
    "print(model.score(X_train, y_train))\n",
    "print(model.score(X_test, y_test))\n",
    "ypred = model.predict(X_test)"
   ]
  },
  {
   "cell_type": "code",
   "execution_count": 146,
   "metadata": {},
   "outputs": [
    {
     "data": {
      "text/plain": [
       "array([ 0.66238578,  0.66884667,  0.68535285,  0.63061751,  0.66670798,\n",
       "        0.54048938,  0.54668929,  0.55409594,  0.55215123, -0.33174954])"
      ]
     },
     "execution_count": 146,
     "metadata": {},
     "output_type": "execute_result"
    }
   ],
   "source": [
    "from sklearn.model_selection import cross_val_score\n",
    "cross_val_score(model, data, target, cv=10)"
   ]
  },
  {
   "cell_type": "code",
   "execution_count": 147,
   "metadata": {},
   "outputs": [
    {
     "name": "stdout",
     "output_type": "stream",
     "text": [
      "CPU times: user 4.83 s, sys: 128 ms, total: 4.95 s\n",
      "Wall time: 27 s\n"
     ]
    }
   ],
   "source": [
    "from sklearn.model_selection import GridSearchCV\n",
    "parameters = [{'n_estimators': [1, 10, 100], #optimal set of parameters in the internal range of parameters\n",
    "               'max_depth': [1, 10, 100]}]\n",
    "grid_search = GridSearchCV(estimator = model, \n",
    "                          param_grid = parameters, \n",
    "                          scoring = 'explained_variance',\n",
    "                          cv = 5,\n",
    "                          n_jobs = -1)\n",
    "%time grid_search = grid_search.fit(X_train, y_train)\n",
    "\n",
    "\n"
   ]
  },
  {
   "cell_type": "code",
   "execution_count": 148,
   "metadata": {},
   "outputs": [
    {
     "name": "stdout",
     "output_type": "stream",
     "text": [
      "{'max_depth': 100, 'n_estimators': 100}\n",
      "0.6731872082092741\n"
     ]
    }
   ],
   "source": [
    "print(grid_search.best_params_)\n",
    "print(grid_search.score(X_test, y_test))"
   ]
  },
  {
   "cell_type": "markdown",
   "metadata": {},
   "source": [
    "# Feature Importance using Random Forest:\n",
    "\n",
    "Here, I looked at the most important features. Tuition In-State and Tuition Out of State were the most important features. This makes sense as a school's tuition will correlate to a student dropping out. If tuition is high, students may be more likely to drop out as not being able to afford attending the school. \n",
    "\n",
    "The other interesting features were Percentage of Students recieving the Pell Grant. "
   ]
  },
  {
   "cell_type": "code",
   "execution_count": 149,
   "metadata": {},
   "outputs": [],
   "source": [
    "feature_importances = pd.DataFrame(model.feature_importances_, index = X_train.columns, columns = ['importance']).sort_values('importance', ascending = False)"
   ]
  },
  {
   "cell_type": "code",
   "execution_count": 150,
   "metadata": {},
   "outputs": [
    {
     "data": {
      "text/html": [
       "<div>\n",
       "<style scoped>\n",
       "    .dataframe tbody tr th:only-of-type {\n",
       "        vertical-align: middle;\n",
       "    }\n",
       "\n",
       "    .dataframe tbody tr th {\n",
       "        vertical-align: top;\n",
       "    }\n",
       "\n",
       "    .dataframe thead th {\n",
       "        text-align: right;\n",
       "    }\n",
       "</style>\n",
       "<table border=\"1\" class=\"dataframe\">\n",
       "  <thead>\n",
       "    <tr style=\"text-align: right;\">\n",
       "      <th></th>\n",
       "      <th>importance</th>\n",
       "    </tr>\n",
       "  </thead>\n",
       "  <tbody>\n",
       "    <tr>\n",
       "      <th>TUITIONFEE_IN</th>\n",
       "      <td>0.274537</td>\n",
       "    </tr>\n",
       "    <tr>\n",
       "      <th>ADM_RATE</th>\n",
       "      <td>0.159581</td>\n",
       "    </tr>\n",
       "    <tr>\n",
       "      <th>UNITID</th>\n",
       "      <td>0.087229</td>\n",
       "    </tr>\n",
       "    <tr>\n",
       "      <th>PCTPELL</th>\n",
       "      <td>0.084981</td>\n",
       "    </tr>\n",
       "    <tr>\n",
       "      <th>UGDS_BLACK</th>\n",
       "      <td>0.068410</td>\n",
       "    </tr>\n",
       "    <tr>\n",
       "      <th>CONTROL</th>\n",
       "      <td>0.065533</td>\n",
       "    </tr>\n",
       "    <tr>\n",
       "      <th>UGDS_WHITE</th>\n",
       "      <td>0.052602</td>\n",
       "    </tr>\n",
       "    <tr>\n",
       "      <th>UGDS_HISP</th>\n",
       "      <td>0.040372</td>\n",
       "    </tr>\n",
       "    <tr>\n",
       "      <th>TUITIONFEE_OUT</th>\n",
       "      <td>0.038515</td>\n",
       "    </tr>\n",
       "    <tr>\n",
       "      <th>UGDS_ASIAN</th>\n",
       "      <td>0.034152</td>\n",
       "    </tr>\n",
       "    <tr>\n",
       "      <th>AVGFACSAL</th>\n",
       "      <td>0.029252</td>\n",
       "    </tr>\n",
       "    <tr>\n",
       "      <th>PFTFAC</th>\n",
       "      <td>0.020518</td>\n",
       "    </tr>\n",
       "    <tr>\n",
       "      <th>REGION</th>\n",
       "      <td>0.020308</td>\n",
       "    </tr>\n",
       "    <tr>\n",
       "      <th>PREDDEG</th>\n",
       "      <td>0.020174</td>\n",
       "    </tr>\n",
       "    <tr>\n",
       "      <th>SAT_AVG</th>\n",
       "      <td>0.003063</td>\n",
       "    </tr>\n",
       "    <tr>\n",
       "      <th>DISTANCEONLY</th>\n",
       "      <td>0.000772</td>\n",
       "    </tr>\n",
       "    <tr>\n",
       "      <th>UG</th>\n",
       "      <td>0.000000</td>\n",
       "    </tr>\n",
       "    <tr>\n",
       "      <th>WOMENONLY</th>\n",
       "      <td>0.000000</td>\n",
       "    </tr>\n",
       "    <tr>\n",
       "      <th>MENONLY</th>\n",
       "      <td>0.000000</td>\n",
       "    </tr>\n",
       "    <tr>\n",
       "      <th>HSI</th>\n",
       "      <td>0.000000</td>\n",
       "    </tr>\n",
       "    <tr>\n",
       "      <th>HBCU</th>\n",
       "      <td>0.000000</td>\n",
       "    </tr>\n",
       "    <tr>\n",
       "      <th>LOCALE</th>\n",
       "      <td>0.000000</td>\n",
       "    </tr>\n",
       "  </tbody>\n",
       "</table>\n",
       "</div>"
      ],
      "text/plain": [
       "                importance\n",
       "TUITIONFEE_IN     0.274537\n",
       "ADM_RATE          0.159581\n",
       "UNITID            0.087229\n",
       "PCTPELL           0.084981\n",
       "UGDS_BLACK        0.068410\n",
       "CONTROL           0.065533\n",
       "UGDS_WHITE        0.052602\n",
       "UGDS_HISP         0.040372\n",
       "TUITIONFEE_OUT    0.038515\n",
       "UGDS_ASIAN        0.034152\n",
       "AVGFACSAL         0.029252\n",
       "PFTFAC            0.020518\n",
       "REGION            0.020308\n",
       "PREDDEG           0.020174\n",
       "SAT_AVG           0.003063\n",
       "DISTANCEONLY      0.000772\n",
       "UG                0.000000\n",
       "WOMENONLY         0.000000\n",
       "MENONLY           0.000000\n",
       "HSI               0.000000\n",
       "HBCU              0.000000\n",
       "LOCALE            0.000000"
      ]
     },
     "execution_count": 150,
     "metadata": {},
     "output_type": "execute_result"
    }
   ],
   "source": [
    "feature_importances"
   ]
  },
  {
   "cell_type": "code",
   "execution_count": 151,
   "metadata": {},
   "outputs": [
    {
     "data": {
      "image/png": "[encoded data removed]",
      "text/plain": [
       "<Figure size 432x288 with 1 Axes>"
      ]
     },
     "metadata": {
      "needs_background": "light"
     },
     "output_type": "display_data"
    }
   ],
   "source": [
    "feature_importance = model.feature_importances_\n",
    "feature_importance = (feature_importance / feature_importance.max())\n",
    "sorted_idx = np.argsort(feature_importance)\n",
    "pos = np.arange(sorted_idx.shape[0]) + .5\n",
    "plt.subplot(1, 2, 2)\n",
    "plt.barh(pos, feature_importance[sorted_idx], align='center')\n",
    "plt.yticks(pos, X_train.columns[sorted_idx])\n",
    "plt.xlabel('Feature Importance Evaluation')\n",
    "plt.title('Feature Importance')\n",
    "plt.show()"
   ]
  },
  {
   "cell_type": "markdown",
   "metadata": {},
   "source": [
    "# Limitations: \n",
    "\n",
    "This dataset is really large. It has over 1900+ features. It is impossible to get into everything and evaluate it properly in this project alone. It is also important to note that the dataset is only focused on U.S. colleges / universities so, it does not address any international schools. \n",
    "\n",
    "As there were so many features, it was difficult to do a PCA analysis and actually get helpful insights. Since I did have to manually select features I found to be interesting, this might not be reflective of actual dataset and there might be feature that is not included here. \n",
    "\n",
    "There are other factors that may be a cause for a student dropping out (pursuit of better opportunities, better job, military service, entrepeunership etc). It is important to have prespective and understand that withdraw might not always mean something negative. "
   ]
  },
  {
   "cell_type": "markdown",
   "metadata": {},
   "source": [
    "# Applications:\n",
    "\n",
    "I find this project to be helpful for colleges / universities. The first modeling approaches shows universities areas that they can improve upon. They can use historical data to correctly predict future drop out rates. They can use these rates to provide services/ support to their students to aid in lowering future withdraw rates in general. \n",
    "\n",
    "For students, I find the last modeling approach to be the most helpful. They can see which regions have lower drop out rates (if I was a student, betting on a New England college would not be a bad bet). Similarly, students also need to factor in the tuition of the institution that they are attending. If these features are provided by the students, we can predict drop out rates for other institutions not included here as well. \n"
   ]
  },
  {
   "cell_type": "markdown",
   "metadata": {},
   "source": [
    "# Conclusion & Other Areas of Exploration: \n",
    "\n",
    "Overall, this is a very interesting problem to look at. There are various factors that leads to a student dropping out from a university. Understanding of these factors by both stakeholders, college and students, will lead to better implementation of programs and services that can prevent students from dropping out. \n",
    "\n",
    "An area of exploration apperas to be online / distance education. Distance education has a much larger drop out rate compared to traditional education method. As online education has increased over the years, will that prove to be true? How can distance only institutions better equip themselves so, students do not drop out? \n",
    "\n",
    "I think this is a great opportunity for online education & can provide valuable insights into changing the education landscape in the future. "
   ]
  }
 ],
 "metadata": {
  "kernelspec": {
   "display_name": "Python 3",
   "language": "python",
   "name": "python3"
  },
  "language_info": {
   "codemirror_mode": {
    "name": "ipython",
    "version": 3
   },
   "file_extension": ".py",
   "mimetype": "text/x-python",
   "name": "python",
   "nbconvert_exporter": "python",
   "pygments_lexer": "ipython3",
   "version": "3.7.1"
  }
 },
 "nbformat": 4,
 "nbformat_minor": 2
}
